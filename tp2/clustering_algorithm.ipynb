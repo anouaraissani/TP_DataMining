{
  "cells": [
    {
      "cell_type": "code",
      "execution_count": 416,
      "metadata": {
        "id": "ziOVRkM7ph6P"
      },
      "outputs": [],
      "source": [
        "import pandas as pd\n",
        "import numpy as np\n",
        "import matplotlib.pyplot as plt\n",
        "from math import inf\n",
        "from sklearn.datasets import load_iris\n",
        "from sklearn.preprocessing import StandardScaler\n",
        "\n",
        "#for kmeans\n",
        "import sklearn as sk\n",
        "%matplotlib inline\n",
        "from sklearn.cluster import KMeans"
      ]
    },
    {
      "cell_type": "code",
      "execution_count": 417,
      "metadata": {
        "colab": {
          "base_uri": "https://localhost:8080/",
          "height": 424
        },
        "id": "JwLX22j3M2Dq",
        "outputId": "f08300dd-f44c-461e-f4c9-2d052a38e581"
      },
      "outputs": [
        {
          "data": {
            "text/html": [
              "\n",
              "  <div id=\"df-e2db47df-ec55-4039-8e39-7c237e57c8e9\">\n",
              "    <div class=\"colab-df-container\">\n",
              "      <div>\n",
              "<style scoped>\n",
              "    .dataframe tbody tr th:only-of-type {\n",
              "        vertical-align: middle;\n",
              "    }\n",
              "\n",
              "    .dataframe tbody tr th {\n",
              "        vertical-align: top;\n",
              "    }\n",
              "\n",
              "    .dataframe thead tr th {\n",
              "        text-align: left;\n",
              "    }\n",
              "</style>\n",
              "<table border=\"1\" class=\"dataframe\">\n",
              "  <thead>\n",
              "    <tr>\n",
              "      <th></th>\n",
              "      <th>X</th>\n",
              "      <th>Y</th>\n",
              "    </tr>\n",
              "  </thead>\n",
              "  <tbody>\n",
              "    <tr>\n",
              "      <th>0</th>\n",
              "      <td>5.1</td>\n",
              "      <td>3.5</td>\n",
              "    </tr>\n",
              "    <tr>\n",
              "      <th>1</th>\n",
              "      <td>4.9</td>\n",
              "      <td>3.0</td>\n",
              "    </tr>\n",
              "    <tr>\n",
              "      <th>2</th>\n",
              "      <td>4.7</td>\n",
              "      <td>3.2</td>\n",
              "    </tr>\n",
              "    <tr>\n",
              "      <th>3</th>\n",
              "      <td>4.6</td>\n",
              "      <td>3.1</td>\n",
              "    </tr>\n",
              "    <tr>\n",
              "      <th>4</th>\n",
              "      <td>5.0</td>\n",
              "      <td>3.6</td>\n",
              "    </tr>\n",
              "    <tr>\n",
              "      <th>...</th>\n",
              "      <td>...</td>\n",
              "      <td>...</td>\n",
              "    </tr>\n",
              "    <tr>\n",
              "      <th>145</th>\n",
              "      <td>6.7</td>\n",
              "      <td>3.0</td>\n",
              "    </tr>\n",
              "    <tr>\n",
              "      <th>146</th>\n",
              "      <td>6.3</td>\n",
              "      <td>2.5</td>\n",
              "    </tr>\n",
              "    <tr>\n",
              "      <th>147</th>\n",
              "      <td>6.5</td>\n",
              "      <td>3.0</td>\n",
              "    </tr>\n",
              "    <tr>\n",
              "      <th>148</th>\n",
              "      <td>6.2</td>\n",
              "      <td>3.4</td>\n",
              "    </tr>\n",
              "    <tr>\n",
              "      <th>149</th>\n",
              "      <td>5.9</td>\n",
              "      <td>3.0</td>\n",
              "    </tr>\n",
              "  </tbody>\n",
              "</table>\n",
              "<p>150 rows × 2 columns</p>\n",
              "</div>\n",
              "      <button class=\"colab-df-convert\" onclick=\"convertToInteractive('df-e2db47df-ec55-4039-8e39-7c237e57c8e9')\"\n",
              "              title=\"Convert this dataframe to an interactive table.\"\n",
              "              style=\"display:none;\">\n",
              "        \n",
              "  <svg xmlns=\"http://www.w3.org/2000/svg\" height=\"24px\"viewBox=\"0 0 24 24\"\n",
              "       width=\"24px\">\n",
              "    <path d=\"M0 0h24v24H0V0z\" fill=\"none\"/>\n",
              "    <path d=\"M18.56 5.44l.94 2.06.94-2.06 2.06-.94-2.06-.94-.94-2.06-.94 2.06-2.06.94zm-11 1L8.5 8.5l.94-2.06 2.06-.94-2.06-.94L8.5 2.5l-.94 2.06-2.06.94zm10 10l.94 2.06.94-2.06 2.06-.94-2.06-.94-.94-2.06-.94 2.06-2.06.94z\"/><path d=\"M17.41 7.96l-1.37-1.37c-.4-.4-.92-.59-1.43-.59-.52 0-1.04.2-1.43.59L10.3 9.45l-7.72 7.72c-.78.78-.78 2.05 0 2.83L4 21.41c.39.39.9.59 1.41.59.51 0 1.02-.2 1.41-.59l7.78-7.78 2.81-2.81c.8-.78.8-2.07 0-2.86zM5.41 20L4 18.59l7.72-7.72 1.47 1.35L5.41 20z\"/>\n",
              "  </svg>\n",
              "      </button>\n",
              "      \n",
              "  <style>\n",
              "    .colab-df-container {\n",
              "      display:flex;\n",
              "      flex-wrap:wrap;\n",
              "      gap: 12px;\n",
              "    }\n",
              "\n",
              "    .colab-df-convert {\n",
              "      background-color: #E8F0FE;\n",
              "      border: none;\n",
              "      border-radius: 50%;\n",
              "      cursor: pointer;\n",
              "      display: none;\n",
              "      fill: #1967D2;\n",
              "      height: 32px;\n",
              "      padding: 0 0 0 0;\n",
              "      width: 32px;\n",
              "    }\n",
              "\n",
              "    .colab-df-convert:hover {\n",
              "      background-color: #E2EBFA;\n",
              "      box-shadow: 0px 1px 2px rgba(60, 64, 67, 0.3), 0px 1px 3px 1px rgba(60, 64, 67, 0.15);\n",
              "      fill: #174EA6;\n",
              "    }\n",
              "\n",
              "    [theme=dark] .colab-df-convert {\n",
              "      background-color: #3B4455;\n",
              "      fill: #D2E3FC;\n",
              "    }\n",
              "\n",
              "    [theme=dark] .colab-df-convert:hover {\n",
              "      background-color: #434B5C;\n",
              "      box-shadow: 0px 1px 3px 1px rgba(0, 0, 0, 0.15);\n",
              "      filter: drop-shadow(0px 1px 2px rgba(0, 0, 0, 0.3));\n",
              "      fill: #FFFFFF;\n",
              "    }\n",
              "  </style>\n",
              "\n",
              "      <script>\n",
              "        const buttonEl =\n",
              "          document.querySelector('#df-e2db47df-ec55-4039-8e39-7c237e57c8e9 button.colab-df-convert');\n",
              "        buttonEl.style.display =\n",
              "          google.colab.kernel.accessAllowed ? 'block' : 'none';\n",
              "\n",
              "        async function convertToInteractive(key) {\n",
              "          const element = document.querySelector('#df-e2db47df-ec55-4039-8e39-7c237e57c8e9');\n",
              "          const dataTable =\n",
              "            await google.colab.kernel.invokeFunction('convertToInteractive',\n",
              "                                                     [key], {});\n",
              "          if (!dataTable) return;\n",
              "\n",
              "          const docLinkHtml = 'Like what you see? Visit the ' +\n",
              "            '<a target=\"_blank\" href=https://colab.research.google.com/notebooks/data_table.ipynb>data table notebook</a>'\n",
              "            + ' to learn more about interactive tables.';\n",
              "          element.innerHTML = '';\n",
              "          dataTable['output_type'] = 'display_data';\n",
              "          await google.colab.output.renderOutput(dataTable, element);\n",
              "          const docLink = document.createElement('div');\n",
              "          docLink.innerHTML = docLinkHtml;\n",
              "          element.appendChild(docLink);\n",
              "        }\n",
              "      </script>\n",
              "    </div>\n",
              "  </div>\n",
              "  "
            ],
            "text/plain": [
              "       X    Y\n",
              "0    5.1  3.5\n",
              "1    4.9  3.0\n",
              "2    4.7  3.2\n",
              "3    4.6  3.1\n",
              "4    5.0  3.6\n",
              "..   ...  ...\n",
              "145  6.7  3.0\n",
              "146  6.3  2.5\n",
              "147  6.5  3.0\n",
              "148  6.2  3.4\n",
              "149  5.9  3.0\n",
              "\n",
              "[150 rows x 2 columns]"
            ]
          },
          "execution_count": 417,
          "metadata": {},
          "output_type": "execute_result"
        }
      ],
      "source": [
        "iris = load_iris()\n",
        "iris.data\n",
        "d = iris.data[:,0:2]\n",
        "df = pd.DataFrame(data=d, columns=[['X','Y']])\n",
        "df"
      ]
    },
    {
      "cell_type": "markdown",
      "metadata": {
        "id": "cOjuamB9975k"
      },
      "source": [
        "# Scaling the data"
      ]
    },
    {
      "cell_type": "code",
      "execution_count": 418,
      "metadata": {
        "colab": {
          "base_uri": "https://localhost:8080/",
          "height": 516
        },
        "id": "ui8m-UmTNN_W",
        "outputId": "0eae612f-a34b-4318-8313-6839caf6b42e"
      },
      "outputs": [
        {
          "name": "stderr",
          "output_type": "stream",
          "text": [
            "/usr/local/lib/python3.8/dist-packages/sklearn/utils/validation.py:1688: FutureWarning: Feature names only support names that are all strings. Got feature names with dtypes: ['tuple']. An error will be raised in 1.2.\n",
            "  warnings.warn(\n",
            "/usr/local/lib/python3.8/dist-packages/sklearn/utils/validation.py:1688: FutureWarning: Feature names only support names that are all strings. Got feature names with dtypes: ['tuple']. An error will be raised in 1.2.\n",
            "  warnings.warn(\n"
          ]
        },
        {
          "data": {
            "text/html": [
              "\n",
              "  <div id=\"df-282038eb-cc8c-45f8-933a-977700f601af\">\n",
              "    <div class=\"colab-df-container\">\n",
              "      <div>\n",
              "<style scoped>\n",
              "    .dataframe tbody tr th:only-of-type {\n",
              "        vertical-align: middle;\n",
              "    }\n",
              "\n",
              "    .dataframe tbody tr th {\n",
              "        vertical-align: top;\n",
              "    }\n",
              "\n",
              "    .dataframe thead tr th {\n",
              "        text-align: left;\n",
              "    }\n",
              "</style>\n",
              "<table border=\"1\" class=\"dataframe\">\n",
              "  <thead>\n",
              "    <tr>\n",
              "      <th></th>\n",
              "      <th>X</th>\n",
              "      <th>Y</th>\n",
              "    </tr>\n",
              "  </thead>\n",
              "  <tbody>\n",
              "    <tr>\n",
              "      <th>0</th>\n",
              "      <td>-0.900681</td>\n",
              "      <td>1.019004</td>\n",
              "    </tr>\n",
              "    <tr>\n",
              "      <th>1</th>\n",
              "      <td>-1.143017</td>\n",
              "      <td>-0.131979</td>\n",
              "    </tr>\n",
              "    <tr>\n",
              "      <th>2</th>\n",
              "      <td>-1.385353</td>\n",
              "      <td>0.328414</td>\n",
              "    </tr>\n",
              "    <tr>\n",
              "      <th>3</th>\n",
              "      <td>-1.506521</td>\n",
              "      <td>0.098217</td>\n",
              "    </tr>\n",
              "    <tr>\n",
              "      <th>4</th>\n",
              "      <td>-1.021849</td>\n",
              "      <td>1.249201</td>\n",
              "    </tr>\n",
              "    <tr>\n",
              "      <th>...</th>\n",
              "      <td>...</td>\n",
              "      <td>...</td>\n",
              "    </tr>\n",
              "    <tr>\n",
              "      <th>145</th>\n",
              "      <td>1.038005</td>\n",
              "      <td>-0.131979</td>\n",
              "    </tr>\n",
              "    <tr>\n",
              "      <th>146</th>\n",
              "      <td>0.553333</td>\n",
              "      <td>-1.282963</td>\n",
              "    </tr>\n",
              "    <tr>\n",
              "      <th>147</th>\n",
              "      <td>0.795669</td>\n",
              "      <td>-0.131979</td>\n",
              "    </tr>\n",
              "    <tr>\n",
              "      <th>148</th>\n",
              "      <td>0.432165</td>\n",
              "      <td>0.788808</td>\n",
              "    </tr>\n",
              "    <tr>\n",
              "      <th>149</th>\n",
              "      <td>0.068662</td>\n",
              "      <td>-0.131979</td>\n",
              "    </tr>\n",
              "  </tbody>\n",
              "</table>\n",
              "<p>150 rows × 2 columns</p>\n",
              "</div>\n",
              "      <button class=\"colab-df-convert\" onclick=\"convertToInteractive('df-282038eb-cc8c-45f8-933a-977700f601af')\"\n",
              "              title=\"Convert this dataframe to an interactive table.\"\n",
              "              style=\"display:none;\">\n",
              "        \n",
              "  <svg xmlns=\"http://www.w3.org/2000/svg\" height=\"24px\"viewBox=\"0 0 24 24\"\n",
              "       width=\"24px\">\n",
              "    <path d=\"M0 0h24v24H0V0z\" fill=\"none\"/>\n",
              "    <path d=\"M18.56 5.44l.94 2.06.94-2.06 2.06-.94-2.06-.94-.94-2.06-.94 2.06-2.06.94zm-11 1L8.5 8.5l.94-2.06 2.06-.94-2.06-.94L8.5 2.5l-.94 2.06-2.06.94zm10 10l.94 2.06.94-2.06 2.06-.94-2.06-.94-.94-2.06-.94 2.06-2.06.94z\"/><path d=\"M17.41 7.96l-1.37-1.37c-.4-.4-.92-.59-1.43-.59-.52 0-1.04.2-1.43.59L10.3 9.45l-7.72 7.72c-.78.78-.78 2.05 0 2.83L4 21.41c.39.39.9.59 1.41.59.51 0 1.02-.2 1.41-.59l7.78-7.78 2.81-2.81c.8-.78.8-2.07 0-2.86zM5.41 20L4 18.59l7.72-7.72 1.47 1.35L5.41 20z\"/>\n",
              "  </svg>\n",
              "      </button>\n",
              "      \n",
              "  <style>\n",
              "    .colab-df-container {\n",
              "      display:flex;\n",
              "      flex-wrap:wrap;\n",
              "      gap: 12px;\n",
              "    }\n",
              "\n",
              "    .colab-df-convert {\n",
              "      background-color: #E8F0FE;\n",
              "      border: none;\n",
              "      border-radius: 50%;\n",
              "      cursor: pointer;\n",
              "      display: none;\n",
              "      fill: #1967D2;\n",
              "      height: 32px;\n",
              "      padding: 0 0 0 0;\n",
              "      width: 32px;\n",
              "    }\n",
              "\n",
              "    .colab-df-convert:hover {\n",
              "      background-color: #E2EBFA;\n",
              "      box-shadow: 0px 1px 2px rgba(60, 64, 67, 0.3), 0px 1px 3px 1px rgba(60, 64, 67, 0.15);\n",
              "      fill: #174EA6;\n",
              "    }\n",
              "\n",
              "    [theme=dark] .colab-df-convert {\n",
              "      background-color: #3B4455;\n",
              "      fill: #D2E3FC;\n",
              "    }\n",
              "\n",
              "    [theme=dark] .colab-df-convert:hover {\n",
              "      background-color: #434B5C;\n",
              "      box-shadow: 0px 1px 3px 1px rgba(0, 0, 0, 0.15);\n",
              "      filter: drop-shadow(0px 1px 2px rgba(0, 0, 0, 0.3));\n",
              "      fill: #FFFFFF;\n",
              "    }\n",
              "  </style>\n",
              "\n",
              "      <script>\n",
              "        const buttonEl =\n",
              "          document.querySelector('#df-282038eb-cc8c-45f8-933a-977700f601af button.colab-df-convert');\n",
              "        buttonEl.style.display =\n",
              "          google.colab.kernel.accessAllowed ? 'block' : 'none';\n",
              "\n",
              "        async function convertToInteractive(key) {\n",
              "          const element = document.querySelector('#df-282038eb-cc8c-45f8-933a-977700f601af');\n",
              "          const dataTable =\n",
              "            await google.colab.kernel.invokeFunction('convertToInteractive',\n",
              "                                                     [key], {});\n",
              "          if (!dataTable) return;\n",
              "\n",
              "          const docLinkHtml = 'Like what you see? Visit the ' +\n",
              "            '<a target=\"_blank\" href=https://colab.research.google.com/notebooks/data_table.ipynb>data table notebook</a>'\n",
              "            + ' to learn more about interactive tables.';\n",
              "          element.innerHTML = '';\n",
              "          dataTable['output_type'] = 'display_data';\n",
              "          await google.colab.output.renderOutput(dataTable, element);\n",
              "          const docLink = document.createElement('div');\n",
              "          docLink.innerHTML = docLinkHtml;\n",
              "          element.appendChild(docLink);\n",
              "        }\n",
              "      </script>\n",
              "    </div>\n",
              "  </div>\n",
              "  "
            ],
            "text/plain": [
              "            X         Y\n",
              "0   -0.900681  1.019004\n",
              "1   -1.143017 -0.131979\n",
              "2   -1.385353  0.328414\n",
              "3   -1.506521  0.098217\n",
              "4   -1.021849  1.249201\n",
              "..        ...       ...\n",
              "145  1.038005 -0.131979\n",
              "146  0.553333 -1.282963\n",
              "147  0.795669 -0.131979\n",
              "148  0.432165  0.788808\n",
              "149  0.068662 -0.131979\n",
              "\n",
              "[150 rows x 2 columns]"
            ]
          },
          "execution_count": 418,
          "metadata": {},
          "output_type": "execute_result"
        }
      ],
      "source": [
        "scaler = StandardScaler()\n",
        "df[['X','Y']] = scaler.fit_transform(df[['X','Y']])\n",
        "df"
      ]
    },
    {
      "cell_type": "code",
      "execution_count": 419,
      "metadata": {
        "colab": {
          "base_uri": "https://localhost:8080/",
          "height": 297
        },
        "id": "P_nxbLlyph6U",
        "outputId": "59a4698b-8b6e-4e7a-f3f7-cd5ff603d1ac"
      },
      "outputs": [
        {
          "data": {
            "text/plain": [
              "Text(0, 0.5, 'Y')"
            ]
          },
          "execution_count": 419,
          "metadata": {},
          "output_type": "execute_result"
        },
        {
          "data": {
            "image/png": "[encoded data removed]",
            "text/plain": [
              "<Figure size 432x288 with 1 Axes>"
            ]
          },
          "metadata": {
            "needs_background": "light"
          },
          "output_type": "display_data"
        }
      ],
      "source": [
        "plt.scatter(df['X'], df['Y'])\n",
        "plt.xlabel('X')\n",
        "plt.ylabel('Y')"
      ]
    },
    {
      "cell_type": "markdown",
      "metadata": {
        "id": "-f-nU08vph6V"
      },
      "source": [
        "# The distance between all the points"
      ]
    },
    {
      "cell_type": "code",
      "execution_count": 420,
      "metadata": {
        "colab": {
          "base_uri": "https://localhost:8080/",
          "height": 488
        },
        "id": "dY9aliwOph6X",
        "outputId": "247ba4f8-4a6d-4932-e073-e155eb4cd939"
      },
      "outputs": [
        {
          "data": {
            "text/html": [
              "\n",
              "  <div id=\"df-17d24f7c-0caa-4be9-8c20-002ca1efd162\">\n",
              "    <div class=\"colab-df-container\">\n",
              "      <div>\n",
              "<style scoped>\n",
              "    .dataframe tbody tr th:only-of-type {\n",
              "        vertical-align: middle;\n",
              "    }\n",
              "\n",
              "    .dataframe tbody tr th {\n",
              "        vertical-align: top;\n",
              "    }\n",
              "\n",
              "    .dataframe thead th {\n",
              "        text-align: right;\n",
              "    }\n",
              "</style>\n",
              "<table border=\"1\" class=\"dataframe\">\n",
              "  <thead>\n",
              "    <tr style=\"text-align: right;\">\n",
              "      <th></th>\n",
              "      <th>0</th>\n",
              "      <th>1</th>\n",
              "      <th>2</th>\n",
              "      <th>3</th>\n",
              "      <th>4</th>\n",
              "      <th>5</th>\n",
              "      <th>6</th>\n",
              "      <th>7</th>\n",
              "      <th>8</th>\n",
              "      <th>9</th>\n",
              "      <th>...</th>\n",
              "      <th>140</th>\n",
              "      <th>141</th>\n",
              "      <th>142</th>\n",
              "      <th>143</th>\n",
              "      <th>144</th>\n",
              "      <th>145</th>\n",
              "      <th>146</th>\n",
              "      <th>147</th>\n",
              "      <th>148</th>\n",
              "      <th>149</th>\n",
              "    </tr>\n",
              "  </thead>\n",
              "  <tbody>\n",
              "    <tr>\n",
              "      <th>0</th>\n",
              "      <td>inf</td>\n",
              "      <td>1.176219</td>\n",
              "      <td>0.843695</td>\n",
              "      <td>1.102221</td>\n",
              "      <td>0.260139</td>\n",
              "      <td>0.989941</td>\n",
              "      <td>0.648099</td>\n",
              "      <td>0.260139</td>\n",
              "      <td>1.620821</td>\n",
              "      <td>0.952143</td>\n",
              "      <td>...</td>\n",
              "      <td>2.146241</td>\n",
              "      <td>2.367426</td>\n",
              "      <td>2.027510</td>\n",
              "      <td>2.172536</td>\n",
              "      <td>1.992603</td>\n",
              "      <td>2.254610</td>\n",
              "      <td>2.722722</td>\n",
              "      <td>2.049968</td>\n",
              "      <td>1.352579</td>\n",
              "      <td>1.504789</td>\n",
              "    </tr>\n",
              "    <tr>\n",
              "      <th>1</th>\n",
              "      <td>inf</td>\n",
              "      <td>inf</td>\n",
              "      <td>0.520278</td>\n",
              "      <td>0.430262</td>\n",
              "      <td>1.386485</td>\n",
              "      <td>2.158536</td>\n",
              "      <td>0.989941</td>\n",
              "      <td>0.928725</td>\n",
              "      <td>0.648099</td>\n",
              "      <td>0.230197</td>\n",
              "      <td>...</td>\n",
              "      <td>2.193136</td>\n",
              "      <td>2.434266</td>\n",
              "      <td>1.290786</td>\n",
              "      <td>2.347773</td>\n",
              "      <td>2.287744</td>\n",
              "      <td>2.181022</td>\n",
              "      <td>2.049968</td>\n",
              "      <td>1.938686</td>\n",
              "      <td>1.824568</td>\n",
              "      <td>1.211679</td>\n",
              "    </tr>\n",
              "    <tr>\n",
              "      <th>2</th>\n",
              "      <td>inf</td>\n",
              "      <td>inf</td>\n",
              "      <td>inf</td>\n",
              "      <td>0.260139</td>\n",
              "      <td>0.989941</td>\n",
              "      <td>1.820972</td>\n",
              "      <td>0.476071</td>\n",
              "      <td>0.586598</td>\n",
              "      <td>0.780416</td>\n",
              "      <td>0.334241</td>\n",
              "      <td>...</td>\n",
              "      <td>2.434266</td>\n",
              "      <td>2.675614</td>\n",
              "      <td>1.761035</td>\n",
              "      <td>2.544525</td>\n",
              "      <td>2.434266</td>\n",
              "      <td>2.466703</td>\n",
              "      <td>2.520920</td>\n",
              "      <td>2.229085</td>\n",
              "      <td>1.874922</td>\n",
              "      <td>1.525162</td>\n",
              "    </tr>\n",
              "    <tr>\n",
              "      <th>3</th>\n",
              "      <td>inf</td>\n",
              "      <td>inf</td>\n",
              "      <td>inf</td>\n",
              "      <td>inf</td>\n",
              "      <td>1.248868</td>\n",
              "      <td>2.081111</td>\n",
              "      <td>0.690590</td>\n",
              "      <td>0.843695</td>\n",
              "      <td>0.520278</td>\n",
              "      <td>0.363504</td>\n",
              "      <td>...</td>\n",
              "      <td>2.544525</td>\n",
              "      <td>2.786861</td>\n",
              "      <td>1.721048</td>\n",
              "      <td>2.675614</td>\n",
              "      <td>2.585841</td>\n",
              "      <td>2.554917</td>\n",
              "      <td>2.480052</td>\n",
              "      <td>2.313670</td>\n",
              "      <td>2.058013</td>\n",
              "      <td>1.591914</td>\n",
              "    </tr>\n",
              "    <tr>\n",
              "      <th>4</th>\n",
              "      <td>inf</td>\n",
              "      <td>inf</td>\n",
              "      <td>inf</td>\n",
              "      <td>inf</td>\n",
              "      <td>inf</td>\n",
              "      <td>0.843695</td>\n",
              "      <td>0.668482</td>\n",
              "      <td>0.460394</td>\n",
              "      <td>1.767789</td>\n",
              "      <td>1.157344</td>\n",
              "      <td>...</td>\n",
              "      <td>2.359610</td>\n",
              "      <td>2.573877</td>\n",
              "      <td>2.287326</td>\n",
              "      <td>2.367426</td>\n",
              "      <td>2.172536</td>\n",
              "      <td>2.480052</td>\n",
              "      <td>2.982123</td>\n",
              "      <td>2.282768</td>\n",
              "      <td>1.525162</td>\n",
              "      <td>1.759794</td>\n",
              "    </tr>\n",
              "    <tr>\n",
              "      <th>...</th>\n",
              "      <td>...</td>\n",
              "      <td>...</td>\n",
              "      <td>...</td>\n",
              "      <td>...</td>\n",
              "      <td>...</td>\n",
              "      <td>...</td>\n",
              "      <td>...</td>\n",
              "      <td>...</td>\n",
              "      <td>...</td>\n",
              "      <td>...</td>\n",
              "      <td>...</td>\n",
              "      <td>...</td>\n",
              "      <td>...</td>\n",
              "      <td>...</td>\n",
              "      <td>...</td>\n",
              "      <td>...</td>\n",
              "      <td>...</td>\n",
              "      <td>...</td>\n",
              "      <td>...</td>\n",
              "      <td>...</td>\n",
              "      <td>...</td>\n",
              "    </tr>\n",
              "    <tr>\n",
              "      <th>145</th>\n",
              "      <td>inf</td>\n",
              "      <td>inf</td>\n",
              "      <td>inf</td>\n",
              "      <td>inf</td>\n",
              "      <td>inf</td>\n",
              "      <td>inf</td>\n",
              "      <td>inf</td>\n",
              "      <td>inf</td>\n",
              "      <td>inf</td>\n",
              "      <td>inf</td>\n",
              "      <td>...</td>\n",
              "      <td>inf</td>\n",
              "      <td>inf</td>\n",
              "      <td>inf</td>\n",
              "      <td>inf</td>\n",
              "      <td>inf</td>\n",
              "      <td>inf</td>\n",
              "      <td>1.248868</td>\n",
              "      <td>0.242336</td>\n",
              "      <td>1.102221</td>\n",
              "      <td>0.969343</td>\n",
              "    </tr>\n",
              "    <tr>\n",
              "      <th>146</th>\n",
              "      <td>inf</td>\n",
              "      <td>inf</td>\n",
              "      <td>inf</td>\n",
              "      <td>inf</td>\n",
              "      <td>inf</td>\n",
              "      <td>inf</td>\n",
              "      <td>inf</td>\n",
              "      <td>inf</td>\n",
              "      <td>inf</td>\n",
              "      <td>inf</td>\n",
              "      <td>...</td>\n",
              "      <td>inf</td>\n",
              "      <td>inf</td>\n",
              "      <td>inf</td>\n",
              "      <td>inf</td>\n",
              "      <td>inf</td>\n",
              "      <td>inf</td>\n",
              "      <td>inf</td>\n",
              "      <td>1.176219</td>\n",
              "      <td>2.075311</td>\n",
              "      <td>1.248868</td>\n",
              "    </tr>\n",
              "    <tr>\n",
              "      <th>147</th>\n",
              "      <td>inf</td>\n",
              "      <td>inf</td>\n",
              "      <td>inf</td>\n",
              "      <td>inf</td>\n",
              "      <td>inf</td>\n",
              "      <td>inf</td>\n",
              "      <td>inf</td>\n",
              "      <td>inf</td>\n",
              "      <td>inf</td>\n",
              "      <td>inf</td>\n",
              "      <td>...</td>\n",
              "      <td>inf</td>\n",
              "      <td>inf</td>\n",
              "      <td>inf</td>\n",
              "      <td>inf</td>\n",
              "      <td>inf</td>\n",
              "      <td>inf</td>\n",
              "      <td>inf</td>\n",
              "      <td>inf</td>\n",
              "      <td>0.989941</td>\n",
              "      <td>0.727007</td>\n",
              "    </tr>\n",
              "    <tr>\n",
              "      <th>148</th>\n",
              "      <td>inf</td>\n",
              "      <td>inf</td>\n",
              "      <td>inf</td>\n",
              "      <td>inf</td>\n",
              "      <td>inf</td>\n",
              "      <td>inf</td>\n",
              "      <td>inf</td>\n",
              "      <td>inf</td>\n",
              "      <td>inf</td>\n",
              "      <td>inf</td>\n",
              "      <td>...</td>\n",
              "      <td>inf</td>\n",
              "      <td>inf</td>\n",
              "      <td>inf</td>\n",
              "      <td>inf</td>\n",
              "      <td>inf</td>\n",
              "      <td>inf</td>\n",
              "      <td>inf</td>\n",
              "      <td>inf</td>\n",
              "      <td>inf</td>\n",
              "      <td>0.989941</td>\n",
              "    </tr>\n",
              "    <tr>\n",
              "      <th>149</th>\n",
              "      <td>inf</td>\n",
              "      <td>inf</td>\n",
              "      <td>inf</td>\n",
              "      <td>inf</td>\n",
              "      <td>inf</td>\n",
              "      <td>inf</td>\n",
              "      <td>inf</td>\n",
              "      <td>inf</td>\n",
              "      <td>inf</td>\n",
              "      <td>inf</td>\n",
              "      <td>...</td>\n",
              "      <td>inf</td>\n",
              "      <td>inf</td>\n",
              "      <td>inf</td>\n",
              "      <td>inf</td>\n",
              "      <td>inf</td>\n",
              "      <td>inf</td>\n",
              "      <td>inf</td>\n",
              "      <td>inf</td>\n",
              "      <td>inf</td>\n",
              "      <td>inf</td>\n",
              "    </tr>\n",
              "  </tbody>\n",
              "</table>\n",
              "<p>150 rows × 150 columns</p>\n",
              "</div>\n",
              "      <button class=\"colab-df-convert\" onclick=\"convertToInteractive('df-17d24f7c-0caa-4be9-8c20-002ca1efd162')\"\n",
              "              title=\"Convert this dataframe to an interactive table.\"\n",
              "              style=\"display:none;\">\n",
              "        \n",
              "  <svg xmlns=\"http://www.w3.org/2000/svg\" height=\"24px\"viewBox=\"0 0 24 24\"\n",
              "       width=\"24px\">\n",
              "    <path d=\"M0 0h24v24H0V0z\" fill=\"none\"/>\n",
              "    <path d=\"M18.56 5.44l.94 2.06.94-2.06 2.06-.94-2.06-.94-.94-2.06-.94 2.06-2.06.94zm-11 1L8.5 8.5l.94-2.06 2.06-.94-2.06-.94L8.5 2.5l-.94 2.06-2.06.94zm10 10l.94 2.06.94-2.06 2.06-.94-2.06-.94-.94-2.06-.94 2.06-2.06.94z\"/><path d=\"M17.41 7.96l-1.37-1.37c-.4-.4-.92-.59-1.43-.59-.52 0-1.04.2-1.43.59L10.3 9.45l-7.72 7.72c-.78.78-.78 2.05 0 2.83L4 21.41c.39.39.9.59 1.41.59.51 0 1.02-.2 1.41-.59l7.78-7.78 2.81-2.81c.8-.78.8-2.07 0-2.86zM5.41 20L4 18.59l7.72-7.72 1.47 1.35L5.41 20z\"/>\n",
              "  </svg>\n",
              "      </button>\n",
              "      \n",
              "  <style>\n",
              "    .colab-df-container {\n",
              "      display:flex;\n",
              "      flex-wrap:wrap;\n",
              "      gap: 12px;\n",
              "    }\n",
              "\n",
              "    .colab-df-convert {\n",
              "      background-color: #E8F0FE;\n",
              "      border: none;\n",
              "      border-radius: 50%;\n",
              "      cursor: pointer;\n",
              "      display: none;\n",
              "      fill: #1967D2;\n",
              "      height: 32px;\n",
              "      padding: 0 0 0 0;\n",
              "      width: 32px;\n",
              "    }\n",
              "\n",
              "    .colab-df-convert:hover {\n",
              "      background-color: #E2EBFA;\n",
              "      box-shadow: 0px 1px 2px rgba(60, 64, 67, 0.3), 0px 1px 3px 1px rgba(60, 64, 67, 0.15);\n",
              "      fill: #174EA6;\n",
              "    }\n",
              "\n",
              "    [theme=dark] .colab-df-convert {\n",
              "      background-color: #3B4455;\n",
              "      fill: #D2E3FC;\n",
              "    }\n",
              "\n",
              "    [theme=dark] .colab-df-convert:hover {\n",
              "      background-color: #434B5C;\n",
              "      box-shadow: 0px 1px 3px 1px rgba(0, 0, 0, 0.15);\n",
              "      filter: drop-shadow(0px 1px 2px rgba(0, 0, 0, 0.3));\n",
              "      fill: #FFFFFF;\n",
              "    }\n",
              "  </style>\n",
              "\n",
              "      <script>\n",
              "        const buttonEl =\n",
              "          document.querySelector('#df-17d24f7c-0caa-4be9-8c20-002ca1efd162 button.colab-df-convert');\n",
              "        buttonEl.style.display =\n",
              "          google.colab.kernel.accessAllowed ? 'block' : 'none';\n",
              "\n",
              "        async function convertToInteractive(key) {\n",
              "          const element = document.querySelector('#df-17d24f7c-0caa-4be9-8c20-002ca1efd162');\n",
              "          const dataTable =\n",
              "            await google.colab.kernel.invokeFunction('convertToInteractive',\n",
              "                                                     [key], {});\n",
              "          if (!dataTable) return;\n",
              "\n",
              "          const docLinkHtml = 'Like what you see? Visit the ' +\n",
              "            '<a target=\"_blank\" href=https://colab.research.google.com/notebooks/data_table.ipynb>data table notebook</a>'\n",
              "            + ' to learn more about interactive tables.';\n",
              "          element.innerHTML = '';\n",
              "          dataTable['output_type'] = 'display_data';\n",
              "          await google.colab.output.renderOutput(dataTable, element);\n",
              "          const docLink = document.createElement('div');\n",
              "          docLink.innerHTML = docLinkHtml;\n",
              "          element.appendChild(docLink);\n",
              "        }\n",
              "      </script>\n",
              "    </div>\n",
              "  </div>\n",
              "  "
            ],
            "text/plain": [
              "     0         1         2         3         4         5         6    \\\n",
              "0    inf  1.176219  0.843695  1.102221  0.260139  0.989941  0.648099   \n",
              "1    inf       inf  0.520278  0.430262  1.386485  2.158536  0.989941   \n",
              "2    inf       inf       inf  0.260139  0.989941  1.820972  0.476071   \n",
              "3    inf       inf       inf       inf  1.248868  2.081111  0.690590   \n",
              "4    inf       inf       inf       inf       inf  0.843695  0.668482   \n",
              "..   ...       ...       ...       ...       ...       ...       ...   \n",
              "145  inf       inf       inf       inf       inf       inf       inf   \n",
              "146  inf       inf       inf       inf       inf       inf       inf   \n",
              "147  inf       inf       inf       inf       inf       inf       inf   \n",
              "148  inf       inf       inf       inf       inf       inf       inf   \n",
              "149  inf       inf       inf       inf       inf       inf       inf   \n",
              "\n",
              "          7         8         9    ...       140       141       142  \\\n",
              "0    0.260139  1.620821  0.952143  ...  2.146241  2.367426  2.027510   \n",
              "1    0.928725  0.648099  0.230197  ...  2.193136  2.434266  1.290786   \n",
              "2    0.586598  0.780416  0.334241  ...  2.434266  2.675614  1.761035   \n",
              "3    0.843695  0.520278  0.363504  ...  2.544525  2.786861  1.721048   \n",
              "4    0.460394  1.767789  1.157344  ...  2.359610  2.573877  2.287326   \n",
              "..        ...       ...       ...  ...       ...       ...       ...   \n",
              "145       inf       inf       inf  ...       inf       inf       inf   \n",
              "146       inf       inf       inf  ...       inf       inf       inf   \n",
              "147       inf       inf       inf  ...       inf       inf       inf   \n",
              "148       inf       inf       inf  ...       inf       inf       inf   \n",
              "149       inf       inf       inf  ...       inf       inf       inf   \n",
              "\n",
              "          143       144       145       146       147       148       149  \n",
              "0    2.172536  1.992603  2.254610  2.722722  2.049968  1.352579  1.504789  \n",
              "1    2.347773  2.287744  2.181022  2.049968  1.938686  1.824568  1.211679  \n",
              "2    2.544525  2.434266  2.466703  2.520920  2.229085  1.874922  1.525162  \n",
              "3    2.675614  2.585841  2.554917  2.480052  2.313670  2.058013  1.591914  \n",
              "4    2.367426  2.172536  2.480052  2.982123  2.282768  1.525162  1.759794  \n",
              "..        ...       ...       ...       ...       ...       ...       ...  \n",
              "145       inf       inf       inf  1.248868  0.242336  1.102221  0.969343  \n",
              "146       inf       inf       inf       inf  1.176219  2.075311  1.248868  \n",
              "147       inf       inf       inf       inf       inf  0.989941  0.727007  \n",
              "148       inf       inf       inf       inf       inf       inf  0.989941  \n",
              "149       inf       inf       inf       inf       inf       inf       inf  \n",
              "\n",
              "[150 rows x 150 columns]"
            ]
          },
          "execution_count": 420,
          "metadata": {},
          "output_type": "execute_result"
        }
      ],
      "source": [
        "distances = df.T.apply(lambda x: np.sqrt(((df - x) ** 2).sum(axis=1)))\n",
        "for i in range(len(distances)):\n",
        "    for j in range(len(distances)):\n",
        "        if(i >= j):\n",
        "            distances.iat[i,j] = inf\n",
        "distances"
      ]
    },
    {
      "cell_type": "markdown",
      "metadata": {
        "id": "WbOwZ_oTKaP8"
      },
      "source": [
        "# Calculate the mean of all distances"
      ]
    },
    {
      "cell_type": "code",
      "execution_count": 421,
      "metadata": {
        "colab": {
          "base_uri": "https://localhost:8080/"
        },
        "id": "oowC8jvPiAwY",
        "outputId": "0c3b57df-c0e8-462d-f465-d83516a1ef9e"
      },
      "outputs": [
        {
          "data": {
            "text/plain": [
              "1.7795463672293457"
            ]
          },
          "execution_count": 421,
          "metadata": {},
          "output_type": "execute_result"
        }
      ],
      "source": [
        "m = 0\n",
        "k = 0\n",
        "for i in range(len(distances)):\n",
        "    for j in range(len(distances)):\n",
        "        if(distances.iat[i,j] != inf):\n",
        "           k = k+1\n",
        "           m = m + distances.iat[i,j] \n",
        "m = m / k\n",
        "\n",
        "m\n",
        "\n"
      ]
    },
    {
      "cell_type": "markdown",
      "metadata": {
        "id": "M61NLqvb-dRZ"
      },
      "source": [
        "# Retrieve the index of min value"
      ]
    },
    {
      "cell_type": "code",
      "execution_count": 422,
      "metadata": {
        "colab": {
          "base_uri": "https://localhost:8080/"
        },
        "id": "YYNHGTgT-RGK",
        "outputId": "36f001d3-6bcf-410c-9e9d-ab033ede8e4e"
      },
      "outputs": [
        {
          "name": "stdout",
          "output_type": "stream",
          "text": [
            "0.0\n",
            "[0, 17]\n"
          ]
        }
      ],
      "source": [
        "minval = min(distances.min())\n",
        "\n",
        "print(minval)\n",
        "for i in range(len(distances)):\n",
        "    for j in range(len(distances)):\n",
        "        if(distances.iloc[i,j]==minval):\n",
        "          minindice = [i, j]\n",
        "    break\n",
        "\n",
        "print(minindice)\n"
      ]
    },
    {
      "cell_type": "markdown",
      "metadata": {
        "id": "qB7K6vK6DArB"
      },
      "source": [
        "# Initialize points list"
      ]
    },
    {
      "cell_type": "code",
      "execution_count": 423,
      "metadata": {
        "colab": {
          "base_uri": "https://localhost:8080/"
        },
        "id": "HTAazM6PDAJr",
        "outputId": "0c22653a-16db-48b7-9987-3806ab8d8e3b"
      },
      "outputs": [
        {
          "data": {
            "text/plain": [
              "[array([-0.90068117,  1.01900435]),\n",
              " array([-1.14301691, -0.13197948]),\n",
              " array([-1.38535265,  0.32841405]),\n",
              " array([-1.50652052,  0.09821729]),\n",
              " array([-1.02184904,  1.24920112]),\n",
              " array([-0.53717756,  1.93979142]),\n",
              " array([-1.50652052,  0.78880759]),\n",
              " array([-1.02184904,  0.78880759]),\n",
              " array([-1.74885626, -0.36217625]),\n",
              " array([-1.14301691,  0.09821729]),\n",
              " array([-0.53717756,  1.47939788]),\n",
              " array([-1.26418478,  0.78880759]),\n",
              " array([-1.26418478, -0.13197948]),\n",
              " array([-1.87002413, -0.13197948]),\n",
              " array([-0.05250608,  2.16998818]),\n",
              " array([-0.17367395,  3.09077525]),\n",
              " array([-0.53717756,  1.93979142]),\n",
              " array([-0.90068117,  1.01900435]),\n",
              " array([-0.17367395,  1.70959465]),\n",
              " array([-0.90068117,  1.70959465]),\n",
              " array([-0.53717756,  0.78880759]),\n",
              " array([-0.90068117,  1.47939788]),\n",
              " array([-1.50652052,  1.24920112]),\n",
              " array([-0.90068117,  0.55861082]),\n",
              " array([-1.26418478,  0.78880759]),\n",
              " array([-1.02184904, -0.13197948]),\n",
              " array([-1.02184904,  0.78880759]),\n",
              " array([-0.7795133 ,  1.01900435]),\n",
              " array([-0.7795133 ,  0.78880759]),\n",
              " array([-1.38535265,  0.32841405]),\n",
              " array([-1.26418478,  0.09821729]),\n",
              " array([-0.53717756,  0.78880759]),\n",
              " array([-0.7795133 ,  2.40018495]),\n",
              " array([-0.41600969,  2.63038172]),\n",
              " array([-1.14301691,  0.09821729]),\n",
              " array([-1.02184904,  0.32841405]),\n",
              " array([-0.41600969,  1.01900435]),\n",
              " array([-1.14301691,  1.24920112]),\n",
              " array([-1.74885626, -0.13197948]),\n",
              " array([-0.90068117,  0.78880759]),\n",
              " array([-1.02184904,  1.01900435]),\n",
              " array([-1.62768839, -1.74335684]),\n",
              " array([-1.74885626,  0.32841405]),\n",
              " array([-1.02184904,  1.01900435]),\n",
              " array([-0.90068117,  1.70959465]),\n",
              " array([-1.26418478, -0.13197948]),\n",
              " array([-0.90068117,  1.70959465]),\n",
              " array([-1.50652052,  0.32841405]),\n",
              " array([-0.65834543,  1.47939788]),\n",
              " array([-1.02184904,  0.55861082]),\n",
              " array([1.40150837, 0.32841405]),\n",
              " array([0.67450115, 0.32841405]),\n",
              " array([1.2803405 , 0.09821729]),\n",
              " array([-0.41600969, -1.74335684]),\n",
              " array([ 0.79566902, -0.59237301]),\n",
              " array([-0.17367395, -0.59237301]),\n",
              " array([0.55333328, 0.55861082]),\n",
              " array([-1.14301691, -1.51316008]),\n",
              " array([ 0.91683689, -0.36217625]),\n",
              " array([-0.7795133 , -0.82256978]),\n",
              " array([-1.02184904, -2.43394714]),\n",
              " array([ 0.06866179, -0.13197948]),\n",
              " array([ 0.18982966, -1.97355361]),\n",
              " array([ 0.31099753, -0.36217625]),\n",
              " array([-0.29484182, -0.36217625]),\n",
              " array([1.03800476, 0.09821729]),\n",
              " array([-0.29484182, -0.13197948]),\n",
              " array([-0.05250608, -0.82256978]),\n",
              " array([ 0.4321654 , -1.97355361]),\n",
              " array([-0.29484182, -1.28296331]),\n",
              " array([0.06866179, 0.32841405]),\n",
              " array([ 0.31099753, -0.59237301]),\n",
              " array([ 0.55333328, -1.28296331]),\n",
              " array([ 0.31099753, -0.59237301]),\n",
              " array([ 0.67450115, -0.36217625]),\n",
              " array([ 0.91683689, -0.13197948]),\n",
              " array([ 1.15917263, -0.59237301]),\n",
              " array([ 1.03800476, -0.13197948]),\n",
              " array([ 0.18982966, -0.36217625]),\n",
              " array([-0.17367395, -1.05276654]),\n",
              " array([-0.41600969, -1.51316008]),\n",
              " array([-0.41600969, -1.51316008]),\n",
              " array([-0.05250608, -0.82256978]),\n",
              " array([ 0.18982966, -0.82256978]),\n",
              " array([-0.53717756, -0.13197948]),\n",
              " array([0.18982966, 0.78880759]),\n",
              " array([1.03800476, 0.09821729]),\n",
              " array([ 0.55333328, -1.74335684]),\n",
              " array([-0.29484182, -0.13197948]),\n",
              " array([-0.41600969, -1.28296331]),\n",
              " array([-0.41600969, -1.05276654]),\n",
              " array([ 0.31099753, -0.13197948]),\n",
              " array([-0.05250608, -1.05276654]),\n",
              " array([-1.02184904, -1.74335684]),\n",
              " array([-0.29484182, -0.82256978]),\n",
              " array([-0.17367395, -0.13197948]),\n",
              " array([-0.17367395, -0.36217625]),\n",
              " array([ 0.4321654 , -0.36217625]),\n",
              " array([-0.90068117, -1.28296331]),\n",
              " array([-0.17367395, -0.59237301]),\n",
              " array([0.55333328, 0.55861082]),\n",
              " array([-0.05250608, -0.82256978]),\n",
              " array([ 1.52267624, -0.13197948]),\n",
              " array([ 0.55333328, -0.36217625]),\n",
              " array([ 0.79566902, -0.13197948]),\n",
              " array([ 2.12851559, -0.13197948]),\n",
              " array([-1.14301691, -1.28296331]),\n",
              " array([ 1.76501198, -0.36217625]),\n",
              " array([ 1.03800476, -1.28296331]),\n",
              " array([1.64384411, 1.24920112]),\n",
              " array([0.79566902, 0.32841405]),\n",
              " array([ 0.67450115, -0.82256978]),\n",
              " array([ 1.15917263, -0.13197948]),\n",
              " array([-0.17367395, -1.28296331]),\n",
              " array([-0.05250608, -0.59237301]),\n",
              " array([0.67450115, 0.32841405]),\n",
              " array([ 0.79566902, -0.13197948]),\n",
              " array([2.24968346, 1.70959465]),\n",
              " array([ 2.24968346, -1.05276654]),\n",
              " array([ 0.18982966, -1.97355361]),\n",
              " array([1.2803405 , 0.32841405]),\n",
              " array([-0.29484182, -0.59237301]),\n",
              " array([ 2.24968346, -0.59237301]),\n",
              " array([ 0.55333328, -0.82256978]),\n",
              " array([1.03800476, 0.55861082]),\n",
              " array([1.64384411, 0.32841405]),\n",
              " array([ 0.4321654 , -0.59237301]),\n",
              " array([ 0.31099753, -0.13197948]),\n",
              " array([ 0.67450115, -0.59237301]),\n",
              " array([ 1.64384411, -0.13197948]),\n",
              " array([ 1.88617985, -0.59237301]),\n",
              " array([2.4920192 , 1.70959465]),\n",
              " array([ 0.67450115, -0.59237301]),\n",
              " array([ 0.55333328, -0.59237301]),\n",
              " array([ 0.31099753, -1.05276654]),\n",
              " array([ 2.24968346, -0.13197948]),\n",
              " array([0.55333328, 0.78880759]),\n",
              " array([0.67450115, 0.09821729]),\n",
              " array([ 0.18982966, -0.13197948]),\n",
              " array([1.2803405 , 0.09821729]),\n",
              " array([1.03800476, 0.09821729]),\n",
              " array([1.2803405 , 0.09821729]),\n",
              " array([-0.05250608, -0.82256978]),\n",
              " array([1.15917263, 0.32841405]),\n",
              " array([1.03800476, 0.55861082]),\n",
              " array([ 1.03800476, -0.13197948]),\n",
              " array([ 0.55333328, -1.28296331]),\n",
              " array([ 0.79566902, -0.13197948]),\n",
              " array([0.4321654 , 0.78880759]),\n",
              " array([ 0.06866179, -0.13197948])]"
            ]
          },
          "execution_count": 423,
          "metadata": {},
          "output_type": "execute_result"
        }
      ],
      "source": [
        "points = []\n",
        "for i in range(df.shape[0]):\n",
        "      point = df.iloc[i,0:]\n",
        "      point = np.array(point)\n",
        "      points.append(point)\n",
        "\n",
        "points"
      ]
    },
    {
      "cell_type": "markdown",
      "metadata": {
        "id": "m18M6sQmExj9"
      },
      "source": [
        "# Create the first cluster from the 2 points with the min distance"
      ]
    },
    {
      "cell_type": "code",
      "execution_count": 424,
      "metadata": {
        "colab": {
          "base_uri": "https://localhost:8080/"
        },
        "id": "2V6tnd4iE7Er",
        "outputId": "a1e251cc-f967-4701-c86c-1cb6059faeae"
      },
      "outputs": [
        {
          "name": "stdout",
          "output_type": "stream",
          "text": [
            "[array([-0.90068117,  1.01900435, -0.90068117,  1.01900435])]\n",
            "[array([-0.90068117,  1.01900435]), array([-1.14301691, -0.13197948]), array([-1.38535265,  0.32841405]), array([-1.50652052,  0.09821729]), array([-1.02184904,  1.24920112]), array([-0.53717756,  1.93979142]), array([-1.50652052,  0.78880759]), array([-1.02184904,  0.78880759]), array([-1.74885626, -0.36217625]), array([-1.14301691,  0.09821729]), array([-0.53717756,  1.47939788]), array([-1.26418478,  0.78880759]), array([-1.26418478, -0.13197948]), array([-1.87002413, -0.13197948]), array([-0.05250608,  2.16998818]), array([-0.17367395,  3.09077525]), array([-0.53717756,  1.93979142]), array([-0.90068117,  1.01900435]), array([-0.17367395,  1.70959465]), array([-0.90068117,  1.70959465]), array([-0.53717756,  0.78880759]), array([-0.90068117,  1.47939788]), array([-1.50652052,  1.24920112]), array([-0.90068117,  0.55861082]), array([-1.26418478,  0.78880759]), array([-1.02184904, -0.13197948]), array([-1.02184904,  0.78880759]), array([-0.7795133 ,  1.01900435]), array([-0.7795133 ,  0.78880759]), array([-1.38535265,  0.32841405]), array([-1.26418478,  0.09821729]), array([-0.53717756,  0.78880759]), array([-0.7795133 ,  2.40018495]), array([-0.41600969,  2.63038172]), array([-1.14301691,  0.09821729]), array([-1.02184904,  0.32841405]), array([-0.41600969,  1.01900435]), array([-1.14301691,  1.24920112]), array([-1.74885626, -0.13197948]), array([-0.90068117,  0.78880759]), array([-1.02184904,  1.01900435]), array([-1.62768839, -1.74335684]), array([-1.74885626,  0.32841405]), array([-1.02184904,  1.01900435]), array([-0.90068117,  1.70959465]), array([-1.26418478, -0.13197948]), array([-0.90068117,  1.70959465]), array([-1.50652052,  0.32841405]), array([-0.65834543,  1.47939788]), array([-1.02184904,  0.55861082]), array([1.40150837, 0.32841405]), array([0.67450115, 0.32841405]), array([1.2803405 , 0.09821729]), array([-0.41600969, -1.74335684]), array([ 0.79566902, -0.59237301]), array([-0.17367395, -0.59237301]), array([0.55333328, 0.55861082]), array([-1.14301691, -1.51316008]), array([ 0.91683689, -0.36217625]), array([-0.7795133 , -0.82256978]), array([-1.02184904, -2.43394714]), array([ 0.06866179, -0.13197948]), array([ 0.18982966, -1.97355361]), array([ 0.31099753, -0.36217625]), array([-0.29484182, -0.36217625]), array([1.03800476, 0.09821729]), array([-0.29484182, -0.13197948]), array([-0.05250608, -0.82256978]), array([ 0.4321654 , -1.97355361]), array([-0.29484182, -1.28296331]), array([0.06866179, 0.32841405]), array([ 0.31099753, -0.59237301]), array([ 0.55333328, -1.28296331]), array([ 0.31099753, -0.59237301]), array([ 0.67450115, -0.36217625]), array([ 0.91683689, -0.13197948]), array([ 1.15917263, -0.59237301]), array([ 1.03800476, -0.13197948]), array([ 0.18982966, -0.36217625]), array([-0.17367395, -1.05276654]), array([-0.41600969, -1.51316008]), array([-0.41600969, -1.51316008]), array([-0.05250608, -0.82256978]), array([ 0.18982966, -0.82256978]), array([-0.53717756, -0.13197948]), array([0.18982966, 0.78880759]), array([1.03800476, 0.09821729]), array([ 0.55333328, -1.74335684]), array([-0.29484182, -0.13197948]), array([-0.41600969, -1.28296331]), array([-0.41600969, -1.05276654]), array([ 0.31099753, -0.13197948]), array([-0.05250608, -1.05276654]), array([-1.02184904, -1.74335684]), array([-0.29484182, -0.82256978]), array([-0.17367395, -0.13197948]), array([-0.17367395, -0.36217625]), array([ 0.4321654 , -0.36217625]), array([-0.90068117, -1.28296331]), array([-0.17367395, -0.59237301]), array([0.55333328, 0.55861082]), array([-0.05250608, -0.82256978]), array([ 1.52267624, -0.13197948]), array([ 0.55333328, -0.36217625]), array([ 0.79566902, -0.13197948]), array([ 2.12851559, -0.13197948]), array([-1.14301691, -1.28296331]), array([ 1.76501198, -0.36217625]), array([ 1.03800476, -1.28296331]), array([1.64384411, 1.24920112]), array([0.79566902, 0.32841405]), array([ 0.67450115, -0.82256978]), array([ 1.15917263, -0.13197948]), array([-0.17367395, -1.28296331]), array([-0.05250608, -0.59237301]), array([0.67450115, 0.32841405]), array([ 0.79566902, -0.13197948]), array([2.24968346, 1.70959465]), array([ 2.24968346, -1.05276654]), array([ 0.18982966, -1.97355361]), array([1.2803405 , 0.32841405]), array([-0.29484182, -0.59237301]), array([ 2.24968346, -0.59237301]), array([ 0.55333328, -0.82256978]), array([1.03800476, 0.55861082]), array([1.64384411, 0.32841405]), array([ 0.4321654 , -0.59237301]), array([ 0.31099753, -0.13197948]), array([ 0.67450115, -0.59237301]), array([ 1.64384411, -0.13197948]), array([ 1.88617985, -0.59237301]), array([2.4920192 , 1.70959465]), array([ 0.67450115, -0.59237301]), array([ 0.55333328, -0.59237301]), array([ 0.31099753, -1.05276654]), array([ 2.24968346, -0.13197948]), array([0.55333328, 0.78880759]), array([0.67450115, 0.09821729]), array([ 0.18982966, -0.13197948]), array([1.2803405 , 0.09821729]), array([1.03800476, 0.09821729]), array([1.2803405 , 0.09821729]), array([-0.05250608, -0.82256978]), array([1.15917263, 0.32841405]), array([1.03800476, 0.55861082]), array([ 1.03800476, -0.13197948]), array([ 0.55333328, -1.28296331]), array([ 0.79566902, -0.13197948]), array([0.4321654 , 0.78880759]), array([ 0.06866179, -0.13197948])]\n"
          ]
        },
        {
          "data": {
            "text/plain": [
              "[array([-1.14301691, -0.13197948]),\n",
              " array([-1.38535265,  0.32841405]),\n",
              " array([-1.50652052,  0.09821729]),\n",
              " array([-1.02184904,  1.24920112]),\n",
              " array([-0.53717756,  1.93979142]),\n",
              " array([-1.50652052,  0.78880759]),\n",
              " array([-1.02184904,  0.78880759]),\n",
              " array([-1.74885626, -0.36217625]),\n",
              " array([-1.14301691,  0.09821729]),\n",
              " array([-0.53717756,  1.47939788]),\n",
              " array([-1.26418478,  0.78880759]),\n",
              " array([-1.26418478, -0.13197948]),\n",
              " array([-1.87002413, -0.13197948]),\n",
              " array([-0.05250608,  2.16998818]),\n",
              " array([-0.17367395,  3.09077525]),\n",
              " array([-0.53717756,  1.93979142]),\n",
              " array([-0.17367395,  1.70959465]),\n",
              " array([-0.90068117,  1.70959465]),\n",
              " array([-0.53717756,  0.78880759]),\n",
              " array([-0.90068117,  1.47939788]),\n",
              " array([-1.50652052,  1.24920112]),\n",
              " array([-0.90068117,  0.55861082]),\n",
              " array([-1.26418478,  0.78880759]),\n",
              " array([-1.02184904, -0.13197948]),\n",
              " array([-1.02184904,  0.78880759]),\n",
              " array([-0.7795133 ,  1.01900435]),\n",
              " array([-0.7795133 ,  0.78880759]),\n",
              " array([-1.38535265,  0.32841405]),\n",
              " array([-1.26418478,  0.09821729]),\n",
              " array([-0.53717756,  0.78880759]),\n",
              " array([-0.7795133 ,  2.40018495]),\n",
              " array([-0.41600969,  2.63038172]),\n",
              " array([-1.14301691,  0.09821729]),\n",
              " array([-1.02184904,  0.32841405]),\n",
              " array([-0.41600969,  1.01900435]),\n",
              " array([-1.14301691,  1.24920112]),\n",
              " array([-1.74885626, -0.13197948]),\n",
              " array([-0.90068117,  0.78880759]),\n",
              " array([-1.02184904,  1.01900435]),\n",
              " array([-1.62768839, -1.74335684]),\n",
              " array([-1.74885626,  0.32841405]),\n",
              " array([-1.02184904,  1.01900435]),\n",
              " array([-0.90068117,  1.70959465]),\n",
              " array([-1.26418478, -0.13197948]),\n",
              " array([-0.90068117,  1.70959465]),\n",
              " array([-1.50652052,  0.32841405]),\n",
              " array([-0.65834543,  1.47939788]),\n",
              " array([-1.02184904,  0.55861082]),\n",
              " array([1.40150837, 0.32841405]),\n",
              " array([0.67450115, 0.32841405]),\n",
              " array([1.2803405 , 0.09821729]),\n",
              " array([-0.41600969, -1.74335684]),\n",
              " array([ 0.79566902, -0.59237301]),\n",
              " array([-0.17367395, -0.59237301]),\n",
              " array([0.55333328, 0.55861082]),\n",
              " array([-1.14301691, -1.51316008]),\n",
              " array([ 0.91683689, -0.36217625]),\n",
              " array([-0.7795133 , -0.82256978]),\n",
              " array([-1.02184904, -2.43394714]),\n",
              " array([ 0.06866179, -0.13197948]),\n",
              " array([ 0.18982966, -1.97355361]),\n",
              " array([ 0.31099753, -0.36217625]),\n",
              " array([-0.29484182, -0.36217625]),\n",
              " array([1.03800476, 0.09821729]),\n",
              " array([-0.29484182, -0.13197948]),\n",
              " array([-0.05250608, -0.82256978]),\n",
              " array([ 0.4321654 , -1.97355361]),\n",
              " array([-0.29484182, -1.28296331]),\n",
              " array([0.06866179, 0.32841405]),\n",
              " array([ 0.31099753, -0.59237301]),\n",
              " array([ 0.55333328, -1.28296331]),\n",
              " array([ 0.31099753, -0.59237301]),\n",
              " array([ 0.67450115, -0.36217625]),\n",
              " array([ 0.91683689, -0.13197948]),\n",
              " array([ 1.15917263, -0.59237301]),\n",
              " array([ 1.03800476, -0.13197948]),\n",
              " array([ 0.18982966, -0.36217625]),\n",
              " array([-0.17367395, -1.05276654]),\n",
              " array([-0.41600969, -1.51316008]),\n",
              " array([-0.41600969, -1.51316008]),\n",
              " array([-0.05250608, -0.82256978]),\n",
              " array([ 0.18982966, -0.82256978]),\n",
              " array([-0.53717756, -0.13197948]),\n",
              " array([0.18982966, 0.78880759]),\n",
              " array([1.03800476, 0.09821729]),\n",
              " array([ 0.55333328, -1.74335684]),\n",
              " array([-0.29484182, -0.13197948]),\n",
              " array([-0.41600969, -1.28296331]),\n",
              " array([-0.41600969, -1.05276654]),\n",
              " array([ 0.31099753, -0.13197948]),\n",
              " array([-0.05250608, -1.05276654]),\n",
              " array([-1.02184904, -1.74335684]),\n",
              " array([-0.29484182, -0.82256978]),\n",
              " array([-0.17367395, -0.13197948]),\n",
              " array([-0.17367395, -0.36217625]),\n",
              " array([ 0.4321654 , -0.36217625]),\n",
              " array([-0.90068117, -1.28296331]),\n",
              " array([-0.17367395, -0.59237301]),\n",
              " array([0.55333328, 0.55861082]),\n",
              " array([-0.05250608, -0.82256978]),\n",
              " array([ 1.52267624, -0.13197948]),\n",
              " array([ 0.55333328, -0.36217625]),\n",
              " array([ 0.79566902, -0.13197948]),\n",
              " array([ 2.12851559, -0.13197948]),\n",
              " array([-1.14301691, -1.28296331]),\n",
              " array([ 1.76501198, -0.36217625]),\n",
              " array([ 1.03800476, -1.28296331]),\n",
              " array([1.64384411, 1.24920112]),\n",
              " array([0.79566902, 0.32841405]),\n",
              " array([ 0.67450115, -0.82256978]),\n",
              " array([ 1.15917263, -0.13197948]),\n",
              " array([-0.17367395, -1.28296331]),\n",
              " array([-0.05250608, -0.59237301]),\n",
              " array([0.67450115, 0.32841405]),\n",
              " array([ 0.79566902, -0.13197948]),\n",
              " array([2.24968346, 1.70959465]),\n",
              " array([ 2.24968346, -1.05276654]),\n",
              " array([ 0.18982966, -1.97355361]),\n",
              " array([1.2803405 , 0.32841405]),\n",
              " array([-0.29484182, -0.59237301]),\n",
              " array([ 2.24968346, -0.59237301]),\n",
              " array([ 0.55333328, -0.82256978]),\n",
              " array([1.03800476, 0.55861082]),\n",
              " array([1.64384411, 0.32841405]),\n",
              " array([ 0.4321654 , -0.59237301]),\n",
              " array([ 0.31099753, -0.13197948]),\n",
              " array([ 0.67450115, -0.59237301]),\n",
              " array([ 1.64384411, -0.13197948]),\n",
              " array([ 1.88617985, -0.59237301]),\n",
              " array([2.4920192 , 1.70959465]),\n",
              " array([ 0.67450115, -0.59237301]),\n",
              " array([ 0.55333328, -0.59237301]),\n",
              " array([ 0.31099753, -1.05276654]),\n",
              " array([ 2.24968346, -0.13197948]),\n",
              " array([0.55333328, 0.78880759]),\n",
              " array([0.67450115, 0.09821729]),\n",
              " array([ 0.18982966, -0.13197948]),\n",
              " array([1.2803405 , 0.09821729]),\n",
              " array([1.03800476, 0.09821729]),\n",
              " array([1.2803405 , 0.09821729]),\n",
              " array([-0.05250608, -0.82256978]),\n",
              " array([1.15917263, 0.32841405]),\n",
              " array([1.03800476, 0.55861082]),\n",
              " array([ 1.03800476, -0.13197948]),\n",
              " array([ 0.55333328, -1.28296331]),\n",
              " array([ 0.79566902, -0.13197948]),\n",
              " array([0.4321654 , 0.78880759]),\n",
              " array([ 0.06866179, -0.13197948])]"
            ]
          },
          "execution_count": 424,
          "metadata": {},
          "output_type": "execute_result"
        }
      ],
      "source": [
        "clusters = []\n",
        "clusters.append(np.concatenate((points[minindice[0]], points[minindice[1]])))\n",
        "print(clusters)\n",
        "print(points)\n",
        "points.pop(minindice[0])\n",
        "points.pop(minindice[1]-1)\n",
        "\n",
        "points\n"
      ]
    },
    {
      "cell_type": "markdown",
      "metadata": {
        "id": "7xzxLJ9sKdsG"
      },
      "source": [
        "# Function to calculate the center of a cluster"
      ]
    },
    {
      "cell_type": "code",
      "execution_count": 425,
      "metadata": {
        "colab": {
          "base_uri": "https://localhost:8080/"
        },
        "id": "MLBiiz93KbuZ",
        "outputId": "cc0e43ec-e631-4d36-98bf-8c9e6eab770d"
      },
      "outputs": [
        {
          "data": {
            "text/plain": [
              "[-0.9006811702978088, 1.019004351971607]"
            ]
          },
          "execution_count": 425,
          "metadata": {},
          "output_type": "execute_result"
        }
      ],
      "source": [
        "def cluster_center(cluster):\n",
        "  center = []\n",
        "  nbrCordonnee = df.shape[1]\n",
        "  i = 0\n",
        "  while(i<nbrCordonnee):\n",
        "    j = i\n",
        "    c = cluster[i]\n",
        "    while(j<len(cluster)-nbrCordonnee):\n",
        "      c = c + cluster[j+nbrCordonnee]\n",
        "      j = j+ nbrCordonnee\n",
        "    c = c / (len(cluster)/nbrCordonnee)\n",
        "    center.append(c)\n",
        "    i = i + 1\n",
        "\n",
        "  return center\n",
        "cluster_center(clusters[0])\n"
      ]
    },
    {
      "cell_type": "markdown",
      "metadata": {
        "id": "AfXJcSqw83hJ"
      },
      "source": [
        "## The center of the first cluster"
      ]
    },
    {
      "cell_type": "code",
      "execution_count": 426,
      "metadata": {
        "colab": {
          "base_uri": "https://localhost:8080/"
        },
        "id": "_Ad4oqun87vP",
        "outputId": "2aa62586-afb4-4d32-8154-34882eb35cf0"
      },
      "outputs": [
        {
          "name": "stdout",
          "output_type": "stream",
          "text": [
            "[-0.90068117  1.01900435 -0.90068117  1.01900435]\n"
          ]
        },
        {
          "data": {
            "text/plain": [
              "[-0.9006811702978088, 1.019004351971607]"
            ]
          },
          "execution_count": 426,
          "metadata": {},
          "output_type": "execute_result"
        }
      ],
      "source": [
        "print(clusters[0])\n",
        "center = cluster_center(clusters[0])\n",
        "center"
      ]
    },
    {
      "cell_type": "markdown",
      "metadata": {
        "id": "Xk6yzasvl38V"
      },
      "source": [
        "# Calculate the distance between c1 and the the farthest point from c1\n"
      ]
    },
    {
      "cell_type": "code",
      "execution_count": 427,
      "metadata": {
        "colab": {
          "base_uri": "https://localhost:8080/"
        },
        "id": "S48pUZEBeSuD",
        "outputId": "05baf56e-8718-48b0-f6d6-daf4753a03e7"
      },
      "outputs": [
        {
          "name": "stdout",
          "output_type": "stream",
          "text": [
            "[ 2.24968346 -1.05276654] 3.77054796528266\n"
          ]
        }
      ],
      "source": [
        "d = 0\n",
        "dmax = 0\n",
        "for i in range (len(points)):\n",
        "  d = 0\n",
        "  for j in range (df.shape[1]):\n",
        "    d = d + ((center[j]-points[i][j])**2)\n",
        "  d = np.sqrt(d)\n",
        "  if(d > dmax):\n",
        "    dmax = d\n",
        "    c2indix = i \n",
        "print(points[c2indix],dmax)"
      ]
    },
    {
      "cell_type": "markdown",
      "metadata": {
        "id": "2XsNhspRrm3Z"
      },
      "source": [
        "# Make the new point as a new cluster\n"
      ]
    },
    {
      "cell_type": "code",
      "execution_count": 428,
      "metadata": {
        "colab": {
          "base_uri": "https://localhost:8080/"
        },
        "id": "QCTxufzRVHqt",
        "outputId": "fae75c8e-6dcc-4d35-fe42-bad2a40b9fa5"
      },
      "outputs": [
        {
          "name": "stdout",
          "output_type": "stream",
          "text": [
            "[array([-0.90068117,  1.01900435, -0.90068117,  1.01900435]), array([ 2.24968346, -1.05276654])]\n",
            "[array([-1.14301691, -0.13197948]), array([-1.38535265,  0.32841405]), array([-1.50652052,  0.09821729]), array([-1.02184904,  1.24920112]), array([-0.53717756,  1.93979142]), array([-1.50652052,  0.78880759]), array([-1.02184904,  0.78880759]), array([-1.74885626, -0.36217625]), array([-1.14301691,  0.09821729]), array([-0.53717756,  1.47939788]), array([-1.26418478,  0.78880759]), array([-1.26418478, -0.13197948]), array([-1.87002413, -0.13197948]), array([-0.05250608,  2.16998818]), array([-0.17367395,  3.09077525]), array([-0.53717756,  1.93979142]), array([-0.17367395,  1.70959465]), array([-0.90068117,  1.70959465]), array([-0.53717756,  0.78880759]), array([-0.90068117,  1.47939788]), array([-1.50652052,  1.24920112]), array([-0.90068117,  0.55861082]), array([-1.26418478,  0.78880759]), array([-1.02184904, -0.13197948]), array([-1.02184904,  0.78880759]), array([-0.7795133 ,  1.01900435]), array([-0.7795133 ,  0.78880759]), array([-1.38535265,  0.32841405]), array([-1.26418478,  0.09821729]), array([-0.53717756,  0.78880759]), array([-0.7795133 ,  2.40018495]), array([-0.41600969,  2.63038172]), array([-1.14301691,  0.09821729]), array([-1.02184904,  0.32841405]), array([-0.41600969,  1.01900435]), array([-1.14301691,  1.24920112]), array([-1.74885626, -0.13197948]), array([-0.90068117,  0.78880759]), array([-1.02184904,  1.01900435]), array([-1.62768839, -1.74335684]), array([-1.74885626,  0.32841405]), array([-1.02184904,  1.01900435]), array([-0.90068117,  1.70959465]), array([-1.26418478, -0.13197948]), array([-0.90068117,  1.70959465]), array([-1.50652052,  0.32841405]), array([-0.65834543,  1.47939788]), array([-1.02184904,  0.55861082]), array([1.40150837, 0.32841405]), array([0.67450115, 0.32841405]), array([1.2803405 , 0.09821729]), array([-0.41600969, -1.74335684]), array([ 0.79566902, -0.59237301]), array([-0.17367395, -0.59237301]), array([0.55333328, 0.55861082]), array([-1.14301691, -1.51316008]), array([ 0.91683689, -0.36217625]), array([-0.7795133 , -0.82256978]), array([-1.02184904, -2.43394714]), array([ 0.06866179, -0.13197948]), array([ 0.18982966, -1.97355361]), array([ 0.31099753, -0.36217625]), array([-0.29484182, -0.36217625]), array([1.03800476, 0.09821729]), array([-0.29484182, -0.13197948]), array([-0.05250608, -0.82256978]), array([ 0.4321654 , -1.97355361]), array([-0.29484182, -1.28296331]), array([0.06866179, 0.32841405]), array([ 0.31099753, -0.59237301]), array([ 0.55333328, -1.28296331]), array([ 0.31099753, -0.59237301]), array([ 0.67450115, -0.36217625]), array([ 0.91683689, -0.13197948]), array([ 1.15917263, -0.59237301]), array([ 1.03800476, -0.13197948]), array([ 0.18982966, -0.36217625]), array([-0.17367395, -1.05276654]), array([-0.41600969, -1.51316008]), array([-0.41600969, -1.51316008]), array([-0.05250608, -0.82256978]), array([ 0.18982966, -0.82256978]), array([-0.53717756, -0.13197948]), array([0.18982966, 0.78880759]), array([1.03800476, 0.09821729]), array([ 0.55333328, -1.74335684]), array([-0.29484182, -0.13197948]), array([-0.41600969, -1.28296331]), array([-0.41600969, -1.05276654]), array([ 0.31099753, -0.13197948]), array([-0.05250608, -1.05276654]), array([-1.02184904, -1.74335684]), array([-0.29484182, -0.82256978]), array([-0.17367395, -0.13197948]), array([-0.17367395, -0.36217625]), array([ 0.4321654 , -0.36217625]), array([-0.90068117, -1.28296331]), array([-0.17367395, -0.59237301]), array([0.55333328, 0.55861082]), array([-0.05250608, -0.82256978]), array([ 1.52267624, -0.13197948]), array([ 0.55333328, -0.36217625]), array([ 0.79566902, -0.13197948]), array([ 2.12851559, -0.13197948]), array([-1.14301691, -1.28296331]), array([ 1.76501198, -0.36217625]), array([ 1.03800476, -1.28296331]), array([1.64384411, 1.24920112]), array([0.79566902, 0.32841405]), array([ 0.67450115, -0.82256978]), array([ 1.15917263, -0.13197948]), array([-0.17367395, -1.28296331]), array([-0.05250608, -0.59237301]), array([0.67450115, 0.32841405]), array([ 0.79566902, -0.13197948]), array([2.24968346, 1.70959465]), array([ 0.18982966, -1.97355361]), array([1.2803405 , 0.32841405]), array([-0.29484182, -0.59237301]), array([ 2.24968346, -0.59237301]), array([ 0.55333328, -0.82256978]), array([1.03800476, 0.55861082]), array([1.64384411, 0.32841405]), array([ 0.4321654 , -0.59237301]), array([ 0.31099753, -0.13197948]), array([ 0.67450115, -0.59237301]), array([ 1.64384411, -0.13197948]), array([ 1.88617985, -0.59237301]), array([2.4920192 , 1.70959465]), array([ 0.67450115, -0.59237301]), array([ 0.55333328, -0.59237301]), array([ 0.31099753, -1.05276654]), array([ 2.24968346, -0.13197948]), array([0.55333328, 0.78880759]), array([0.67450115, 0.09821729]), array([ 0.18982966, -0.13197948]), array([1.2803405 , 0.09821729]), array([1.03800476, 0.09821729]), array([1.2803405 , 0.09821729]), array([-0.05250608, -0.82256978]), array([1.15917263, 0.32841405]), array([1.03800476, 0.55861082]), array([ 1.03800476, -0.13197948]), array([ 0.55333328, -1.28296331]), array([ 0.79566902, -0.13197948]), array([0.4321654 , 0.78880759]), array([ 0.06866179, -0.13197948])]\n"
          ]
        }
      ],
      "source": [
        "clusters.append(points[c2indix])\n",
        "print(clusters)\n",
        "points.pop(c2indix)\n",
        "\n",
        "print(points)\n"
      ]
    },
    {
      "cell_type": "markdown",
      "metadata": {
        "id": "GpFTXtrZrtir"
      },
      "source": [
        "# Apply my method"
      ]
    },
    {
      "cell_type": "markdown",
      "metadata": {
        "id": "Y6n_rXBiLQ13"
      },
      "source": [
        "## Function to calculate the center of each cluster"
      ]
    },
    {
      "cell_type": "code",
      "execution_count": 429,
      "metadata": {
        "colab": {
          "base_uri": "https://localhost:8080/"
        },
        "id": "CNjaSnHRVW9g",
        "outputId": "624b0d25-afdf-42e0-f415-4e3c19872415"
      },
      "outputs": [
        {
          "data": {
            "text/plain": [
              "[[-0.9006811702978088, 1.019004351971607],\n",
              " [2.2496834612371255, -1.0527665443562098]]"
            ]
          },
          "execution_count": 429,
          "metadata": {},
          "output_type": "execute_result"
        }
      ],
      "source": [
        "def centerOfEachCLuster(clusters):\n",
        "  clusters_centers = []\n",
        "  for i in range(len(clusters)):\n",
        "    clusters_centers.append(cluster_center(clusters[i]))\n",
        "  return clusters_centers\n",
        "  \n",
        "clusters_centers = centerOfEachCLuster(clusters)\n",
        "clusters_centers"
      ]
    },
    {
      "cell_type": "markdown",
      "metadata": {
        "id": "34wFPpqYV6cf"
      },
      "source": [
        "## Function to calculate the center point of all clusters"
      ]
    },
    {
      "cell_type": "code",
      "execution_count": 430,
      "metadata": {
        "colab": {
          "base_uri": "https://localhost:8080/"
        },
        "id": "a8NPyXKjRF17",
        "outputId": "7c2d24cd-5626-4c51-a4b8-c8c312e63e64"
      },
      "outputs": [
        {
          "data": {
            "text/plain": [
              "[0.6745011454696583, -0.01688109619230138]"
            ]
          },
          "execution_count": 430,
          "metadata": {},
          "output_type": "execute_result"
        }
      ],
      "source": [
        "def centerPoint(clusters_centers):\n",
        "  cc = []\n",
        "  for j in range(df.shape[1]):\n",
        "    c = 0\n",
        "    for i in range(len(clusters_centers)):\n",
        "      c = c + clusters_centers[i][j]\n",
        "    c = c / len(clusters_centers)\n",
        "    cc.append(c)\n",
        "  return cc\n",
        "\n",
        "centerPoint(clusters_centers)\n"
      ]
    },
    {
      "cell_type": "markdown",
      "metadata": {
        "id": "cf8-P8qfTiHS"
      },
      "source": [
        "### add a point to a cluster (doesn't work i added it to the code directly)"
      ]
    },
    {
      "cell_type": "code",
      "execution_count": 431,
      "metadata": {
        "id": "Y0FBMwqaThuK"
      },
      "outputs": [],
      "source": [
        "def AddDataCLuster(cluster, point):\n",
        " cluster =  np.concatenate((cluster, point))\n",
        "\n",
        "\n"
      ]
    },
    {
      "cell_type": "markdown",
      "metadata": {
        "id": "mynOICVjZq9c"
      },
      "source": [
        "### Create new cluster"
      ]
    },
    {
      "cell_type": "code",
      "execution_count": 432,
      "metadata": {
        "id": "w-NANlL3Zumv"
      },
      "outputs": [],
      "source": [
        "def newCluster(clusters,point):\n",
        "  clusters.append(point)\n"
      ]
    },
    {
      "cell_type": "markdown",
      "metadata": {
        "id": "ojuQKNY5CBGN"
      },
      "source": [
        "# Assign each element to its cluster"
      ]
    },
    {
      "cell_type": "code",
      "execution_count": 433,
      "metadata": {
        "colab": {
          "base_uri": "https://localhost:8080/"
        },
        "id": "ZnIA_wlnAzIX",
        "outputId": "1cbf7d21-4d6a-4e9d-f182-d19f6e00a94e"
      },
      "outputs": [
        {
          "name": "stdout",
          "output_type": "stream",
          "text": [
            "The total number of clusters:  3\n",
            "The  0  cluster contains  51.0  element\n",
            "The  1  cluster contains  84.0  element\n",
            "The  2  cluster contains  15.0  element\n",
            "[ 0.4321654  -0.59237301  0.67450115 -0.59237301  1.64384411 -0.13197948\n",
            "  1.88617985 -0.59237301  2.4920192   1.70959465  2.24968346 -0.13197948\n",
            "  0.55333328  0.78880759  1.2803405   0.09821729  1.03800476  0.09821729\n",
            "  1.2803405   0.09821729  1.15917263  0.32841405  1.03800476  0.55861082\n",
            "  1.03800476 -0.13197948  0.79566902 -0.13197948  0.4321654   0.78880759]\n"
          ]
        }
      ],
      "source": [
        "#assign the rest of data to their clusters\n",
        "while(len(points)!= 0):\n",
        "  #calculate the min dist between a point from the dataset and the center of each cluster\n",
        "  p1  = points[0]\n",
        "  distmin = inf\n",
        "  dist = 0\n",
        "  clusters_centers = centerOfEachCLuster(clusters)\n",
        "  for i in range(len(clusters_centers)):\n",
        "    dist = np.linalg.norm(p1 - clusters_centers[i])\n",
        "    if(dist < distmin):\n",
        "      distmin = dist \n",
        "      distminindex = i #the closest cluster to the current point\n",
        "  #the center point of all clusters\n",
        "  centerPoint(clusters_centers)\n",
        "  #calculate the distance between the center of the closest cluster and the center of all the clusters\n",
        "  distCenterClosetCluster = np.linalg.norm(np.array(cluster_center(clusters[distminindex])) - np.array(centerPoint(clusters_centers)))\n",
        "  #calculate the distance between the current point from the dataset and the  center of all clusters\n",
        "  distCenterPoint = np.linalg.norm(p1 - centerPoint(clusters_centers))\n",
        "  #calculate the distance between the point and the the center the closest clusters\n",
        "  distPointClosetCluster = np.linalg.norm(np.array(p1) - np.array(cluster_center(clusters[distminindex])))\n",
        "\n",
        "  if(distPointClosetCluster > m):\n",
        "    x1 = m / distPointClosetCluster\n",
        "  else:\n",
        "    x1 = distPointClosetCluster / m\n",
        "\n",
        "  if(x1 >= 0.036):\n",
        "    #add data to the existing cluster\n",
        "    clusters[distminindex] =  np.concatenate((clusters[distminindex], p1))\n",
        "  else: #create new cluster using the curent data\n",
        "    newCluster(clusters, p1)\n",
        "  points.pop(0)\n",
        "\n",
        "print('The total number of clusters: ',len(clusters))\n",
        "for i in range(len(clusters)):\n",
        "  print('The ',i,' cluster contains ',len(clusters[i])/2,' element')\n",
        "print(clusters[i])\n",
        "\n",
        "  \n",
        "\n",
        "\n",
        "\n",
        "\n",
        "\n",
        "\n"
      ]
    },
    {
      "cell_type": "code",
      "execution_count": 434,
      "metadata": {
        "colab": {
          "base_uri": "https://localhost:8080/",
          "height": 265
        },
        "id": "uNATFC5g5hOr",
        "outputId": "9f6c565f-417c-4ab8-bc02-39a866d5149f"
      },
      "outputs": [
        {
          "data": {
            "image/png": "[encoded data removed]",
            "text/plain": [
              "<Figure size 432x288 with 1 Axes>"
            ]
          },
          "metadata": {
            "needs_background": "light"
          },
          "output_type": "display_data"
        }
      ],
      "source": [
        "clusterlist = []\n",
        "for i in range(len(clusters)):\n",
        "  c1 = []\n",
        "  c2 = []\n",
        "  j = 0\n",
        "  while (j < len(clusters[i]-1)):\n",
        "    c1.append(clusters[i][j])\n",
        "    c2.append(clusters[i][j+1])\n",
        "    j += 2\n",
        "  clusterlist.append(c1)\n",
        "  clusterlist.append(c2)\n",
        "  plt.scatter(c1, c2)\n",
        "\n",
        "  "
      ]
    },
    {
      "cell_type": "markdown",
      "metadata": {
        "id": "amVP_tNblTd4"
      },
      "source": [
        "# Comparing our clustering algorithm results with kmeans results\n"
      ]
    },
    {
      "cell_type": "markdown",
      "metadata": {
        "id": "8oZa3ih4lcBz"
      },
      "source": [
        "## Number of elements for each cluster"
      ]
    },
    {
      "cell_type": "code",
      "execution_count": 435,
      "metadata": {
        "colab": {
          "base_uri": "https://localhost:8080/"
        },
        "id": "RWrZjJO3lkMi",
        "outputId": "c567fe0b-e56e-49d2-8722-92011143645f"
      },
      "outputs": [
        {
          "name": "stdout",
          "output_type": "stream",
          "text": [
            "The  0  cluster contains  51.0  element\n",
            "The  1  cluster contains  84.0  element\n",
            "The  2  cluster contains  15.0  element\n",
            "[51.0, 84.0, 15.0]\n"
          ]
        }
      ],
      "source": [
        "nbrElem = []\n",
        "for i in range(len(clusters)):\n",
        "  print('The ',i,' cluster contains ',len(clusters[i])/2,' element')\n",
        "  nbrElem.append(len(clusters[i])/2)\n",
        "print(nbrElem)"
      ]
    },
    {
      "cell_type": "markdown",
      "metadata": {
        "id": "MQt_VB8inXTa"
      },
      "source": [
        "## Interdistance"
      ]
    },
    {
      "cell_type": "code",
      "execution_count": 436,
      "metadata": {
        "colab": {
          "base_uri": "https://localhost:8080/"
        },
        "id": "cost9taMl4_Y",
        "outputId": "adf88304-befc-4bec-a2a0-cb40ff7b0790"
      },
      "outputs": [
        {
          "name": "stdout",
          "output_type": "stream",
          "text": [
            "[[-0.9909631129813131, 0.8519988548820007], [0.38744869049005587, -0.5430451333549217], [1.1995619173921475, 0.1442566401887508]]\n",
            "la distance entre le cluster 0 et le cluster 1 est 1.9611646613849563\n",
            "la distance entre le cluster 0 et le cluster 2 est 2.30202062352872\n",
            "la distance entre le cluster 1 et le cluster 2 est 1.0639133523109885\n"
          ]
        },
        {
          "data": {
            "text/plain": [
              "[1.9611646613849563, 2.30202062352872, 1.0639133523109885]"
            ]
          },
          "execution_count": 436,
          "metadata": {},
          "output_type": "execute_result"
        }
      ],
      "source": [
        "#le centre de chaque cluster\n",
        "clusters_centers = centerOfEachCLuster(clusters)\n",
        "print(clusters_centers)\n",
        "#la distance entre les clusters\n",
        "distanceEntreCluster = []\n",
        "for i in range(len(clusters_centers)-1):\n",
        "  j = i + 1\n",
        "  while(j<len(clusters_centers)):\n",
        "      d = 0\n",
        "      d = ((clusters_centers[i][0]-clusters_centers[j][0])**2)+((clusters_centers[i][1]-clusters_centers[j][1])**2)\n",
        "      d = np.sqrt(d)\n",
        "      print(\"la distance entre le cluster\",i,\"et le cluster\",j,\"est\",d)\n",
        "      distanceEntreCluster.append(d) \n",
        "      j = j + 1\n",
        "\n",
        "distanceEntreCluster"
      ]
    },
    {
      "cell_type": "code",
      "execution_count": 437,
      "metadata": {
        "colab": {
          "base_uri": "https://localhost:8080/",
          "height": 424
        },
        "id": "esDIezVXBBWH",
        "outputId": "7c411b01-8a24-4364-e1ff-a15031572f14"
      },
      "outputs": [
        {
          "data": {
            "text/html": [
              "\n",
              "  <div id=\"df-f2ffa551-9282-40e9-9b5d-c13ea3ef1978\">\n",
              "    <div class=\"colab-df-container\">\n",
              "      <div>\n",
              "<style scoped>\n",
              "    .dataframe tbody tr th:only-of-type {\n",
              "        vertical-align: middle;\n",
              "    }\n",
              "\n",
              "    .dataframe tbody tr th {\n",
              "        vertical-align: top;\n",
              "    }\n",
              "\n",
              "    .dataframe thead tr th {\n",
              "        text-align: left;\n",
              "    }\n",
              "</style>\n",
              "<table border=\"1\" class=\"dataframe\">\n",
              "  <thead>\n",
              "    <tr>\n",
              "      <th></th>\n",
              "      <th>X</th>\n",
              "      <th>Y</th>\n",
              "    </tr>\n",
              "  </thead>\n",
              "  <tbody>\n",
              "    <tr>\n",
              "      <th>0</th>\n",
              "      <td>-0.900681</td>\n",
              "      <td>1.019004</td>\n",
              "    </tr>\n",
              "    <tr>\n",
              "      <th>1</th>\n",
              "      <td>-1.143017</td>\n",
              "      <td>-0.131979</td>\n",
              "    </tr>\n",
              "    <tr>\n",
              "      <th>2</th>\n",
              "      <td>-1.385353</td>\n",
              "      <td>0.328414</td>\n",
              "    </tr>\n",
              "    <tr>\n",
              "      <th>3</th>\n",
              "      <td>-1.506521</td>\n",
              "      <td>0.098217</td>\n",
              "    </tr>\n",
              "    <tr>\n",
              "      <th>4</th>\n",
              "      <td>-1.021849</td>\n",
              "      <td>1.249201</td>\n",
              "    </tr>\n",
              "    <tr>\n",
              "      <th>...</th>\n",
              "      <td>...</td>\n",
              "      <td>...</td>\n",
              "    </tr>\n",
              "    <tr>\n",
              "      <th>145</th>\n",
              "      <td>1.038005</td>\n",
              "      <td>-0.131979</td>\n",
              "    </tr>\n",
              "    <tr>\n",
              "      <th>146</th>\n",
              "      <td>0.553333</td>\n",
              "      <td>-1.282963</td>\n",
              "    </tr>\n",
              "    <tr>\n",
              "      <th>147</th>\n",
              "      <td>0.795669</td>\n",
              "      <td>-0.131979</td>\n",
              "    </tr>\n",
              "    <tr>\n",
              "      <th>148</th>\n",
              "      <td>0.432165</td>\n",
              "      <td>0.788808</td>\n",
              "    </tr>\n",
              "    <tr>\n",
              "      <th>149</th>\n",
              "      <td>0.068662</td>\n",
              "      <td>-0.131979</td>\n",
              "    </tr>\n",
              "  </tbody>\n",
              "</table>\n",
              "<p>150 rows × 2 columns</p>\n",
              "</div>\n",
              "      <button class=\"colab-df-convert\" onclick=\"convertToInteractive('df-f2ffa551-9282-40e9-9b5d-c13ea3ef1978')\"\n",
              "              title=\"Convert this dataframe to an interactive table.\"\n",
              "              style=\"display:none;\">\n",
              "        \n",
              "  <svg xmlns=\"http://www.w3.org/2000/svg\" height=\"24px\"viewBox=\"0 0 24 24\"\n",
              "       width=\"24px\">\n",
              "    <path d=\"M0 0h24v24H0V0z\" fill=\"none\"/>\n",
              "    <path d=\"M18.56 5.44l.94 2.06.94-2.06 2.06-.94-2.06-.94-.94-2.06-.94 2.06-2.06.94zm-11 1L8.5 8.5l.94-2.06 2.06-.94-2.06-.94L8.5 2.5l-.94 2.06-2.06.94zm10 10l.94 2.06.94-2.06 2.06-.94-2.06-.94-.94-2.06-.94 2.06-2.06.94z\"/><path d=\"M17.41 7.96l-1.37-1.37c-.4-.4-.92-.59-1.43-.59-.52 0-1.04.2-1.43.59L10.3 9.45l-7.72 7.72c-.78.78-.78 2.05 0 2.83L4 21.41c.39.39.9.59 1.41.59.51 0 1.02-.2 1.41-.59l7.78-7.78 2.81-2.81c.8-.78.8-2.07 0-2.86zM5.41 20L4 18.59l7.72-7.72 1.47 1.35L5.41 20z\"/>\n",
              "  </svg>\n",
              "      </button>\n",
              "      \n",
              "  <style>\n",
              "    .colab-df-container {\n",
              "      display:flex;\n",
              "      flex-wrap:wrap;\n",
              "      gap: 12px;\n",
              "    }\n",
              "\n",
              "    .colab-df-convert {\n",
              "      background-color: #E8F0FE;\n",
              "      border: none;\n",
              "      border-radius: 50%;\n",
              "      cursor: pointer;\n",
              "      display: none;\n",
              "      fill: #1967D2;\n",
              "      height: 32px;\n",
              "      padding: 0 0 0 0;\n",
              "      width: 32px;\n",
              "    }\n",
              "\n",
              "    .colab-df-convert:hover {\n",
              "      background-color: #E2EBFA;\n",
              "      box-shadow: 0px 1px 2px rgba(60, 64, 67, 0.3), 0px 1px 3px 1px rgba(60, 64, 67, 0.15);\n",
              "      fill: #174EA6;\n",
              "    }\n",
              "\n",
              "    [theme=dark] .colab-df-convert {\n",
              "      background-color: #3B4455;\n",
              "      fill: #D2E3FC;\n",
              "    }\n",
              "\n",
              "    [theme=dark] .colab-df-convert:hover {\n",
              "      background-color: #434B5C;\n",
              "      box-shadow: 0px 1px 3px 1px rgba(0, 0, 0, 0.15);\n",
              "      filter: drop-shadow(0px 1px 2px rgba(0, 0, 0, 0.3));\n",
              "      fill: #FFFFFF;\n",
              "    }\n",
              "  </style>\n",
              "\n",
              "      <script>\n",
              "        const buttonEl =\n",
              "          document.querySelector('#df-f2ffa551-9282-40e9-9b5d-c13ea3ef1978 button.colab-df-convert');\n",
              "        buttonEl.style.display =\n",
              "          google.colab.kernel.accessAllowed ? 'block' : 'none';\n",
              "\n",
              "        async function convertToInteractive(key) {\n",
              "          const element = document.querySelector('#df-f2ffa551-9282-40e9-9b5d-c13ea3ef1978');\n",
              "          const dataTable =\n",
              "            await google.colab.kernel.invokeFunction('convertToInteractive',\n",
              "                                                     [key], {});\n",
              "          if (!dataTable) return;\n",
              "\n",
              "          const docLinkHtml = 'Like what you see? Visit the ' +\n",
              "            '<a target=\"_blank\" href=https://colab.research.google.com/notebooks/data_table.ipynb>data table notebook</a>'\n",
              "            + ' to learn more about interactive tables.';\n",
              "          element.innerHTML = '';\n",
              "          dataTable['output_type'] = 'display_data';\n",
              "          await google.colab.output.renderOutput(dataTable, element);\n",
              "          const docLink = document.createElement('div');\n",
              "          docLink.innerHTML = docLinkHtml;\n",
              "          element.appendChild(docLink);\n",
              "        }\n",
              "      </script>\n",
              "    </div>\n",
              "  </div>\n",
              "  "
            ],
            "text/plain": [
              "            X         Y\n",
              "0   -0.900681  1.019004\n",
              "1   -1.143017 -0.131979\n",
              "2   -1.385353  0.328414\n",
              "3   -1.506521  0.098217\n",
              "4   -1.021849  1.249201\n",
              "..        ...       ...\n",
              "145  1.038005 -0.131979\n",
              "146  0.553333 -1.282963\n",
              "147  0.795669 -0.131979\n",
              "148  0.432165  0.788808\n",
              "149  0.068662 -0.131979\n",
              "\n",
              "[150 rows x 2 columns]"
            ]
          },
          "execution_count": 437,
          "metadata": {},
          "output_type": "execute_result"
        }
      ],
      "source": [
        "df"
      ]
    },
    {
      "cell_type": "markdown",
      "metadata": {
        "id": "i5Y1u0NHD5Ep"
      },
      "source": [
        "\n",
        "\n",
        "---\n",
        "\n",
        "\n",
        "\n",
        "---\n",
        "\n",
        "\n",
        "#**kmeans**\n"
      ]
    },
    {
      "cell_type": "markdown",
      "metadata": {
        "id": "lWnjp9PlEMk1"
      },
      "source": [
        "## Import iris dataset"
      ]
    },
    {
      "cell_type": "code",
      "execution_count": 438,
      "metadata": {
        "colab": {
          "base_uri": "https://localhost:8080/",
          "height": 516
        },
        "id": "71fIXx_2EA-K",
        "outputId": "b8ad1723-596f-46f9-991d-c798b6d82c58"
      },
      "outputs": [
        {
          "name": "stderr",
          "output_type": "stream",
          "text": [
            "/usr/local/lib/python3.8/dist-packages/sklearn/utils/validation.py:1688: FutureWarning: Feature names only support names that are all strings. Got feature names with dtypes: ['tuple']. An error will be raised in 1.2.\n",
            "  warnings.warn(\n",
            "/usr/local/lib/python3.8/dist-packages/sklearn/utils/validation.py:1688: FutureWarning: Feature names only support names that are all strings. Got feature names with dtypes: ['tuple']. An error will be raised in 1.2.\n",
            "  warnings.warn(\n"
          ]
        },
        {
          "data": {
            "text/html": [
              "\n",
              "  <div id=\"df-126c1629-0046-47db-9960-8bd535bbdea9\">\n",
              "    <div class=\"colab-df-container\">\n",
              "      <div>\n",
              "<style scoped>\n",
              "    .dataframe tbody tr th:only-of-type {\n",
              "        vertical-align: middle;\n",
              "    }\n",
              "\n",
              "    .dataframe tbody tr th {\n",
              "        vertical-align: top;\n",
              "    }\n",
              "\n",
              "    .dataframe thead tr th {\n",
              "        text-align: left;\n",
              "    }\n",
              "</style>\n",
              "<table border=\"1\" class=\"dataframe\">\n",
              "  <thead>\n",
              "    <tr>\n",
              "      <th></th>\n",
              "      <th>sepal length</th>\n",
              "      <th>sepal width</th>\n",
              "    </tr>\n",
              "  </thead>\n",
              "  <tbody>\n",
              "    <tr>\n",
              "      <th>0</th>\n",
              "      <td>-0.900681</td>\n",
              "      <td>1.019004</td>\n",
              "    </tr>\n",
              "    <tr>\n",
              "      <th>1</th>\n",
              "      <td>-1.143017</td>\n",
              "      <td>-0.131979</td>\n",
              "    </tr>\n",
              "    <tr>\n",
              "      <th>2</th>\n",
              "      <td>-1.385353</td>\n",
              "      <td>0.328414</td>\n",
              "    </tr>\n",
              "    <tr>\n",
              "      <th>3</th>\n",
              "      <td>-1.506521</td>\n",
              "      <td>0.098217</td>\n",
              "    </tr>\n",
              "    <tr>\n",
              "      <th>4</th>\n",
              "      <td>-1.021849</td>\n",
              "      <td>1.249201</td>\n",
              "    </tr>\n",
              "    <tr>\n",
              "      <th>...</th>\n",
              "      <td>...</td>\n",
              "      <td>...</td>\n",
              "    </tr>\n",
              "    <tr>\n",
              "      <th>145</th>\n",
              "      <td>1.038005</td>\n",
              "      <td>-0.131979</td>\n",
              "    </tr>\n",
              "    <tr>\n",
              "      <th>146</th>\n",
              "      <td>0.553333</td>\n",
              "      <td>-1.282963</td>\n",
              "    </tr>\n",
              "    <tr>\n",
              "      <th>147</th>\n",
              "      <td>0.795669</td>\n",
              "      <td>-0.131979</td>\n",
              "    </tr>\n",
              "    <tr>\n",
              "      <th>148</th>\n",
              "      <td>0.432165</td>\n",
              "      <td>0.788808</td>\n",
              "    </tr>\n",
              "    <tr>\n",
              "      <th>149</th>\n",
              "      <td>0.068662</td>\n",
              "      <td>-0.131979</td>\n",
              "    </tr>\n",
              "  </tbody>\n",
              "</table>\n",
              "<p>150 rows × 2 columns</p>\n",
              "</div>\n",
              "      <button class=\"colab-df-convert\" onclick=\"convertToInteractive('df-126c1629-0046-47db-9960-8bd535bbdea9')\"\n",
              "              title=\"Convert this dataframe to an interactive table.\"\n",
              "              style=\"display:none;\">\n",
              "        \n",
              "  <svg xmlns=\"http://www.w3.org/2000/svg\" height=\"24px\"viewBox=\"0 0 24 24\"\n",
              "       width=\"24px\">\n",
              "    <path d=\"M0 0h24v24H0V0z\" fill=\"none\"/>\n",
              "    <path d=\"M18.56 5.44l.94 2.06.94-2.06 2.06-.94-2.06-.94-.94-2.06-.94 2.06-2.06.94zm-11 1L8.5 8.5l.94-2.06 2.06-.94-2.06-.94L8.5 2.5l-.94 2.06-2.06.94zm10 10l.94 2.06.94-2.06 2.06-.94-2.06-.94-.94-2.06-.94 2.06-2.06.94z\"/><path d=\"M17.41 7.96l-1.37-1.37c-.4-.4-.92-.59-1.43-.59-.52 0-1.04.2-1.43.59L10.3 9.45l-7.72 7.72c-.78.78-.78 2.05 0 2.83L4 21.41c.39.39.9.59 1.41.59.51 0 1.02-.2 1.41-.59l7.78-7.78 2.81-2.81c.8-.78.8-2.07 0-2.86zM5.41 20L4 18.59l7.72-7.72 1.47 1.35L5.41 20z\"/>\n",
              "  </svg>\n",
              "      </button>\n",
              "      \n",
              "  <style>\n",
              "    .colab-df-container {\n",
              "      display:flex;\n",
              "      flex-wrap:wrap;\n",
              "      gap: 12px;\n",
              "    }\n",
              "\n",
              "    .colab-df-convert {\n",
              "      background-color: #E8F0FE;\n",
              "      border: none;\n",
              "      border-radius: 50%;\n",
              "      cursor: pointer;\n",
              "      display: none;\n",
              "      fill: #1967D2;\n",
              "      height: 32px;\n",
              "      padding: 0 0 0 0;\n",
              "      width: 32px;\n",
              "    }\n",
              "\n",
              "    .colab-df-convert:hover {\n",
              "      background-color: #E2EBFA;\n",
              "      box-shadow: 0px 1px 2px rgba(60, 64, 67, 0.3), 0px 1px 3px 1px rgba(60, 64, 67, 0.15);\n",
              "      fill: #174EA6;\n",
              "    }\n",
              "\n",
              "    [theme=dark] .colab-df-convert {\n",
              "      background-color: #3B4455;\n",
              "      fill: #D2E3FC;\n",
              "    }\n",
              "\n",
              "    [theme=dark] .colab-df-convert:hover {\n",
              "      background-color: #434B5C;\n",
              "      box-shadow: 0px 1px 3px 1px rgba(0, 0, 0, 0.15);\n",
              "      filter: drop-shadow(0px 1px 2px rgba(0, 0, 0, 0.3));\n",
              "      fill: #FFFFFF;\n",
              "    }\n",
              "  </style>\n",
              "\n",
              "      <script>\n",
              "        const buttonEl =\n",
              "          document.querySelector('#df-126c1629-0046-47db-9960-8bd535bbdea9 button.colab-df-convert');\n",
              "        buttonEl.style.display =\n",
              "          google.colab.kernel.accessAllowed ? 'block' : 'none';\n",
              "\n",
              "        async function convertToInteractive(key) {\n",
              "          const element = document.querySelector('#df-126c1629-0046-47db-9960-8bd535bbdea9');\n",
              "          const dataTable =\n",
              "            await google.colab.kernel.invokeFunction('convertToInteractive',\n",
              "                                                     [key], {});\n",
              "          if (!dataTable) return;\n",
              "\n",
              "          const docLinkHtml = 'Like what you see? Visit the ' +\n",
              "            '<a target=\"_blank\" href=https://colab.research.google.com/notebooks/data_table.ipynb>data table notebook</a>'\n",
              "            + ' to learn more about interactive tables.';\n",
              "          element.innerHTML = '';\n",
              "          dataTable['output_type'] = 'display_data';\n",
              "          await google.colab.output.renderOutput(dataTable, element);\n",
              "          const docLink = document.createElement('div');\n",
              "          docLink.innerHTML = docLinkHtml;\n",
              "          element.appendChild(docLink);\n",
              "        }\n",
              "      </script>\n",
              "    </div>\n",
              "  </div>\n",
              "  "
            ],
            "text/plain": [
              "    sepal length sepal width\n",
              "0      -0.900681    1.019004\n",
              "1      -1.143017   -0.131979\n",
              "2      -1.385353    0.328414\n",
              "3      -1.506521    0.098217\n",
              "4      -1.021849    1.249201\n",
              "..           ...         ...\n",
              "145     1.038005   -0.131979\n",
              "146     0.553333   -1.282963\n",
              "147     0.795669   -0.131979\n",
              "148     0.432165    0.788808\n",
              "149     0.068662   -0.131979\n",
              "\n",
              "[150 rows x 2 columns]"
            ]
          },
          "execution_count": 438,
          "metadata": {},
          "output_type": "execute_result"
        }
      ],
      "source": [
        "iris = load_iris()\n",
        "d = iris.data[:,0:2]\n",
        "dfkmeans = pd.DataFrame(data=d, columns=[['sepal length', 'sepal width']])\n",
        "\n",
        "#---scalling\n",
        "scaler = StandardScaler()\n",
        "dfkmeans[['sepal length', 'sepal width']] = scaler.fit_transform(dfkmeans[['sepal length', 'sepal width']])\n",
        "dfkmeans"
      ]
    },
    {
      "cell_type": "markdown",
      "metadata": {
        "id": "MnvR5T-AEtXj"
      },
      "source": [
        "# VIsualisation des clusters à partir le regroupement du dataset"
      ]
    },
    {
      "cell_type": "code",
      "execution_count": 439,
      "metadata": {
        "colab": {
          "base_uri": "https://localhost:8080/",
          "height": 305
        },
        "id": "E5ZWSyyZEugm",
        "outputId": "be3ca14b-6108-447b-f47c-2269de3f0a01"
      },
      "outputs": [
        {
          "data": {
            "text/plain": [
              "Text(0, 0.5, 'sepal length')"
            ]
          },
          "execution_count": 439,
          "metadata": {},
          "output_type": "execute_result"
        },
        {
          "data": {
            "image/png": "[encoded data removed]",
            "text/plain": [
              "<Figure size 432x288 with 1 Axes>"
            ]
          },
          "metadata": {
            "needs_background": "light"
          },
          "output_type": "display_data"
        }
      ],
      "source": [
        "plt.scatter(x=dfkmeans['sepal length'],y = dfkmeans['sepal width'], c = iris.target, cmap='gist_rainbow')\n",
        "plt.xlabel('sepal width', fontsize=18)\n",
        "plt.ylabel('sepal length', fontsize=18)"
      ]
    },
    {
      "attachments": {},
      "cell_type": "markdown",
      "metadata": {
        "id": "mJxNTk-5FPkQ"
      },
      "source": [
        "# Results using  KMeans  k=3"
      ]
    },
    {
      "cell_type": "code",
      "execution_count": 440,
      "metadata": {
        "colab": {
          "base_uri": "https://localhost:8080/",
          "height": 321
        },
        "id": "ZQlJcSlbFQbk",
        "outputId": "7b686350-6a0c-431e-a7fe-67024041bc1b"
      },
      "outputs": [
        {
          "name": "stderr",
          "output_type": "stream",
          "text": [
            "/usr/local/lib/python3.8/dist-packages/sklearn/utils/validation.py:1688: FutureWarning: Feature names only support names that are all strings. Got feature names with dtypes: ['tuple']. An error will be raised in 1.2.\n",
            "  warnings.warn(\n"
          ]
        },
        {
          "data": {
            "image/png": "[encoded data removed]",
            "text/plain": [
              "<Figure size 432x288 with 1 Axes>"
            ]
          },
          "metadata": {
            "needs_background": "light"
          },
          "output_type": "display_data"
        }
      ],
      "source": [
        "kmeans = KMeans(n_clusters=3)\n",
        "kmeans.fit(dfkmeans[['sepal length','sepal width']])\n",
        "dfkmeans['kmeans_3'] = kmeans.labels_\n",
        "dfkmeans\n",
        "plt.scatter(x=dfkmeans['sepal length'],y = dfkmeans['sepal width'], c = dfkmeans['kmeans_3'])\n",
        "plt.show()"
      ]
    },
    {
      "cell_type": "markdown",
      "metadata": {
        "id": "5H0mwcnKFphO"
      },
      "source": [
        "## Number of elements for each cluster"
      ]
    },
    {
      "cell_type": "code",
      "execution_count": 441,
      "metadata": {
        "colab": {
          "base_uri": "https://localhost:8080/",
          "height": 424
        },
        "id": "fIR9ac8_GBWk",
        "outputId": "a77eddf9-a5bb-44ff-e80d-c05934823c2c"
      },
      "outputs": [
        {
          "data": {
            "text/html": [
              "\n",
              "  <div id=\"df-bef05926-c038-401c-b71a-3b472041d11f\">\n",
              "    <div class=\"colab-df-container\">\n",
              "      <div>\n",
              "<style scoped>\n",
              "    .dataframe tbody tr th:only-of-type {\n",
              "        vertical-align: middle;\n",
              "    }\n",
              "\n",
              "    .dataframe tbody tr th {\n",
              "        vertical-align: top;\n",
              "    }\n",
              "\n",
              "    .dataframe thead tr th {\n",
              "        text-align: left;\n",
              "    }\n",
              "</style>\n",
              "<table border=\"1\" class=\"dataframe\">\n",
              "  <thead>\n",
              "    <tr>\n",
              "      <th></th>\n",
              "      <th>sepal length</th>\n",
              "      <th>sepal width</th>\n",
              "      <th>kmeans_3</th>\n",
              "    </tr>\n",
              "  </thead>\n",
              "  <tbody>\n",
              "    <tr>\n",
              "      <th>0</th>\n",
              "      <td>-0.900681</td>\n",
              "      <td>1.019004</td>\n",
              "      <td>0</td>\n",
              "    </tr>\n",
              "    <tr>\n",
              "      <th>1</th>\n",
              "      <td>-1.143017</td>\n",
              "      <td>-0.131979</td>\n",
              "      <td>0</td>\n",
              "    </tr>\n",
              "    <tr>\n",
              "      <th>2</th>\n",
              "      <td>-1.385353</td>\n",
              "      <td>0.328414</td>\n",
              "      <td>0</td>\n",
              "    </tr>\n",
              "    <tr>\n",
              "      <th>3</th>\n",
              "      <td>-1.506521</td>\n",
              "      <td>0.098217</td>\n",
              "      <td>0</td>\n",
              "    </tr>\n",
              "    <tr>\n",
              "      <th>4</th>\n",
              "      <td>-1.021849</td>\n",
              "      <td>1.249201</td>\n",
              "      <td>0</td>\n",
              "    </tr>\n",
              "    <tr>\n",
              "      <th>...</th>\n",
              "      <td>...</td>\n",
              "      <td>...</td>\n",
              "      <td>...</td>\n",
              "    </tr>\n",
              "    <tr>\n",
              "      <th>145</th>\n",
              "      <td>1.038005</td>\n",
              "      <td>-0.131979</td>\n",
              "      <td>2</td>\n",
              "    </tr>\n",
              "    <tr>\n",
              "      <th>146</th>\n",
              "      <td>0.553333</td>\n",
              "      <td>-1.282963</td>\n",
              "      <td>1</td>\n",
              "    </tr>\n",
              "    <tr>\n",
              "      <th>147</th>\n",
              "      <td>0.795669</td>\n",
              "      <td>-0.131979</td>\n",
              "      <td>2</td>\n",
              "    </tr>\n",
              "    <tr>\n",
              "      <th>148</th>\n",
              "      <td>0.432165</td>\n",
              "      <td>0.788808</td>\n",
              "      <td>2</td>\n",
              "    </tr>\n",
              "    <tr>\n",
              "      <th>149</th>\n",
              "      <td>0.068662</td>\n",
              "      <td>-0.131979</td>\n",
              "      <td>1</td>\n",
              "    </tr>\n",
              "  </tbody>\n",
              "</table>\n",
              "<p>150 rows × 3 columns</p>\n",
              "</div>\n",
              "      <button class=\"colab-df-convert\" onclick=\"convertToInteractive('df-bef05926-c038-401c-b71a-3b472041d11f')\"\n",
              "              title=\"Convert this dataframe to an interactive table.\"\n",
              "              style=\"display:none;\">\n",
              "        \n",
              "  <svg xmlns=\"http://www.w3.org/2000/svg\" height=\"24px\"viewBox=\"0 0 24 24\"\n",
              "       width=\"24px\">\n",
              "    <path d=\"M0 0h24v24H0V0z\" fill=\"none\"/>\n",
              "    <path d=\"M18.56 5.44l.94 2.06.94-2.06 2.06-.94-2.06-.94-.94-2.06-.94 2.06-2.06.94zm-11 1L8.5 8.5l.94-2.06 2.06-.94-2.06-.94L8.5 2.5l-.94 2.06-2.06.94zm10 10l.94 2.06.94-2.06 2.06-.94-2.06-.94-.94-2.06-.94 2.06-2.06.94z\"/><path d=\"M17.41 7.96l-1.37-1.37c-.4-.4-.92-.59-1.43-.59-.52 0-1.04.2-1.43.59L10.3 9.45l-7.72 7.72c-.78.78-.78 2.05 0 2.83L4 21.41c.39.39.9.59 1.41.59.51 0 1.02-.2 1.41-.59l7.78-7.78 2.81-2.81c.8-.78.8-2.07 0-2.86zM5.41 20L4 18.59l7.72-7.72 1.47 1.35L5.41 20z\"/>\n",
              "  </svg>\n",
              "      </button>\n",
              "      \n",
              "  <style>\n",
              "    .colab-df-container {\n",
              "      display:flex;\n",
              "      flex-wrap:wrap;\n",
              "      gap: 12px;\n",
              "    }\n",
              "\n",
              "    .colab-df-convert {\n",
              "      background-color: #E8F0FE;\n",
              "      border: none;\n",
              "      border-radius: 50%;\n",
              "      cursor: pointer;\n",
              "      display: none;\n",
              "      fill: #1967D2;\n",
              "      height: 32px;\n",
              "      padding: 0 0 0 0;\n",
              "      width: 32px;\n",
              "    }\n",
              "\n",
              "    .colab-df-convert:hover {\n",
              "      background-color: #E2EBFA;\n",
              "      box-shadow: 0px 1px 2px rgba(60, 64, 67, 0.3), 0px 1px 3px 1px rgba(60, 64, 67, 0.15);\n",
              "      fill: #174EA6;\n",
              "    }\n",
              "\n",
              "    [theme=dark] .colab-df-convert {\n",
              "      background-color: #3B4455;\n",
              "      fill: #D2E3FC;\n",
              "    }\n",
              "\n",
              "    [theme=dark] .colab-df-convert:hover {\n",
              "      background-color: #434B5C;\n",
              "      box-shadow: 0px 1px 3px 1px rgba(0, 0, 0, 0.15);\n",
              "      filter: drop-shadow(0px 1px 2px rgba(0, 0, 0, 0.3));\n",
              "      fill: #FFFFFF;\n",
              "    }\n",
              "  </style>\n",
              "\n",
              "      <script>\n",
              "        const buttonEl =\n",
              "          document.querySelector('#df-bef05926-c038-401c-b71a-3b472041d11f button.colab-df-convert');\n",
              "        buttonEl.style.display =\n",
              "          google.colab.kernel.accessAllowed ? 'block' : 'none';\n",
              "\n",
              "        async function convertToInteractive(key) {\n",
              "          const element = document.querySelector('#df-bef05926-c038-401c-b71a-3b472041d11f');\n",
              "          const dataTable =\n",
              "            await google.colab.kernel.invokeFunction('convertToInteractive',\n",
              "                                                     [key], {});\n",
              "          if (!dataTable) return;\n",
              "\n",
              "          const docLinkHtml = 'Like what you see? Visit the ' +\n",
              "            '<a target=\"_blank\" href=https://colab.research.google.com/notebooks/data_table.ipynb>data table notebook</a>'\n",
              "            + ' to learn more about interactive tables.';\n",
              "          element.innerHTML = '';\n",
              "          dataTable['output_type'] = 'display_data';\n",
              "          await google.colab.output.renderOutput(dataTable, element);\n",
              "          const docLink = document.createElement('div');\n",
              "          docLink.innerHTML = docLinkHtml;\n",
              "          element.appendChild(docLink);\n",
              "        }\n",
              "      </script>\n",
              "    </div>\n",
              "  </div>\n",
              "  "
            ],
            "text/plain": [
              "    sepal length sepal width kmeans_3\n",
              "0      -0.900681    1.019004        0\n",
              "1      -1.143017   -0.131979        0\n",
              "2      -1.385353    0.328414        0\n",
              "3      -1.506521    0.098217        0\n",
              "4      -1.021849    1.249201        0\n",
              "..           ...         ...      ...\n",
              "145     1.038005   -0.131979        2\n",
              "146     0.553333   -1.282963        1\n",
              "147     0.795669   -0.131979        2\n",
              "148     0.432165    0.788808        2\n",
              "149     0.068662   -0.131979        1\n",
              "\n",
              "[150 rows x 3 columns]"
            ]
          },
          "execution_count": 441,
          "metadata": {},
          "output_type": "execute_result"
        }
      ],
      "source": [
        "dfkmeans"
      ]
    },
    {
      "cell_type": "code",
      "execution_count": 442,
      "metadata": {
        "colab": {
          "base_uri": "https://localhost:8080/"
        },
        "id": "2PErG6KDFqn-",
        "outputId": "54e2a771-6dc2-4e19-c394-7d9210e3a22b"
      },
      "outputs": [
        {
          "name": "stdout",
          "output_type": "stream",
          "text": [
            "[50, 57, 43]\n"
          ]
        }
      ],
      "source": [
        "kmeansNbrElem =[]\n",
        "kmeansclusters = []\n",
        "c1 = []\n",
        "c2 = []\n",
        "c3 = []\n",
        "c1len = 0\n",
        "c2len = 0\n",
        "c3len = 0\n",
        "for i in range(dfkmeans.shape[0]):\n",
        "  if(dfkmeans.iloc[i,2]==0):\n",
        "    c1.append(dfkmeans.iloc[i,0])\n",
        "    c1.append(dfkmeans.iloc[i,1])\n",
        "    c1len += 1\n",
        "  elif(dfkmeans.iloc[i,2]==1):\n",
        "    c2len += 1\n",
        "    c2.append(dfkmeans.iloc[i,0])\n",
        "    c2.append(dfkmeans.iloc[i,1])\n",
        "  else:\n",
        "    c3len += 1\n",
        "    c3.append(dfkmeans.iloc[i,0])\n",
        "    c3.append(dfkmeans.iloc[i,1])\n",
        "#number of elements for each cluster\n",
        "kmeansNbrElem.append(c1len)\n",
        "kmeansNbrElem.append(c2len)\n",
        "kmeansNbrElem.append(c3len)\n",
        "#liste of elements of each cluster\n",
        "kmeansclusters.append(c1)\n",
        "kmeansclusters.append(c2)\n",
        "kmeansclusters.append(c3)\n",
        "\n",
        "print(kmeansNbrElem)\n"
      ]
    },
    {
      "cell_type": "markdown",
      "metadata": {
        "id": "-Xx33zOFGLV_"
      },
      "source": [
        "## Interdistance"
      ]
    },
    {
      "cell_type": "code",
      "execution_count": 443,
      "metadata": {
        "colab": {
          "base_uri": "https://localhost:8080/"
        },
        "id": "QwwkuVB0GMFr",
        "outputId": "f295a358-c2ca-46e6-876c-5aebe4a2aaf6"
      },
      "outputs": [
        {
          "name": "stdout",
          "output_type": "stream",
          "text": [
            "la distance entre le cluster 0 et le cluster 1 est 2.0253055225919074\n",
            "la distance entre le cluster 0 et le cluster 2 est 2.3110844495580705\n",
            "la distance entre le cluster 1 et le cluster 2 est 1.6200633584821689\n"
          ]
        }
      ],
      "source": [
        "def cluster_center(cluster):\n",
        "  center = []\n",
        "  nbrCordonnee = 2\n",
        "  i = 0\n",
        "  while(i<nbrCordonnee):\n",
        "    j = i\n",
        "    c = cluster[i]\n",
        "    while(j<len(cluster)-nbrCordonnee):\n",
        "      c = c + cluster[j+nbrCordonnee]\n",
        "      j = j+ nbrCordonnee\n",
        "    c = c / (len(cluster)/nbrCordonnee)\n",
        "    center.append(c)\n",
        "    i = i + 1\n",
        "\n",
        "  return center \n",
        "\n",
        "def centerOfEachCLuster(clusters):\n",
        "  clusters_centers = []\n",
        "  for i in range(len(clusters)):\n",
        "    clusters_centers.append(cluster_center(clusters[i]))\n",
        "  return clusters_centers\n",
        "  \n",
        "clusters_centers = centerOfEachCLuster(kmeansclusters)\n",
        "clusters_centers\n",
        "#la distance entre les clusters\n",
        "distanceEntreClusterKMeans = []\n",
        "for i in range(len(clusters_centers)-1):\n",
        "  j = i + 1\n",
        "  while(j<len(clusters_centers)):\n",
        "      d = ((clusters_centers[i][0]-clusters_centers[j][0])**2)+((clusters_centers[i][1]-clusters_centers[j][1])**2)\n",
        "      d = np.sqrt(d)\n",
        "      print(\"la distance entre le cluster\",i,\"et le cluster\",j,\"est\",d)\n",
        "      distanceEntreClusterKMeans.append(d)\n",
        "      j = j + 1\n",
        "      d = 0"
      ]
    },
    {
      "cell_type": "markdown",
      "metadata": {
        "id": "jwmNIkz2cbQC"
      },
      "source": [
        "##comparison between the number of individuals for each cluster from our clustring algorithm and kmeans algorithm"
      ]
    },
    {
      "cell_type": "code",
      "execution_count": 444,
      "metadata": {
        "colab": {
          "base_uri": "https://localhost:8080/",
          "height": 295
        },
        "id": "6ALWVnCoI6JJ",
        "outputId": "fd527507-fad4-403d-b4e0-3f8b29890abf"
      },
      "outputs": [
        {
          "data": {
            "image/png": "[encoded data removed]",
            "text/plain": [
              "<Figure size 432x288 with 1 Axes>"
            ]
          },
          "metadata": {
            "needs_background": "light"
          },
          "output_type": "display_data"
        }
      ],
      "source": [
        "# x-coordinates of left sides of bars \n",
        "left = np.arange(3)\n",
        "  \n",
        "# heights of bars\n",
        "height = nbrElem\n",
        "height1 = kmeansNbrElem\n",
        "width = 0.35\n",
        "# labels for bars\n",
        "tick_label = ['C1', 'C2', 'C3']\n",
        "# plotting a bar chart\n",
        "plt.bar(left, height, tick_label = tick_label, width = 0.35, color = ['blue'], label='kmeans')\n",
        "plt.bar(left+width, height1, tick_label = tick_label, width = 0.35, color = ['green'])\n",
        "  \n",
        "# naming the x-axis\n",
        "plt.xlabel('clusters - axis')\n",
        "# naming the y-axis\n",
        "plt.ylabel('individuals number  - axis')\n",
        "# plot title\n",
        "plt.title('The number of individuals for each cluster')\n",
        "  \n",
        "# function to show the plot\n",
        "plt.show()\n",
        "#--------------------------------"
      ]
    },
    {
      "cell_type": "markdown",
      "metadata": {
        "id": "bf8RRSHCc6xk"
      },
      "source": [
        "##Comparaison between interdistances of clustering and kmeans algorithm"
      ]
    },
    {
      "cell_type": "code",
      "execution_count": 445,
      "metadata": {
        "colab": {
          "base_uri": "https://localhost:8080/",
          "height": 295
        },
        "id": "hsZw-xEtc7Mj",
        "outputId": "d27f50c1-1052-41e8-cdd1-52dfbc6bcb2c"
      },
      "outputs": [
        {
          "data": {
            "image/png": "[encoded data removed]",
            "text/plain": [
              "<Figure size 432x288 with 1 Axes>"
            ]
          },
          "metadata": {
            "needs_background": "light"
          },
          "output_type": "display_data"
        }
      ],
      "source": [
        "# x-axis values\n",
        "x = ['c1c2','c1c3','c2c3']\n",
        "# y-axis values\n",
        "y1 = distanceEntreCluster\n",
        "y2 = distanceEntreClusterKMeans\n",
        "# plotting points as a scatter plot\n",
        "plt.scatter(x, y1, label= \"clustering\", color= \"blue\", \n",
        "            marker= \"*\", s=30)\n",
        "plt.scatter(x, y2, label= \"kmeans\", color= \"green\", \n",
        "            marker= \"*\", s=30) \n",
        "# x-axis label\n",
        "plt.xlabel('couples of clusters')\n",
        "# frequency label\n",
        "plt.ylabel('distance between couple of clusters')\n",
        "# plot title\n",
        "plt.title('Interdistance!')\n",
        "# showing legend\n",
        "plt.legend()\n",
        "  \n",
        "# function to show the plot\n",
        "plt.show()"
      ]
    }
  ],
  "metadata": {
    "colab": {
      "collapsed_sections": [
        "WbOwZ_oTKaP8",
        "M61NLqvb-dRZ",
        "qB7K6vK6DArB",
        "m18M6sQmExj9",
        "AfXJcSqw83hJ"
      ],
      "provenance": []
    },
    "kernelspec": {
      "display_name": "Python 3",
      "language": "python",
      "name": "python3"
    },
    "language_info": {
      "codemirror_mode": {
        "name": "ipython",
        "version": 3
      },
      "file_extension": ".py",
      "mimetype": "text/x-python",
      "name": "python",
      "nbconvert_exporter": "python",
      "pygments_lexer": "ipython3",
      "version": "3.6.9 (default, Jun 29 2022, 11:45:57) \n[GCC 8.4.0]"
    },
    "orig_nbformat": 4,
    "vscode": {
      "interpreter": {
        "hash": "31f2aee4e71d21fbe5cf8b01ff0e069b9275f58929596ceb00d14d90e3e16cd6"
      }
    }
  },
  "nbformat": 4,
  "nbformat_minor": 0
}
