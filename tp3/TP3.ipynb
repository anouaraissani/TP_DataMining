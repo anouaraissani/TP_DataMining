{
  "cells": [
    {
      "cell_type": "code",
      "execution_count": 65,
      "metadata": {
        "id": "ziOVRkM7ph6P"
      },
      "outputs": [],
      "source": [
        "import pandas as pd\n",
        "import numpy as np\n",
        "import matplotlib.pyplot as plt\n",
        "from math import inf\n",
        "from sklearn.preprocessing import StandardScaler\n",
        "\n",
        "#for kmeans\n",
        "import sklearn as sk\n",
        "%matplotlib inline\n",
        "from sklearn.cluster import KMeans"
      ]
    },
    {
      "cell_type": "code",
      "execution_count": 66,
      "metadata": {
        "colab": {
          "base_uri": "https://localhost:8080/"
        },
        "id": "3zddf8wYJE8l",
        "outputId": "3086034b-7520-42d3-83df-baa9f246c50d"
      },
      "outputs": [
        {
          "name": "stdout",
          "output_type": "stream",
          "text": [
            "Drive already mounted at /content/gdrive; to attempt to forcibly remount, call drive.mount(\"/content/gdrive\", force_remount=True).\n"
          ]
        }
      ],
      "source": [
        "from google.colab import drive\n",
        "drive.mount('/content/gdrive')"
      ]
    },
    {
      "cell_type": "code",
      "execution_count": 67,
      "metadata": {
        "id": "maThqmfPFjom"
      },
      "outputs": [],
      "source": [
        "df=pd.read_csv('/content/gdrive/MyDrive/diabetic_data.csv')\n",
        "\n",
        "#Dropping columns with more than 40% of missing values\n",
        "df.drop(['weight','payer_code','medical_specialty'],axis=1,inplace=True)\n",
        "\n",
        "#Retriving the index of the row where all 3(diag_1,diag_2 & diag_3) values are missing and storing it in drop_Idx set.\n",
        "drop_Idx=set(df[(df['diag_1']=='?') & (df['diag_2']=='?') & (df['diag_3']=='?')].index)\n",
        "\n",
        "#Retriving the index of the rows where only diag_1 value is missing and appending the same in drop_idx set.\n",
        "drop_Idx = drop_Idx.union(set(df['diag_1'][df['diag_1'] == '?'].index))\n",
        "\n",
        "#Retriving the index of the rows where only diag_2 value is missing and appending the same in drop_idx set.\n",
        "drop_Idx = drop_Idx.union(set(df['diag_2'][df['diag_2'] == '?'].index))\n",
        "\n",
        "#Retriving the index of the rows where only diag_3 value is missing and appending the same in drop_idx set.\n",
        "drop_Idx = drop_Idx.union(set(df['diag_3'][df['diag_3'] == '?'].index))\n",
        "\n",
        "#Retriving the index of the rows where only race value is missing and appending the same in drop_idx set.\n",
        "drop_Idx = drop_Idx.union(set(df['race'][df['race'] == '?'].index))\n",
        "\n",
        "#Retriving the index of the rows where discharge_disposition_id value is 11 and appending the same in drop_idx set.\n",
        "drop_Idx = drop_Idx.union(set(df[df['discharge_disposition_id'] == 11].index))\n",
        "\n",
        "#Retriving the index of the rows where gender value is'Unknown/Invalid' and appending the same in drop_idx set.\n",
        "drop_Idx = drop_Idx.union(set(df['gender'][df['gender'] == 'Unknown/Invalid'].index))\n",
        "\n",
        "#stored the final indexes in new_Idx\n",
        "new_Idx=list(set(df.index)-set(drop_Idx))\n",
        "\n",
        "#Final dataframe without missing values\n",
        "df=df.iloc[new_Idx]"
      ]
    },
    {
      "cell_type": "code",
      "execution_count": 68,
      "metadata": {
        "colab": {
          "base_uri": "https://localhost:8080/",
          "height": 990
        },
        "id": "-SwsA4TrJR19",
        "outputId": "193a5f3e-07e2-4dd3-b448-4ca2af3c86ad"
      },
      "outputs": [
        {
          "data": {
            "text/html": [
              "\n",
              "  <div id=\"df-1385e64f-8e57-4dde-849a-4682fcaa3f19\">\n",
              "    <div class=\"colab-df-container\">\n",
              "      <div>\n",
              "<style scoped>\n",
              "    .dataframe tbody tr th:only-of-type {\n",
              "        vertical-align: middle;\n",
              "    }\n",
              "\n",
              "    .dataframe tbody tr th {\n",
              "        vertical-align: top;\n",
              "    }\n",
              "\n",
              "    .dataframe thead th {\n",
              "        text-align: right;\n",
              "    }\n",
              "</style>\n",
              "<table border=\"1\" class=\"dataframe\">\n",
              "  <thead>\n",
              "    <tr style=\"text-align: right;\">\n",
              "      <th></th>\n",
              "      <th>X</th>\n",
              "      <th>Y</th>\n",
              "    </tr>\n",
              "  </thead>\n",
              "  <tbody>\n",
              "    <tr>\n",
              "      <th>1</th>\n",
              "      <td>3</td>\n",
              "      <td>18</td>\n",
              "    </tr>\n",
              "    <tr>\n",
              "      <th>2</th>\n",
              "      <td>2</td>\n",
              "      <td>13</td>\n",
              "    </tr>\n",
              "    <tr>\n",
              "      <th>3</th>\n",
              "      <td>2</td>\n",
              "      <td>16</td>\n",
              "    </tr>\n",
              "    <tr>\n",
              "      <th>4</th>\n",
              "      <td>1</td>\n",
              "      <td>8</td>\n",
              "    </tr>\n",
              "    <tr>\n",
              "      <th>5</th>\n",
              "      <td>3</td>\n",
              "      <td>16</td>\n",
              "    </tr>\n",
              "    <tr>\n",
              "      <th>6</th>\n",
              "      <td>4</td>\n",
              "      <td>21</td>\n",
              "    </tr>\n",
              "    <tr>\n",
              "      <th>7</th>\n",
              "      <td>5</td>\n",
              "      <td>12</td>\n",
              "    </tr>\n",
              "    <tr>\n",
              "      <th>8</th>\n",
              "      <td>13</td>\n",
              "      <td>28</td>\n",
              "    </tr>\n",
              "    <tr>\n",
              "      <th>9</th>\n",
              "      <td>12</td>\n",
              "      <td>18</td>\n",
              "    </tr>\n",
              "    <tr>\n",
              "      <th>10</th>\n",
              "      <td>9</td>\n",
              "      <td>17</td>\n",
              "    </tr>\n",
              "    <tr>\n",
              "      <th>11</th>\n",
              "      <td>7</td>\n",
              "      <td>11</td>\n",
              "    </tr>\n",
              "    <tr>\n",
              "      <th>12</th>\n",
              "      <td>7</td>\n",
              "      <td>15</td>\n",
              "    </tr>\n",
              "    <tr>\n",
              "      <th>13</th>\n",
              "      <td>10</td>\n",
              "      <td>31</td>\n",
              "    </tr>\n",
              "    <tr>\n",
              "      <th>14</th>\n",
              "      <td>1</td>\n",
              "      <td>2</td>\n",
              "    </tr>\n",
              "    <tr>\n",
              "      <th>15</th>\n",
              "      <td>12</td>\n",
              "      <td>13</td>\n",
              "    </tr>\n",
              "    <tr>\n",
              "      <th>16</th>\n",
              "      <td>4</td>\n",
              "      <td>17</td>\n",
              "    </tr>\n",
              "    <tr>\n",
              "      <th>17</th>\n",
              "      <td>3</td>\n",
              "      <td>11</td>\n",
              "    </tr>\n",
              "    <tr>\n",
              "      <th>18</th>\n",
              "      <td>5</td>\n",
              "      <td>23</td>\n",
              "    </tr>\n",
              "    <tr>\n",
              "      <th>22</th>\n",
              "      <td>2</td>\n",
              "      <td>12</td>\n",
              "    </tr>\n",
              "    <tr>\n",
              "      <th>23</th>\n",
              "      <td>11</td>\n",
              "      <td>19</td>\n",
              "    </tr>\n",
              "    <tr>\n",
              "      <th>24</th>\n",
              "      <td>3</td>\n",
              "      <td>18</td>\n",
              "    </tr>\n",
              "    <tr>\n",
              "      <th>25</th>\n",
              "      <td>1</td>\n",
              "      <td>7</td>\n",
              "    </tr>\n",
              "    <tr>\n",
              "      <th>26</th>\n",
              "      <td>6</td>\n",
              "      <td>18</td>\n",
              "    </tr>\n",
              "    <tr>\n",
              "      <th>27</th>\n",
              "      <td>2</td>\n",
              "      <td>11</td>\n",
              "    </tr>\n",
              "    <tr>\n",
              "      <th>28</th>\n",
              "      <td>10</td>\n",
              "      <td>20</td>\n",
              "    </tr>\n",
              "    <tr>\n",
              "      <th>29</th>\n",
              "      <td>5</td>\n",
              "      <td>14</td>\n",
              "    </tr>\n",
              "    <tr>\n",
              "      <th>30</th>\n",
              "      <td>6</td>\n",
              "      <td>18</td>\n",
              "    </tr>\n",
              "    <tr>\n",
              "      <th>31</th>\n",
              "      <td>1</td>\n",
              "      <td>10</td>\n",
              "    </tr>\n",
              "    <tr>\n",
              "      <th>32</th>\n",
              "      <td>6</td>\n",
              "      <td>16</td>\n",
              "    </tr>\n",
              "    <tr>\n",
              "      <th>33</th>\n",
              "      <td>5</td>\n",
              "      <td>18</td>\n",
              "    </tr>\n",
              "  </tbody>\n",
              "</table>\n",
              "</div>\n",
              "      <button class=\"colab-df-convert\" onclick=\"convertToInteractive('df-1385e64f-8e57-4dde-849a-4682fcaa3f19')\"\n",
              "              title=\"Convert this dataframe to an interactive table.\"\n",
              "              style=\"display:none;\">\n",
              "        \n",
              "  <svg xmlns=\"http://www.w3.org/2000/svg\" height=\"24px\"viewBox=\"0 0 24 24\"\n",
              "       width=\"24px\">\n",
              "    <path d=\"M0 0h24v24H0V0z\" fill=\"none\"/>\n",
              "    <path d=\"M18.56 5.44l.94 2.06.94-2.06 2.06-.94-2.06-.94-.94-2.06-.94 2.06-2.06.94zm-11 1L8.5 8.5l.94-2.06 2.06-.94-2.06-.94L8.5 2.5l-.94 2.06-2.06.94zm10 10l.94 2.06.94-2.06 2.06-.94-2.06-.94-.94-2.06-.94 2.06-2.06.94z\"/><path d=\"M17.41 7.96l-1.37-1.37c-.4-.4-.92-.59-1.43-.59-.52 0-1.04.2-1.43.59L10.3 9.45l-7.72 7.72c-.78.78-.78 2.05 0 2.83L4 21.41c.39.39.9.59 1.41.59.51 0 1.02-.2 1.41-.59l7.78-7.78 2.81-2.81c.8-.78.8-2.07 0-2.86zM5.41 20L4 18.59l7.72-7.72 1.47 1.35L5.41 20z\"/>\n",
              "  </svg>\n",
              "      </button>\n",
              "      \n",
              "  <style>\n",
              "    .colab-df-container {\n",
              "      display:flex;\n",
              "      flex-wrap:wrap;\n",
              "      gap: 12px;\n",
              "    }\n",
              "\n",
              "    .colab-df-convert {\n",
              "      background-color: #E8F0FE;\n",
              "      border: none;\n",
              "      border-radius: 50%;\n",
              "      cursor: pointer;\n",
              "      display: none;\n",
              "      fill: #1967D2;\n",
              "      height: 32px;\n",
              "      padding: 0 0 0 0;\n",
              "      width: 32px;\n",
              "    }\n",
              "\n",
              "    .colab-df-convert:hover {\n",
              "      background-color: #E2EBFA;\n",
              "      box-shadow: 0px 1px 2px rgba(60, 64, 67, 0.3), 0px 1px 3px 1px rgba(60, 64, 67, 0.15);\n",
              "      fill: #174EA6;\n",
              "    }\n",
              "\n",
              "    [theme=dark] .colab-df-convert {\n",
              "      background-color: #3B4455;\n",
              "      fill: #D2E3FC;\n",
              "    }\n",
              "\n",
              "    [theme=dark] .colab-df-convert:hover {\n",
              "      background-color: #434B5C;\n",
              "      box-shadow: 0px 1px 3px 1px rgba(0, 0, 0, 0.15);\n",
              "      filter: drop-shadow(0px 1px 2px rgba(0, 0, 0, 0.3));\n",
              "      fill: #FFFFFF;\n",
              "    }\n",
              "  </style>\n",
              "\n",
              "      <script>\n",
              "        const buttonEl =\n",
              "          document.querySelector('#df-1385e64f-8e57-4dde-849a-4682fcaa3f19 button.colab-df-convert');\n",
              "        buttonEl.style.display =\n",
              "          google.colab.kernel.accessAllowed ? 'block' : 'none';\n",
              "\n",
              "        async function convertToInteractive(key) {\n",
              "          const element = document.querySelector('#df-1385e64f-8e57-4dde-849a-4682fcaa3f19');\n",
              "          const dataTable =\n",
              "            await google.colab.kernel.invokeFunction('convertToInteractive',\n",
              "                                                     [key], {});\n",
              "          if (!dataTable) return;\n",
              "\n",
              "          const docLinkHtml = 'Like what you see? Visit the ' +\n",
              "            '<a target=\"_blank\" href=https://colab.research.google.com/notebooks/data_table.ipynb>data table notebook</a>'\n",
              "            + ' to learn more about interactive tables.';\n",
              "          element.innerHTML = '';\n",
              "          dataTable['output_type'] = 'display_data';\n",
              "          await google.colab.output.renderOutput(dataTable, element);\n",
              "          const docLink = document.createElement('div');\n",
              "          docLink.innerHTML = docLinkHtml;\n",
              "          element.appendChild(docLink);\n",
              "        }\n",
              "      </script>\n",
              "    </div>\n",
              "  </div>\n",
              "  "
            ],
            "text/plain": [
              "     X   Y\n",
              "1    3  18\n",
              "2    2  13\n",
              "3    2  16\n",
              "4    1   8\n",
              "5    3  16\n",
              "6    4  21\n",
              "7    5  12\n",
              "8   13  28\n",
              "9   12  18\n",
              "10   9  17\n",
              "11   7  11\n",
              "12   7  15\n",
              "13  10  31\n",
              "14   1   2\n",
              "15  12  13\n",
              "16   4  17\n",
              "17   3  11\n",
              "18   5  23\n",
              "22   2  12\n",
              "23  11  19\n",
              "24   3  18\n",
              "25   1   7\n",
              "26   6  18\n",
              "27   2  11\n",
              "28  10  20\n",
              "29   5  14\n",
              "30   6  18\n",
              "31   1  10\n",
              "32   6  16\n",
              "33   5  18"
            ]
          },
          "execution_count": 68,
          "metadata": {},
          "output_type": "execute_result"
        }
      ],
      "source": [
        "df = df[['time_in_hospital', 'num_medications']]\n",
        "df.rename(columns = {'time_in_hospital':'X'}, inplace = True)\n",
        "df.rename(columns = {'num_medications':'Y'}, inplace = True)\n",
        "# Selecting 30 sample data points for clustering\n",
        "df=df[:30]\n",
        "df"
      ]
    },
    {
      "cell_type": "markdown",
      "metadata": {
        "id": "cOjuamB9975k"
      },
      "source": [
        "# Scaling the data"
      ]
    },
    {
      "cell_type": "code",
      "execution_count": 69,
      "metadata": {
        "colab": {
          "base_uri": "https://localhost:8080/",
          "height": 990
        },
        "id": "ui8m-UmTNN_W",
        "outputId": "0771cfd2-8e8f-4c7f-8f01-53c4e656910f"
      },
      "outputs": [
        {
          "data": {
            "text/html": [
              "\n",
              "  <div id=\"df-fc325da2-3892-4d10-a711-5e55fc22488b\">\n",
              "    <div class=\"colab-df-container\">\n",
              "      <div>\n",
              "<style scoped>\n",
              "    .dataframe tbody tr th:only-of-type {\n",
              "        vertical-align: middle;\n",
              "    }\n",
              "\n",
              "    .dataframe tbody tr th {\n",
              "        vertical-align: top;\n",
              "    }\n",
              "\n",
              "    .dataframe thead th {\n",
              "        text-align: right;\n",
              "    }\n",
              "</style>\n",
              "<table border=\"1\" class=\"dataframe\">\n",
              "  <thead>\n",
              "    <tr style=\"text-align: right;\">\n",
              "      <th></th>\n",
              "      <th>X</th>\n",
              "      <th>Y</th>\n",
              "    </tr>\n",
              "  </thead>\n",
              "  <tbody>\n",
              "    <tr>\n",
              "      <th>1</th>\n",
              "      <td>-0.657267</td>\n",
              "      <td>0.398711</td>\n",
              "    </tr>\n",
              "    <tr>\n",
              "      <th>2</th>\n",
              "      <td>-0.934985</td>\n",
              "      <td>-0.468052</td>\n",
              "    </tr>\n",
              "    <tr>\n",
              "      <th>3</th>\n",
              "      <td>-0.934985</td>\n",
              "      <td>0.052006</td>\n",
              "    </tr>\n",
              "    <tr>\n",
              "      <th>4</th>\n",
              "      <td>-1.212703</td>\n",
              "      <td>-1.334814</td>\n",
              "    </tr>\n",
              "    <tr>\n",
              "      <th>5</th>\n",
              "      <td>-0.657267</td>\n",
              "      <td>0.052006</td>\n",
              "    </tr>\n",
              "    <tr>\n",
              "      <th>6</th>\n",
              "      <td>-0.379548</td>\n",
              "      <td>0.918768</td>\n",
              "    </tr>\n",
              "    <tr>\n",
              "      <th>7</th>\n",
              "      <td>-0.101830</td>\n",
              "      <td>-0.641404</td>\n",
              "    </tr>\n",
              "    <tr>\n",
              "      <th>8</th>\n",
              "      <td>2.119916</td>\n",
              "      <td>2.132236</td>\n",
              "    </tr>\n",
              "    <tr>\n",
              "      <th>9</th>\n",
              "      <td>1.842198</td>\n",
              "      <td>0.398711</td>\n",
              "    </tr>\n",
              "    <tr>\n",
              "      <th>10</th>\n",
              "      <td>1.009043</td>\n",
              "      <td>0.225358</td>\n",
              "    </tr>\n",
              "    <tr>\n",
              "      <th>11</th>\n",
              "      <td>0.453606</td>\n",
              "      <td>-0.814757</td>\n",
              "    </tr>\n",
              "    <tr>\n",
              "      <th>12</th>\n",
              "      <td>0.453606</td>\n",
              "      <td>-0.121347</td>\n",
              "    </tr>\n",
              "    <tr>\n",
              "      <th>13</th>\n",
              "      <td>1.286761</td>\n",
              "      <td>2.652293</td>\n",
              "    </tr>\n",
              "    <tr>\n",
              "      <th>14</th>\n",
              "      <td>-1.212703</td>\n",
              "      <td>-2.374929</td>\n",
              "    </tr>\n",
              "    <tr>\n",
              "      <th>15</th>\n",
              "      <td>1.842198</td>\n",
              "      <td>-0.468052</td>\n",
              "    </tr>\n",
              "    <tr>\n",
              "      <th>16</th>\n",
              "      <td>-0.379548</td>\n",
              "      <td>0.225358</td>\n",
              "    </tr>\n",
              "    <tr>\n",
              "      <th>17</th>\n",
              "      <td>-0.657267</td>\n",
              "      <td>-0.814757</td>\n",
              "    </tr>\n",
              "    <tr>\n",
              "      <th>18</th>\n",
              "      <td>-0.101830</td>\n",
              "      <td>1.265473</td>\n",
              "    </tr>\n",
              "    <tr>\n",
              "      <th>22</th>\n",
              "      <td>-0.934985</td>\n",
              "      <td>-0.641404</td>\n",
              "    </tr>\n",
              "    <tr>\n",
              "      <th>23</th>\n",
              "      <td>1.564480</td>\n",
              "      <td>0.572063</td>\n",
              "    </tr>\n",
              "    <tr>\n",
              "      <th>24</th>\n",
              "      <td>-0.657267</td>\n",
              "      <td>0.398711</td>\n",
              "    </tr>\n",
              "    <tr>\n",
              "      <th>25</th>\n",
              "      <td>-1.212703</td>\n",
              "      <td>-1.508167</td>\n",
              "    </tr>\n",
              "    <tr>\n",
              "      <th>26</th>\n",
              "      <td>0.175888</td>\n",
              "      <td>0.398711</td>\n",
              "    </tr>\n",
              "    <tr>\n",
              "      <th>27</th>\n",
              "      <td>-0.934985</td>\n",
              "      <td>-0.814757</td>\n",
              "    </tr>\n",
              "    <tr>\n",
              "      <th>28</th>\n",
              "      <td>1.286761</td>\n",
              "      <td>0.745416</td>\n",
              "    </tr>\n",
              "    <tr>\n",
              "      <th>29</th>\n",
              "      <td>-0.101830</td>\n",
              "      <td>-0.294699</td>\n",
              "    </tr>\n",
              "    <tr>\n",
              "      <th>30</th>\n",
              "      <td>0.175888</td>\n",
              "      <td>0.398711</td>\n",
              "    </tr>\n",
              "    <tr>\n",
              "      <th>31</th>\n",
              "      <td>-1.212703</td>\n",
              "      <td>-0.988109</td>\n",
              "    </tr>\n",
              "    <tr>\n",
              "      <th>32</th>\n",
              "      <td>0.175888</td>\n",
              "      <td>0.052006</td>\n",
              "    </tr>\n",
              "    <tr>\n",
              "      <th>33</th>\n",
              "      <td>-0.101830</td>\n",
              "      <td>0.398711</td>\n",
              "    </tr>\n",
              "  </tbody>\n",
              "</table>\n",
              "</div>\n",
              "      <button class=\"colab-df-convert\" onclick=\"convertToInteractive('df-fc325da2-3892-4d10-a711-5e55fc22488b')\"\n",
              "              title=\"Convert this dataframe to an interactive table.\"\n",
              "              style=\"display:none;\">\n",
              "        \n",
              "  <svg xmlns=\"http://www.w3.org/2000/svg\" height=\"24px\"viewBox=\"0 0 24 24\"\n",
              "       width=\"24px\">\n",
              "    <path d=\"M0 0h24v24H0V0z\" fill=\"none\"/>\n",
              "    <path d=\"M18.56 5.44l.94 2.06.94-2.06 2.06-.94-2.06-.94-.94-2.06-.94 2.06-2.06.94zm-11 1L8.5 8.5l.94-2.06 2.06-.94-2.06-.94L8.5 2.5l-.94 2.06-2.06.94zm10 10l.94 2.06.94-2.06 2.06-.94-2.06-.94-.94-2.06-.94 2.06-2.06.94z\"/><path d=\"M17.41 7.96l-1.37-1.37c-.4-.4-.92-.59-1.43-.59-.52 0-1.04.2-1.43.59L10.3 9.45l-7.72 7.72c-.78.78-.78 2.05 0 2.83L4 21.41c.39.39.9.59 1.41.59.51 0 1.02-.2 1.41-.59l7.78-7.78 2.81-2.81c.8-.78.8-2.07 0-2.86zM5.41 20L4 18.59l7.72-7.72 1.47 1.35L5.41 20z\"/>\n",
              "  </svg>\n",
              "      </button>\n",
              "      \n",
              "  <style>\n",
              "    .colab-df-container {\n",
              "      display:flex;\n",
              "      flex-wrap:wrap;\n",
              "      gap: 12px;\n",
              "    }\n",
              "\n",
              "    .colab-df-convert {\n",
              "      background-color: #E8F0FE;\n",
              "      border: none;\n",
              "      border-radius: 50%;\n",
              "      cursor: pointer;\n",
              "      display: none;\n",
              "      fill: #1967D2;\n",
              "      height: 32px;\n",
              "      padding: 0 0 0 0;\n",
              "      width: 32px;\n",
              "    }\n",
              "\n",
              "    .colab-df-convert:hover {\n",
              "      background-color: #E2EBFA;\n",
              "      box-shadow: 0px 1px 2px rgba(60, 64, 67, 0.3), 0px 1px 3px 1px rgba(60, 64, 67, 0.15);\n",
              "      fill: #174EA6;\n",
              "    }\n",
              "\n",
              "    [theme=dark] .colab-df-convert {\n",
              "      background-color: #3B4455;\n",
              "      fill: #D2E3FC;\n",
              "    }\n",
              "\n",
              "    [theme=dark] .colab-df-convert:hover {\n",
              "      background-color: #434B5C;\n",
              "      box-shadow: 0px 1px 3px 1px rgba(0, 0, 0, 0.15);\n",
              "      filter: drop-shadow(0px 1px 2px rgba(0, 0, 0, 0.3));\n",
              "      fill: #FFFFFF;\n",
              "    }\n",
              "  </style>\n",
              "\n",
              "      <script>\n",
              "        const buttonEl =\n",
              "          document.querySelector('#df-fc325da2-3892-4d10-a711-5e55fc22488b button.colab-df-convert');\n",
              "        buttonEl.style.display =\n",
              "          google.colab.kernel.accessAllowed ? 'block' : 'none';\n",
              "\n",
              "        async function convertToInteractive(key) {\n",
              "          const element = document.querySelector('#df-fc325da2-3892-4d10-a711-5e55fc22488b');\n",
              "          const dataTable =\n",
              "            await google.colab.kernel.invokeFunction('convertToInteractive',\n",
              "                                                     [key], {});\n",
              "          if (!dataTable) return;\n",
              "\n",
              "          const docLinkHtml = 'Like what you see? Visit the ' +\n",
              "            '<a target=\"_blank\" href=https://colab.research.google.com/notebooks/data_table.ipynb>data table notebook</a>'\n",
              "            + ' to learn more about interactive tables.';\n",
              "          element.innerHTML = '';\n",
              "          dataTable['output_type'] = 'display_data';\n",
              "          await google.colab.output.renderOutput(dataTable, element);\n",
              "          const docLink = document.createElement('div');\n",
              "          docLink.innerHTML = docLinkHtml;\n",
              "          element.appendChild(docLink);\n",
              "        }\n",
              "      </script>\n",
              "    </div>\n",
              "  </div>\n",
              "  "
            ],
            "text/plain": [
              "           X         Y\n",
              "1  -0.657267  0.398711\n",
              "2  -0.934985 -0.468052\n",
              "3  -0.934985  0.052006\n",
              "4  -1.212703 -1.334814\n",
              "5  -0.657267  0.052006\n",
              "6  -0.379548  0.918768\n",
              "7  -0.101830 -0.641404\n",
              "8   2.119916  2.132236\n",
              "9   1.842198  0.398711\n",
              "10  1.009043  0.225358\n",
              "11  0.453606 -0.814757\n",
              "12  0.453606 -0.121347\n",
              "13  1.286761  2.652293\n",
              "14 -1.212703 -2.374929\n",
              "15  1.842198 -0.468052\n",
              "16 -0.379548  0.225358\n",
              "17 -0.657267 -0.814757\n",
              "18 -0.101830  1.265473\n",
              "22 -0.934985 -0.641404\n",
              "23  1.564480  0.572063\n",
              "24 -0.657267  0.398711\n",
              "25 -1.212703 -1.508167\n",
              "26  0.175888  0.398711\n",
              "27 -0.934985 -0.814757\n",
              "28  1.286761  0.745416\n",
              "29 -0.101830 -0.294699\n",
              "30  0.175888  0.398711\n",
              "31 -1.212703 -0.988109\n",
              "32  0.175888  0.052006\n",
              "33 -0.101830  0.398711"
            ]
          },
          "execution_count": 69,
          "metadata": {},
          "output_type": "execute_result"
        }
      ],
      "source": [
        "scaler = StandardScaler()\n",
        "df[['X','Y']] = scaler.fit_transform(df[['X','Y']])\n",
        "df"
      ]
    },
    {
      "cell_type": "code",
      "execution_count": 70,
      "metadata": {
        "colab": {
          "base_uri": "https://localhost:8080/",
          "height": 296
        },
        "id": "P_nxbLlyph6U",
        "outputId": "5f14dce2-c154-4228-de79-6a75e0d39950"
      },
      "outputs": [
        {
          "data": {
            "text/plain": [
              "Text(0, 0.5, 'Y')"
            ]
          },
          "execution_count": 70,
          "metadata": {},
          "output_type": "execute_result"
        },
        {
          "data": {
            "image/png": "[encoded data removed]",
            "text/plain": [
              "<Figure size 432x288 with 1 Axes>"
            ]
          },
          "metadata": {
            "needs_background": "light"
          },
          "output_type": "display_data"
        }
      ],
      "source": [
        "plt.scatter(df['X'], df['Y'])\n",
        "plt.xlabel('X')\n",
        "plt.ylabel('Y')"
      ]
    },
    {
      "cell_type": "markdown",
      "metadata": {
        "id": "-f-nU08vph6V"
      },
      "source": [
        "# The distance between all the points"
      ]
    },
    {
      "cell_type": "code",
      "execution_count": 71,
      "metadata": {
        "colab": {
          "base_uri": "https://localhost:8080/",
          "height": 1000
        },
        "id": "dY9aliwOph6X",
        "outputId": "fdd8b5a8-7409-42de-8ba8-4e6dbf07ab61"
      },
      "outputs": [
        {
          "data": {
            "text/html": [
              "\n",
              "  <div id=\"df-0416ca5c-65e6-4328-9d63-f30225306d22\">\n",
              "    <div class=\"colab-df-container\">\n",
              "      <div>\n",
              "<style scoped>\n",
              "    .dataframe tbody tr th:only-of-type {\n",
              "        vertical-align: middle;\n",
              "    }\n",
              "\n",
              "    .dataframe tbody tr th {\n",
              "        vertical-align: top;\n",
              "    }\n",
              "\n",
              "    .dataframe thead th {\n",
              "        text-align: right;\n",
              "    }\n",
              "</style>\n",
              "<table border=\"1\" class=\"dataframe\">\n",
              "  <thead>\n",
              "    <tr style=\"text-align: right;\">\n",
              "      <th></th>\n",
              "      <th>1</th>\n",
              "      <th>2</th>\n",
              "      <th>3</th>\n",
              "      <th>4</th>\n",
              "      <th>5</th>\n",
              "      <th>6</th>\n",
              "      <th>7</th>\n",
              "      <th>8</th>\n",
              "      <th>9</th>\n",
              "      <th>10</th>\n",
              "      <th>...</th>\n",
              "      <th>24</th>\n",
              "      <th>25</th>\n",
              "      <th>26</th>\n",
              "      <th>27</th>\n",
              "      <th>28</th>\n",
              "      <th>29</th>\n",
              "      <th>30</th>\n",
              "      <th>31</th>\n",
              "      <th>32</th>\n",
              "      <th>33</th>\n",
              "    </tr>\n",
              "  </thead>\n",
              "  <tbody>\n",
              "    <tr>\n",
              "      <th>1</th>\n",
              "      <td>inf</td>\n",
              "      <td>0.910167</td>\n",
              "      <td>0.444220</td>\n",
              "      <td>1.820335</td>\n",
              "      <td>0.346705</td>\n",
              "      <td>0.589565</td>\n",
              "      <td>1.179131</td>\n",
              "      <td>3.273813</td>\n",
              "      <td>2.499464</td>\n",
              "      <td>1.675303</td>\n",
              "      <td>...</td>\n",
              "      <td>0.000000</td>\n",
              "      <td>1.986125</td>\n",
              "      <td>0.833155</td>\n",
              "      <td>1.244842</td>\n",
              "      <td>1.974702</td>\n",
              "      <td>0.888441</td>\n",
              "      <td>0.833155</td>\n",
              "      <td>1.493914</td>\n",
              "      <td>0.902414</td>\n",
              "      <td>0.555437</td>\n",
              "    </tr>\n",
              "    <tr>\n",
              "      <th>2</th>\n",
              "      <td>inf</td>\n",
              "      <td>inf</td>\n",
              "      <td>0.520057</td>\n",
              "      <td>0.910167</td>\n",
              "      <td>0.589565</td>\n",
              "      <td>1.493914</td>\n",
              "      <td>0.850998</td>\n",
              "      <td>4.011722</td>\n",
              "      <td>2.909299</td>\n",
              "      <td>2.063992</td>\n",
              "      <td>...</td>\n",
              "      <td>0.910167</td>\n",
              "      <td>1.076553</td>\n",
              "      <td>1.409012</td>\n",
              "      <td>0.346705</td>\n",
              "      <td>2.531533</td>\n",
              "      <td>0.850998</td>\n",
              "      <td>1.409012</td>\n",
              "      <td>0.589565</td>\n",
              "      <td>1.226580</td>\n",
              "      <td>1.202258</td>\n",
              "    </tr>\n",
              "    <tr>\n",
              "      <th>3</th>\n",
              "      <td>inf</td>\n",
              "      <td>inf</td>\n",
              "      <td>inf</td>\n",
              "      <td>1.414354</td>\n",
              "      <td>0.277718</td>\n",
              "      <td>1.029460</td>\n",
              "      <td>1.083958</td>\n",
              "      <td>3.695913</td>\n",
              "      <td>2.798740</td>\n",
              "      <td>1.951742</td>\n",
              "      <td>...</td>\n",
              "      <td>0.444220</td>\n",
              "      <td>1.584697</td>\n",
              "      <td>1.163720</td>\n",
              "      <td>0.866762</td>\n",
              "      <td>2.327439</td>\n",
              "      <td>0.902414</td>\n",
              "      <td>1.163720</td>\n",
              "      <td>1.076553</td>\n",
              "      <td>1.110873</td>\n",
              "      <td>0.902414</td>\n",
              "    </tr>\n",
              "    <tr>\n",
              "      <th>4</th>\n",
              "      <td>inf</td>\n",
              "      <td>inf</td>\n",
              "      <td>inf</td>\n",
              "      <td>inf</td>\n",
              "      <td>1.493914</td>\n",
              "      <td>2.402661</td>\n",
              "      <td>1.309525</td>\n",
              "      <td>4.809032</td>\n",
              "      <td>3.512482</td>\n",
              "      <td>2.714828</td>\n",
              "      <td>...</td>\n",
              "      <td>1.820335</td>\n",
              "      <td>0.173352</td>\n",
              "      <td>2.221102</td>\n",
              "      <td>0.589565</td>\n",
              "      <td>3.251873</td>\n",
              "      <td>1.521801</td>\n",
              "      <td>2.221102</td>\n",
              "      <td>0.346705</td>\n",
              "      <td>1.962513</td>\n",
              "      <td>2.058919</td>\n",
              "    </tr>\n",
              "    <tr>\n",
              "      <th>5</th>\n",
              "      <td>inf</td>\n",
              "      <td>inf</td>\n",
              "      <td>inf</td>\n",
              "      <td>inf</td>\n",
              "      <td>inf</td>\n",
              "      <td>0.910167</td>\n",
              "      <td>0.888441</td>\n",
              "      <td>3.469885</td>\n",
              "      <td>2.523396</td>\n",
              "      <td>1.675303</td>\n",
              "      <td>...</td>\n",
              "      <td>0.346705</td>\n",
              "      <td>1.656094</td>\n",
              "      <td>0.902414</td>\n",
              "      <td>0.910167</td>\n",
              "      <td>2.063992</td>\n",
              "      <td>0.654763</td>\n",
              "      <td>0.902414</td>\n",
              "      <td>1.179131</td>\n",
              "      <td>0.833155</td>\n",
              "      <td>0.654763</td>\n",
              "    </tr>\n",
              "    <tr>\n",
              "      <th>6</th>\n",
              "      <td>inf</td>\n",
              "      <td>inf</td>\n",
              "      <td>inf</td>\n",
              "      <td>inf</td>\n",
              "      <td>inf</td>\n",
              "      <td>inf</td>\n",
              "      <td>1.584697</td>\n",
              "      <td>2.778457</td>\n",
              "      <td>2.281801</td>\n",
              "      <td>1.552096</td>\n",
              "      <td>...</td>\n",
              "      <td>0.589565</td>\n",
              "      <td>2.565962</td>\n",
              "      <td>0.760900</td>\n",
              "      <td>1.820335</td>\n",
              "      <td>1.675303</td>\n",
              "      <td>1.244842</td>\n",
              "      <td>0.760900</td>\n",
              "      <td>2.080944</td>\n",
              "      <td>1.029460</td>\n",
              "      <td>0.589565</td>\n",
              "    </tr>\n",
              "    <tr>\n",
              "      <th>7</th>\n",
              "      <td>inf</td>\n",
              "      <td>inf</td>\n",
              "      <td>inf</td>\n",
              "      <td>inf</td>\n",
              "      <td>inf</td>\n",
              "      <td>inf</td>\n",
              "      <td>inf</td>\n",
              "      <td>3.553763</td>\n",
              "      <td>2.204786</td>\n",
              "      <td>1.409012</td>\n",
              "      <td>...</td>\n",
              "      <td>1.179131</td>\n",
              "      <td>1.409012</td>\n",
              "      <td>1.076553</td>\n",
              "      <td>0.850998</td>\n",
              "      <td>1.962513</td>\n",
              "      <td>0.346705</td>\n",
              "      <td>1.076553</td>\n",
              "      <td>1.163720</td>\n",
              "      <td>0.746957</td>\n",
              "      <td>1.040115</td>\n",
              "    </tr>\n",
              "    <tr>\n",
              "      <th>8</th>\n",
              "      <td>inf</td>\n",
              "      <td>inf</td>\n",
              "      <td>inf</td>\n",
              "      <td>inf</td>\n",
              "      <td>inf</td>\n",
              "      <td>inf</td>\n",
              "      <td>inf</td>\n",
              "      <td>inf</td>\n",
              "      <td>1.755630</td>\n",
              "      <td>2.206858</td>\n",
              "      <td>...</td>\n",
              "      <td>3.273813</td>\n",
              "      <td>4.935472</td>\n",
              "      <td>2.604679</td>\n",
              "      <td>4.244665</td>\n",
              "      <td>1.617843</td>\n",
              "      <td>3.290314</td>\n",
              "      <td>2.604679</td>\n",
              "      <td>4.565403</td>\n",
              "      <td>2.847209</td>\n",
              "      <td>2.818025</td>\n",
              "    </tr>\n",
              "    <tr>\n",
              "      <th>9</th>\n",
              "      <td>inf</td>\n",
              "      <td>inf</td>\n",
              "      <td>inf</td>\n",
              "      <td>inf</td>\n",
              "      <td>inf</td>\n",
              "      <td>inf</td>\n",
              "      <td>inf</td>\n",
              "      <td>inf</td>\n",
              "      <td>inf</td>\n",
              "      <td>0.850998</td>\n",
              "      <td>...</td>\n",
              "      <td>2.499464</td>\n",
              "      <td>3.601194</td>\n",
              "      <td>1.666310</td>\n",
              "      <td>3.030717</td>\n",
              "      <td>0.654763</td>\n",
              "      <td>2.063992</td>\n",
              "      <td>1.666310</td>\n",
              "      <td>3.354950</td>\n",
              "      <td>1.701996</td>\n",
              "      <td>1.944028</td>\n",
              "    </tr>\n",
              "    <tr>\n",
              "      <th>10</th>\n",
              "      <td>inf</td>\n",
              "      <td>inf</td>\n",
              "      <td>inf</td>\n",
              "      <td>inf</td>\n",
              "      <td>inf</td>\n",
              "      <td>inf</td>\n",
              "      <td>inf</td>\n",
              "      <td>inf</td>\n",
              "      <td>inf</td>\n",
              "      <td>inf</td>\n",
              "      <td>...</td>\n",
              "      <td>1.675303</td>\n",
              "      <td>2.818025</td>\n",
              "      <td>0.850998</td>\n",
              "      <td>2.204786</td>\n",
              "      <td>0.589565</td>\n",
              "      <td>1.226580</td>\n",
              "      <td>0.850998</td>\n",
              "      <td>2.531533</td>\n",
              "      <td>0.850998</td>\n",
              "      <td>1.124318</td>\n",
              "    </tr>\n",
              "    <tr>\n",
              "      <th>11</th>\n",
              "      <td>inf</td>\n",
              "      <td>inf</td>\n",
              "      <td>inf</td>\n",
              "      <td>inf</td>\n",
              "      <td>inf</td>\n",
              "      <td>inf</td>\n",
              "      <td>inf</td>\n",
              "      <td>inf</td>\n",
              "      <td>inf</td>\n",
              "      <td>inf</td>\n",
              "      <td>...</td>\n",
              "      <td>1.645157</td>\n",
              "      <td>1.804828</td>\n",
              "      <td>1.244842</td>\n",
              "      <td>1.388591</td>\n",
              "      <td>1.768696</td>\n",
              "      <td>0.760900</td>\n",
              "      <td>1.244842</td>\n",
              "      <td>1.675303</td>\n",
              "      <td>0.910167</td>\n",
              "      <td>1.334546</td>\n",
              "    </tr>\n",
              "    <tr>\n",
              "      <th>12</th>\n",
              "      <td>inf</td>\n",
              "      <td>inf</td>\n",
              "      <td>inf</td>\n",
              "      <td>inf</td>\n",
              "      <td>inf</td>\n",
              "      <td>inf</td>\n",
              "      <td>inf</td>\n",
              "      <td>inf</td>\n",
              "      <td>inf</td>\n",
              "      <td>inf</td>\n",
              "      <td>...</td>\n",
              "      <td>1.226580</td>\n",
              "      <td>2.167915</td>\n",
              "      <td>0.589565</td>\n",
              "      <td>1.552096</td>\n",
              "      <td>1.202258</td>\n",
              "      <td>0.581860</td>\n",
              "      <td>0.589565</td>\n",
              "      <td>1.878261</td>\n",
              "      <td>0.327381</td>\n",
              "      <td>0.760900</td>\n",
              "    </tr>\n",
              "    <tr>\n",
              "      <th>13</th>\n",
              "      <td>inf</td>\n",
              "      <td>inf</td>\n",
              "      <td>inf</td>\n",
              "      <td>inf</td>\n",
              "      <td>inf</td>\n",
              "      <td>inf</td>\n",
              "      <td>inf</td>\n",
              "      <td>inf</td>\n",
              "      <td>inf</td>\n",
              "      <td>inf</td>\n",
              "      <td>...</td>\n",
              "      <td>2.976219</td>\n",
              "      <td>4.853529</td>\n",
              "      <td>2.512503</td>\n",
              "      <td>4.117838</td>\n",
              "      <td>1.906877</td>\n",
              "      <td>3.257752</td>\n",
              "      <td>2.512503</td>\n",
              "      <td>4.415864</td>\n",
              "      <td>2.827637</td>\n",
              "      <td>2.647040</td>\n",
              "    </tr>\n",
              "    <tr>\n",
              "      <th>14</th>\n",
              "      <td>inf</td>\n",
              "      <td>inf</td>\n",
              "      <td>inf</td>\n",
              "      <td>inf</td>\n",
              "      <td>inf</td>\n",
              "      <td>inf</td>\n",
              "      <td>inf</td>\n",
              "      <td>inf</td>\n",
              "      <td>inf</td>\n",
              "      <td>inf</td>\n",
              "      <td>...</td>\n",
              "      <td>2.828708</td>\n",
              "      <td>0.866762</td>\n",
              "      <td>3.101816</td>\n",
              "      <td>1.584697</td>\n",
              "      <td>3.997984</td>\n",
              "      <td>2.358261</td>\n",
              "      <td>3.101816</td>\n",
              "      <td>1.386820</td>\n",
              "      <td>2.796104</td>\n",
              "      <td>2.987828</td>\n",
              "    </tr>\n",
              "    <tr>\n",
              "      <th>15</th>\n",
              "      <td>inf</td>\n",
              "      <td>inf</td>\n",
              "      <td>inf</td>\n",
              "      <td>inf</td>\n",
              "      <td>inf</td>\n",
              "      <td>inf</td>\n",
              "      <td>inf</td>\n",
              "      <td>inf</td>\n",
              "      <td>inf</td>\n",
              "      <td>inf</td>\n",
              "      <td>...</td>\n",
              "      <td>2.645487</td>\n",
              "      <td>3.227113</td>\n",
              "      <td>1.878261</td>\n",
              "      <td>2.798740</td>\n",
              "      <td>1.334546</td>\n",
              "      <td>1.951742</td>\n",
              "      <td>1.878261</td>\n",
              "      <td>3.098851</td>\n",
              "      <td>1.745579</td>\n",
              "      <td>2.128502</td>\n",
              "    </tr>\n",
              "    <tr>\n",
              "      <th>16</th>\n",
              "      <td>inf</td>\n",
              "      <td>inf</td>\n",
              "      <td>inf</td>\n",
              "      <td>inf</td>\n",
              "      <td>inf</td>\n",
              "      <td>inf</td>\n",
              "      <td>inf</td>\n",
              "      <td>inf</td>\n",
              "      <td>inf</td>\n",
              "      <td>inf</td>\n",
              "      <td>...</td>\n",
              "      <td>0.327381</td>\n",
              "      <td>1.923345</td>\n",
              "      <td>0.581860</td>\n",
              "      <td>1.179131</td>\n",
              "      <td>1.745579</td>\n",
              "      <td>0.589565</td>\n",
              "      <td>0.581860</td>\n",
              "      <td>1.471955</td>\n",
              "      <td>0.581860</td>\n",
              "      <td>0.327381</td>\n",
              "    </tr>\n",
              "    <tr>\n",
              "      <th>17</th>\n",
              "      <td>inf</td>\n",
              "      <td>inf</td>\n",
              "      <td>inf</td>\n",
              "      <td>inf</td>\n",
              "      <td>inf</td>\n",
              "      <td>inf</td>\n",
              "      <td>inf</td>\n",
              "      <td>inf</td>\n",
              "      <td>inf</td>\n",
              "      <td>inf</td>\n",
              "      <td>...</td>\n",
              "      <td>1.213467</td>\n",
              "      <td>0.888441</td>\n",
              "      <td>1.471955</td>\n",
              "      <td>0.277718</td>\n",
              "      <td>2.492666</td>\n",
              "      <td>0.760900</td>\n",
              "      <td>1.471955</td>\n",
              "      <td>0.581860</td>\n",
              "      <td>1.202258</td>\n",
              "      <td>1.334546</td>\n",
              "    </tr>\n",
              "    <tr>\n",
              "      <th>18</th>\n",
              "      <td>inf</td>\n",
              "      <td>inf</td>\n",
              "      <td>inf</td>\n",
              "      <td>inf</td>\n",
              "      <td>inf</td>\n",
              "      <td>inf</td>\n",
              "      <td>inf</td>\n",
              "      <td>inf</td>\n",
              "      <td>inf</td>\n",
              "      <td>inf</td>\n",
              "      <td>...</td>\n",
              "      <td>1.029460</td>\n",
              "      <td>2.987828</td>\n",
              "      <td>0.910167</td>\n",
              "      <td>2.240871</td>\n",
              "      <td>1.482783</td>\n",
              "      <td>1.560172</td>\n",
              "      <td>0.910167</td>\n",
              "      <td>2.512503</td>\n",
              "      <td>1.244842</td>\n",
              "      <td>0.866762</td>\n",
              "    </tr>\n",
              "    <tr>\n",
              "      <th>22</th>\n",
              "      <td>inf</td>\n",
              "      <td>inf</td>\n",
              "      <td>inf</td>\n",
              "      <td>inf</td>\n",
              "      <td>inf</td>\n",
              "      <td>inf</td>\n",
              "      <td>inf</td>\n",
              "      <td>inf</td>\n",
              "      <td>inf</td>\n",
              "      <td>inf</td>\n",
              "      <td>...</td>\n",
              "      <td>1.076553</td>\n",
              "      <td>0.910167</td>\n",
              "      <td>1.521801</td>\n",
              "      <td>0.173352</td>\n",
              "      <td>2.619050</td>\n",
              "      <td>0.902414</td>\n",
              "      <td>1.521801</td>\n",
              "      <td>0.444220</td>\n",
              "      <td>1.309525</td>\n",
              "      <td>1.332661</td>\n",
              "    </tr>\n",
              "    <tr>\n",
              "      <th>23</th>\n",
              "      <td>inf</td>\n",
              "      <td>inf</td>\n",
              "      <td>inf</td>\n",
              "      <td>inf</td>\n",
              "      <td>inf</td>\n",
              "      <td>inf</td>\n",
              "      <td>inf</td>\n",
              "      <td>inf</td>\n",
              "      <td>inf</td>\n",
              "      <td>inf</td>\n",
              "      <td>...</td>\n",
              "      <td>2.228499</td>\n",
              "      <td>3.469885</td>\n",
              "      <td>1.399370</td>\n",
              "      <td>2.858425</td>\n",
              "      <td>0.327381</td>\n",
              "      <td>1.878261</td>\n",
              "      <td>1.399370</td>\n",
              "      <td>3.185417</td>\n",
              "      <td>1.482783</td>\n",
              "      <td>1.675303</td>\n",
              "    </tr>\n",
              "    <tr>\n",
              "      <th>24</th>\n",
              "      <td>inf</td>\n",
              "      <td>inf</td>\n",
              "      <td>inf</td>\n",
              "      <td>inf</td>\n",
              "      <td>inf</td>\n",
              "      <td>inf</td>\n",
              "      <td>inf</td>\n",
              "      <td>inf</td>\n",
              "      <td>inf</td>\n",
              "      <td>inf</td>\n",
              "      <td>...</td>\n",
              "      <td>inf</td>\n",
              "      <td>1.986125</td>\n",
              "      <td>0.833155</td>\n",
              "      <td>1.244842</td>\n",
              "      <td>1.974702</td>\n",
              "      <td>0.888441</td>\n",
              "      <td>0.833155</td>\n",
              "      <td>1.493914</td>\n",
              "      <td>0.902414</td>\n",
              "      <td>0.555437</td>\n",
              "    </tr>\n",
              "    <tr>\n",
              "      <th>25</th>\n",
              "      <td>inf</td>\n",
              "      <td>inf</td>\n",
              "      <td>inf</td>\n",
              "      <td>inf</td>\n",
              "      <td>inf</td>\n",
              "      <td>inf</td>\n",
              "      <td>inf</td>\n",
              "      <td>inf</td>\n",
              "      <td>inf</td>\n",
              "      <td>inf</td>\n",
              "      <td>...</td>\n",
              "      <td>inf</td>\n",
              "      <td>inf</td>\n",
              "      <td>2.358891</td>\n",
              "      <td>0.746957</td>\n",
              "      <td>3.365406</td>\n",
              "      <td>1.645157</td>\n",
              "      <td>2.358891</td>\n",
              "      <td>0.520057</td>\n",
              "      <td>2.088618</td>\n",
              "      <td>2.206858</td>\n",
              "    </tr>\n",
              "    <tr>\n",
              "      <th>26</th>\n",
              "      <td>inf</td>\n",
              "      <td>inf</td>\n",
              "      <td>inf</td>\n",
              "      <td>inf</td>\n",
              "      <td>inf</td>\n",
              "      <td>inf</td>\n",
              "      <td>inf</td>\n",
              "      <td>inf</td>\n",
              "      <td>inf</td>\n",
              "      <td>inf</td>\n",
              "      <td>...</td>\n",
              "      <td>inf</td>\n",
              "      <td>inf</td>\n",
              "      <td>inf</td>\n",
              "      <td>1.645157</td>\n",
              "      <td>1.163720</td>\n",
              "      <td>0.746957</td>\n",
              "      <td>0.000000</td>\n",
              "      <td>1.962513</td>\n",
              "      <td>0.346705</td>\n",
              "      <td>0.277718</td>\n",
              "    </tr>\n",
              "    <tr>\n",
              "      <th>27</th>\n",
              "      <td>inf</td>\n",
              "      <td>inf</td>\n",
              "      <td>inf</td>\n",
              "      <td>inf</td>\n",
              "      <td>inf</td>\n",
              "      <td>inf</td>\n",
              "      <td>inf</td>\n",
              "      <td>inf</td>\n",
              "      <td>inf</td>\n",
              "      <td>inf</td>\n",
              "      <td>...</td>\n",
              "      <td>inf</td>\n",
              "      <td>inf</td>\n",
              "      <td>inf</td>\n",
              "      <td>inf</td>\n",
              "      <td>2.714828</td>\n",
              "      <td>0.982144</td>\n",
              "      <td>1.645157</td>\n",
              "      <td>0.327381</td>\n",
              "      <td>1.409012</td>\n",
              "      <td>1.471955</td>\n",
              "    </tr>\n",
              "    <tr>\n",
              "      <th>28</th>\n",
              "      <td>inf</td>\n",
              "      <td>inf</td>\n",
              "      <td>inf</td>\n",
              "      <td>inf</td>\n",
              "      <td>inf</td>\n",
              "      <td>inf</td>\n",
              "      <td>inf</td>\n",
              "      <td>inf</td>\n",
              "      <td>inf</td>\n",
              "      <td>inf</td>\n",
              "      <td>...</td>\n",
              "      <td>inf</td>\n",
              "      <td>inf</td>\n",
              "      <td>inf</td>\n",
              "      <td>inf</td>\n",
              "      <td>inf</td>\n",
              "      <td>1.734942</td>\n",
              "      <td>1.163720</td>\n",
              "      <td>3.041781</td>\n",
              "      <td>1.309525</td>\n",
              "      <td>1.431220</td>\n",
              "    </tr>\n",
              "    <tr>\n",
              "      <th>29</th>\n",
              "      <td>inf</td>\n",
              "      <td>inf</td>\n",
              "      <td>inf</td>\n",
              "      <td>inf</td>\n",
              "      <td>inf</td>\n",
              "      <td>inf</td>\n",
              "      <td>inf</td>\n",
              "      <td>inf</td>\n",
              "      <td>inf</td>\n",
              "      <td>inf</td>\n",
              "      <td>...</td>\n",
              "      <td>inf</td>\n",
              "      <td>inf</td>\n",
              "      <td>inf</td>\n",
              "      <td>inf</td>\n",
              "      <td>inf</td>\n",
              "      <td>inf</td>\n",
              "      <td>0.746957</td>\n",
              "      <td>1.309525</td>\n",
              "      <td>0.444220</td>\n",
              "      <td>0.693410</td>\n",
              "    </tr>\n",
              "    <tr>\n",
              "      <th>30</th>\n",
              "      <td>inf</td>\n",
              "      <td>inf</td>\n",
              "      <td>inf</td>\n",
              "      <td>inf</td>\n",
              "      <td>inf</td>\n",
              "      <td>inf</td>\n",
              "      <td>inf</td>\n",
              "      <td>inf</td>\n",
              "      <td>inf</td>\n",
              "      <td>inf</td>\n",
              "      <td>...</td>\n",
              "      <td>inf</td>\n",
              "      <td>inf</td>\n",
              "      <td>inf</td>\n",
              "      <td>inf</td>\n",
              "      <td>inf</td>\n",
              "      <td>inf</td>\n",
              "      <td>inf</td>\n",
              "      <td>1.962513</td>\n",
              "      <td>0.346705</td>\n",
              "      <td>0.277718</td>\n",
              "    </tr>\n",
              "    <tr>\n",
              "      <th>31</th>\n",
              "      <td>inf</td>\n",
              "      <td>inf</td>\n",
              "      <td>inf</td>\n",
              "      <td>inf</td>\n",
              "      <td>inf</td>\n",
              "      <td>inf</td>\n",
              "      <td>inf</td>\n",
              "      <td>inf</td>\n",
              "      <td>inf</td>\n",
              "      <td>inf</td>\n",
              "      <td>...</td>\n",
              "      <td>inf</td>\n",
              "      <td>inf</td>\n",
              "      <td>inf</td>\n",
              "      <td>inf</td>\n",
              "      <td>inf</td>\n",
              "      <td>inf</td>\n",
              "      <td>inf</td>\n",
              "      <td>inf</td>\n",
              "      <td>1.734942</td>\n",
              "      <td>1.776882</td>\n",
              "    </tr>\n",
              "    <tr>\n",
              "      <th>32</th>\n",
              "      <td>inf</td>\n",
              "      <td>inf</td>\n",
              "      <td>inf</td>\n",
              "      <td>inf</td>\n",
              "      <td>inf</td>\n",
              "      <td>inf</td>\n",
              "      <td>inf</td>\n",
              "      <td>inf</td>\n",
              "      <td>inf</td>\n",
              "      <td>inf</td>\n",
              "      <td>...</td>\n",
              "      <td>inf</td>\n",
              "      <td>inf</td>\n",
              "      <td>inf</td>\n",
              "      <td>inf</td>\n",
              "      <td>inf</td>\n",
              "      <td>inf</td>\n",
              "      <td>inf</td>\n",
              "      <td>inf</td>\n",
              "      <td>inf</td>\n",
              "      <td>0.444220</td>\n",
              "    </tr>\n",
              "    <tr>\n",
              "      <th>33</th>\n",
              "      <td>inf</td>\n",
              "      <td>inf</td>\n",
              "      <td>inf</td>\n",
              "      <td>inf</td>\n",
              "      <td>inf</td>\n",
              "      <td>inf</td>\n",
              "      <td>inf</td>\n",
              "      <td>inf</td>\n",
              "      <td>inf</td>\n",
              "      <td>inf</td>\n",
              "      <td>...</td>\n",
              "      <td>inf</td>\n",
              "      <td>inf</td>\n",
              "      <td>inf</td>\n",
              "      <td>inf</td>\n",
              "      <td>inf</td>\n",
              "      <td>inf</td>\n",
              "      <td>inf</td>\n",
              "      <td>inf</td>\n",
              "      <td>inf</td>\n",
              "      <td>inf</td>\n",
              "    </tr>\n",
              "  </tbody>\n",
              "</table>\n",
              "<p>30 rows × 30 columns</p>\n",
              "</div>\n",
              "      <button class=\"colab-df-convert\" onclick=\"convertToInteractive('df-0416ca5c-65e6-4328-9d63-f30225306d22')\"\n",
              "              title=\"Convert this dataframe to an interactive table.\"\n",
              "              style=\"display:none;\">\n",
              "        \n",
              "  <svg xmlns=\"http://www.w3.org/2000/svg\" height=\"24px\"viewBox=\"0 0 24 24\"\n",
              "       width=\"24px\">\n",
              "    <path d=\"M0 0h24v24H0V0z\" fill=\"none\"/>\n",
              "    <path d=\"M18.56 5.44l.94 2.06.94-2.06 2.06-.94-2.06-.94-.94-2.06-.94 2.06-2.06.94zm-11 1L8.5 8.5l.94-2.06 2.06-.94-2.06-.94L8.5 2.5l-.94 2.06-2.06.94zm10 10l.94 2.06.94-2.06 2.06-.94-2.06-.94-.94-2.06-.94 2.06-2.06.94z\"/><path d=\"M17.41 7.96l-1.37-1.37c-.4-.4-.92-.59-1.43-.59-.52 0-1.04.2-1.43.59L10.3 9.45l-7.72 7.72c-.78.78-.78 2.05 0 2.83L4 21.41c.39.39.9.59 1.41.59.51 0 1.02-.2 1.41-.59l7.78-7.78 2.81-2.81c.8-.78.8-2.07 0-2.86zM5.41 20L4 18.59l7.72-7.72 1.47 1.35L5.41 20z\"/>\n",
              "  </svg>\n",
              "      </button>\n",
              "      \n",
              "  <style>\n",
              "    .colab-df-container {\n",
              "      display:flex;\n",
              "      flex-wrap:wrap;\n",
              "      gap: 12px;\n",
              "    }\n",
              "\n",
              "    .colab-df-convert {\n",
              "      background-color: #E8F0FE;\n",
              "      border: none;\n",
              "      border-radius: 50%;\n",
              "      cursor: pointer;\n",
              "      display: none;\n",
              "      fill: #1967D2;\n",
              "      height: 32px;\n",
              "      padding: 0 0 0 0;\n",
              "      width: 32px;\n",
              "    }\n",
              "\n",
              "    .colab-df-convert:hover {\n",
              "      background-color: #E2EBFA;\n",
              "      box-shadow: 0px 1px 2px rgba(60, 64, 67, 0.3), 0px 1px 3px 1px rgba(60, 64, 67, 0.15);\n",
              "      fill: #174EA6;\n",
              "    }\n",
              "\n",
              "    [theme=dark] .colab-df-convert {\n",
              "      background-color: #3B4455;\n",
              "      fill: #D2E3FC;\n",
              "    }\n",
              "\n",
              "    [theme=dark] .colab-df-convert:hover {\n",
              "      background-color: #434B5C;\n",
              "      box-shadow: 0px 1px 3px 1px rgba(0, 0, 0, 0.15);\n",
              "      filter: drop-shadow(0px 1px 2px rgba(0, 0, 0, 0.3));\n",
              "      fill: #FFFFFF;\n",
              "    }\n",
              "  </style>\n",
              "\n",
              "      <script>\n",
              "        const buttonEl =\n",
              "          document.querySelector('#df-0416ca5c-65e6-4328-9d63-f30225306d22 button.colab-df-convert');\n",
              "        buttonEl.style.display =\n",
              "          google.colab.kernel.accessAllowed ? 'block' : 'none';\n",
              "\n",
              "        async function convertToInteractive(key) {\n",
              "          const element = document.querySelector('#df-0416ca5c-65e6-4328-9d63-f30225306d22');\n",
              "          const dataTable =\n",
              "            await google.colab.kernel.invokeFunction('convertToInteractive',\n",
              "                                                     [key], {});\n",
              "          if (!dataTable) return;\n",
              "\n",
              "          const docLinkHtml = 'Like what you see? Visit the ' +\n",
              "            '<a target=\"_blank\" href=https://colab.research.google.com/notebooks/data_table.ipynb>data table notebook</a>'\n",
              "            + ' to learn more about interactive tables.';\n",
              "          element.innerHTML = '';\n",
              "          dataTable['output_type'] = 'display_data';\n",
              "          await google.colab.output.renderOutput(dataTable, element);\n",
              "          const docLink = document.createElement('div');\n",
              "          docLink.innerHTML = docLinkHtml;\n",
              "          element.appendChild(docLink);\n",
              "        }\n",
              "      </script>\n",
              "    </div>\n",
              "  </div>\n",
              "  "
            ],
            "text/plain": [
              "     1         2         3         4         5         6         7         8   \\\n",
              "1   inf  0.910167  0.444220  1.820335  0.346705  0.589565  1.179131  3.273813   \n",
              "2   inf       inf  0.520057  0.910167  0.589565  1.493914  0.850998  4.011722   \n",
              "3   inf       inf       inf  1.414354  0.277718  1.029460  1.083958  3.695913   \n",
              "4   inf       inf       inf       inf  1.493914  2.402661  1.309525  4.809032   \n",
              "5   inf       inf       inf       inf       inf  0.910167  0.888441  3.469885   \n",
              "6   inf       inf       inf       inf       inf       inf  1.584697  2.778457   \n",
              "7   inf       inf       inf       inf       inf       inf       inf  3.553763   \n",
              "8   inf       inf       inf       inf       inf       inf       inf       inf   \n",
              "9   inf       inf       inf       inf       inf       inf       inf       inf   \n",
              "10  inf       inf       inf       inf       inf       inf       inf       inf   \n",
              "11  inf       inf       inf       inf       inf       inf       inf       inf   \n",
              "12  inf       inf       inf       inf       inf       inf       inf       inf   \n",
              "13  inf       inf       inf       inf       inf       inf       inf       inf   \n",
              "14  inf       inf       inf       inf       inf       inf       inf       inf   \n",
              "15  inf       inf       inf       inf       inf       inf       inf       inf   \n",
              "16  inf       inf       inf       inf       inf       inf       inf       inf   \n",
              "17  inf       inf       inf       inf       inf       inf       inf       inf   \n",
              "18  inf       inf       inf       inf       inf       inf       inf       inf   \n",
              "22  inf       inf       inf       inf       inf       inf       inf       inf   \n",
              "23  inf       inf       inf       inf       inf       inf       inf       inf   \n",
              "24  inf       inf       inf       inf       inf       inf       inf       inf   \n",
              "25  inf       inf       inf       inf       inf       inf       inf       inf   \n",
              "26  inf       inf       inf       inf       inf       inf       inf       inf   \n",
              "27  inf       inf       inf       inf       inf       inf       inf       inf   \n",
              "28  inf       inf       inf       inf       inf       inf       inf       inf   \n",
              "29  inf       inf       inf       inf       inf       inf       inf       inf   \n",
              "30  inf       inf       inf       inf       inf       inf       inf       inf   \n",
              "31  inf       inf       inf       inf       inf       inf       inf       inf   \n",
              "32  inf       inf       inf       inf       inf       inf       inf       inf   \n",
              "33  inf       inf       inf       inf       inf       inf       inf       inf   \n",
              "\n",
              "          9         10  ...        24        25        26        27        28  \\\n",
              "1   2.499464  1.675303  ...  0.000000  1.986125  0.833155  1.244842  1.974702   \n",
              "2   2.909299  2.063992  ...  0.910167  1.076553  1.409012  0.346705  2.531533   \n",
              "3   2.798740  1.951742  ...  0.444220  1.584697  1.163720  0.866762  2.327439   \n",
              "4   3.512482  2.714828  ...  1.820335  0.173352  2.221102  0.589565  3.251873   \n",
              "5   2.523396  1.675303  ...  0.346705  1.656094  0.902414  0.910167  2.063992   \n",
              "6   2.281801  1.552096  ...  0.589565  2.565962  0.760900  1.820335  1.675303   \n",
              "7   2.204786  1.409012  ...  1.179131  1.409012  1.076553  0.850998  1.962513   \n",
              "8   1.755630  2.206858  ...  3.273813  4.935472  2.604679  4.244665  1.617843   \n",
              "9        inf  0.850998  ...  2.499464  3.601194  1.666310  3.030717  0.654763   \n",
              "10       inf       inf  ...  1.675303  2.818025  0.850998  2.204786  0.589565   \n",
              "11       inf       inf  ...  1.645157  1.804828  1.244842  1.388591  1.768696   \n",
              "12       inf       inf  ...  1.226580  2.167915  0.589565  1.552096  1.202258   \n",
              "13       inf       inf  ...  2.976219  4.853529  2.512503  4.117838  1.906877   \n",
              "14       inf       inf  ...  2.828708  0.866762  3.101816  1.584697  3.997984   \n",
              "15       inf       inf  ...  2.645487  3.227113  1.878261  2.798740  1.334546   \n",
              "16       inf       inf  ...  0.327381  1.923345  0.581860  1.179131  1.745579   \n",
              "17       inf       inf  ...  1.213467  0.888441  1.471955  0.277718  2.492666   \n",
              "18       inf       inf  ...  1.029460  2.987828  0.910167  2.240871  1.482783   \n",
              "22       inf       inf  ...  1.076553  0.910167  1.521801  0.173352  2.619050   \n",
              "23       inf       inf  ...  2.228499  3.469885  1.399370  2.858425  0.327381   \n",
              "24       inf       inf  ...       inf  1.986125  0.833155  1.244842  1.974702   \n",
              "25       inf       inf  ...       inf       inf  2.358891  0.746957  3.365406   \n",
              "26       inf       inf  ...       inf       inf       inf  1.645157  1.163720   \n",
              "27       inf       inf  ...       inf       inf       inf       inf  2.714828   \n",
              "28       inf       inf  ...       inf       inf       inf       inf       inf   \n",
              "29       inf       inf  ...       inf       inf       inf       inf       inf   \n",
              "30       inf       inf  ...       inf       inf       inf       inf       inf   \n",
              "31       inf       inf  ...       inf       inf       inf       inf       inf   \n",
              "32       inf       inf  ...       inf       inf       inf       inf       inf   \n",
              "33       inf       inf  ...       inf       inf       inf       inf       inf   \n",
              "\n",
              "          29        30        31        32        33  \n",
              "1   0.888441  0.833155  1.493914  0.902414  0.555437  \n",
              "2   0.850998  1.409012  0.589565  1.226580  1.202258  \n",
              "3   0.902414  1.163720  1.076553  1.110873  0.902414  \n",
              "4   1.521801  2.221102  0.346705  1.962513  2.058919  \n",
              "5   0.654763  0.902414  1.179131  0.833155  0.654763  \n",
              "6   1.244842  0.760900  2.080944  1.029460  0.589565  \n",
              "7   0.346705  1.076553  1.163720  0.746957  1.040115  \n",
              "8   3.290314  2.604679  4.565403  2.847209  2.818025  \n",
              "9   2.063992  1.666310  3.354950  1.701996  1.944028  \n",
              "10  1.226580  0.850998  2.531533  0.850998  1.124318  \n",
              "11  0.760900  1.244842  1.675303  0.910167  1.334546  \n",
              "12  0.581860  0.589565  1.878261  0.327381  0.760900  \n",
              "13  3.257752  2.512503  4.415864  2.827637  2.647040  \n",
              "14  2.358261  3.101816  1.386820  2.796104  2.987828  \n",
              "15  1.951742  1.878261  3.098851  1.745579  2.128502  \n",
              "16  0.589565  0.581860  1.471955  0.581860  0.327381  \n",
              "17  0.760900  1.471955  0.581860  1.202258  1.334546  \n",
              "18  1.560172  0.910167  2.512503  1.244842  0.866762  \n",
              "22  0.902414  1.521801  0.444220  1.309525  1.332661  \n",
              "23  1.878261  1.399370  3.185417  1.482783  1.675303  \n",
              "24  0.888441  0.833155  1.493914  0.902414  0.555437  \n",
              "25  1.645157  2.358891  0.520057  2.088618  2.206858  \n",
              "26  0.746957  0.000000  1.962513  0.346705  0.277718  \n",
              "27  0.982144  1.645157  0.327381  1.409012  1.471955  \n",
              "28  1.734942  1.163720  3.041781  1.309525  1.431220  \n",
              "29       inf  0.746957  1.309525  0.444220  0.693410  \n",
              "30       inf       inf  1.962513  0.346705  0.277718  \n",
              "31       inf       inf       inf  1.734942  1.776882  \n",
              "32       inf       inf       inf       inf  0.444220  \n",
              "33       inf       inf       inf       inf       inf  \n",
              "\n",
              "[30 rows x 30 columns]"
            ]
          },
          "execution_count": 71,
          "metadata": {},
          "output_type": "execute_result"
        }
      ],
      "source": [
        "distances = df.T.apply(lambda x: np.sqrt(((df - x) ** 2).sum(axis=1)))\n",
        "for i in range(len(distances)):\n",
        "    for j in range(len(distances)):\n",
        "        if(i >= j):\n",
        "            distances.iat[i,j] = inf\n",
        "distances"
      ]
    },
    {
      "cell_type": "markdown",
      "metadata": {
        "id": "WbOwZ_oTKaP8"
      },
      "source": [
        "# Calculate the mean of all distances"
      ]
    },
    {
      "cell_type": "code",
      "execution_count": 72,
      "metadata": {
        "colab": {
          "base_uri": "https://localhost:8080/"
        },
        "id": "oowC8jvPiAwY",
        "outputId": "4bdf5d8e-ebeb-46ea-f94a-bf90d0b81fe2"
      },
      "outputs": [
        {
          "data": {
            "text/plain": [
              "1.7513144139121724"
            ]
          },
          "execution_count": 72,
          "metadata": {},
          "output_type": "execute_result"
        }
      ],
      "source": [
        "m = 0\n",
        "k = 0\n",
        "for i in range(len(distances)):\n",
        "    for j in range(len(distances)):\n",
        "        if(distances.iat[i,j] != inf):\n",
        "           k = k+1\n",
        "           m = m + distances.iat[i,j] \n",
        "m = m / k\n",
        "\n",
        "m\n",
        "\n"
      ]
    },
    {
      "cell_type": "markdown",
      "metadata": {
        "id": "M61NLqvb-dRZ"
      },
      "source": [
        "# Retrieve the index of min value"
      ]
    },
    {
      "cell_type": "code",
      "execution_count": 73,
      "metadata": {
        "colab": {
          "base_uri": "https://localhost:8080/"
        },
        "id": "YYNHGTgT-RGK",
        "outputId": "08a1e378-0a01-4716-f209-dbcad06f7edc"
      },
      "outputs": [
        {
          "name": "stdout",
          "output_type": "stream",
          "text": [
            "0.0\n",
            "[0, 20]\n"
          ]
        }
      ],
      "source": [
        "minval = min(distances.min())\n",
        "\n",
        "print(minval)\n",
        "for i in range(len(distances)):\n",
        "    for j in range(len(distances)):\n",
        "        if(distances.iloc[i,j]==minval):\n",
        "          minindice = [i, j]\n",
        "    break\n",
        "\n",
        "print(minindice)\n"
      ]
    },
    {
      "cell_type": "markdown",
      "metadata": {
        "id": "qB7K6vK6DArB"
      },
      "source": [
        "# Initialize points list"
      ]
    },
    {
      "cell_type": "code",
      "execution_count": 74,
      "metadata": {
        "colab": {
          "base_uri": "https://localhost:8080/"
        },
        "id": "HTAazM6PDAJr",
        "outputId": "301aaea4-efd5-4b61-a506-a35a40c00657"
      },
      "outputs": [
        {
          "data": {
            "text/plain": [
              "[array([-0.65726655,  0.39871073]),\n",
              " array([-0.93498481, -0.46805173]),\n",
              " array([-0.93498481,  0.05200575]),\n",
              " array([-1.21270307, -1.3348142 ]),\n",
              " array([-0.65726655,  0.05200575]),\n",
              " array([-0.37954829,  0.91876821]),\n",
              " array([-0.10183003, -0.64140422]),\n",
              " array([2.11991605, 2.13223566]),\n",
              " array([1.84219779, 0.39871073]),\n",
              " array([1.00904301, 0.22535824]),\n",
              " array([ 0.45360649, -0.81475672]),\n",
              " array([ 0.45360649, -0.12134675]),\n",
              " array([1.28676127, 2.65229314]),\n",
              " array([-1.21270307, -2.37492915]),\n",
              " array([ 1.84219779, -0.46805173]),\n",
              " array([-0.37954829,  0.22535824]),\n",
              " array([-0.65726655, -0.81475672]),\n",
              " array([-0.10183003,  1.2654732 ]),\n",
              " array([-0.93498481, -0.64140422]),\n",
              " array([1.56447953, 0.57206323]),\n",
              " array([-0.65726655,  0.39871073]),\n",
              " array([-1.21270307, -1.50816669]),\n",
              " array([0.17588823, 0.39871073]),\n",
              " array([-0.93498481, -0.81475672]),\n",
              " array([1.28676127, 0.74541572]),\n",
              " array([-0.10183003, -0.29469924]),\n",
              " array([0.17588823, 0.39871073]),\n",
              " array([-1.21270307, -0.98810921]),\n",
              " array([0.17588823, 0.05200575]),\n",
              " array([-0.10183003,  0.39871073])]"
            ]
          },
          "execution_count": 74,
          "metadata": {},
          "output_type": "execute_result"
        }
      ],
      "source": [
        "points = []\n",
        "for i in range(df.shape[0]):\n",
        "      point = df.iloc[i,0:]\n",
        "      point = np.array(point)\n",
        "      points.append(point)\n",
        "\n",
        "points"
      ]
    },
    {
      "cell_type": "markdown",
      "metadata": {
        "id": "m18M6sQmExj9"
      },
      "source": [
        "# Create the first cluster from the 2 points with the min distance"
      ]
    },
    {
      "cell_type": "code",
      "execution_count": 75,
      "metadata": {
        "colab": {
          "base_uri": "https://localhost:8080/"
        },
        "id": "2V6tnd4iE7Er",
        "outputId": "40c4922d-f57c-40df-d36d-0091a0e6d10d"
      },
      "outputs": [
        {
          "name": "stdout",
          "output_type": "stream",
          "text": [
            "[array([-0.65726655,  0.39871073, -0.65726655,  0.39871073])]\n",
            "[array([-0.65726655,  0.39871073]), array([-0.93498481, -0.46805173]), array([-0.93498481,  0.05200575]), array([-1.21270307, -1.3348142 ]), array([-0.65726655,  0.05200575]), array([-0.37954829,  0.91876821]), array([-0.10183003, -0.64140422]), array([2.11991605, 2.13223566]), array([1.84219779, 0.39871073]), array([1.00904301, 0.22535824]), array([ 0.45360649, -0.81475672]), array([ 0.45360649, -0.12134675]), array([1.28676127, 2.65229314]), array([-1.21270307, -2.37492915]), array([ 1.84219779, -0.46805173]), array([-0.37954829,  0.22535824]), array([-0.65726655, -0.81475672]), array([-0.10183003,  1.2654732 ]), array([-0.93498481, -0.64140422]), array([1.56447953, 0.57206323]), array([-0.65726655,  0.39871073]), array([-1.21270307, -1.50816669]), array([0.17588823, 0.39871073]), array([-0.93498481, -0.81475672]), array([1.28676127, 0.74541572]), array([-0.10183003, -0.29469924]), array([0.17588823, 0.39871073]), array([-1.21270307, -0.98810921]), array([0.17588823, 0.05200575]), array([-0.10183003,  0.39871073])]\n"
          ]
        },
        {
          "data": {
            "text/plain": [
              "[array([-0.93498481, -0.46805173]),\n",
              " array([-0.93498481,  0.05200575]),\n",
              " array([-1.21270307, -1.3348142 ]),\n",
              " array([-0.65726655,  0.05200575]),\n",
              " array([-0.37954829,  0.91876821]),\n",
              " array([-0.10183003, -0.64140422]),\n",
              " array([2.11991605, 2.13223566]),\n",
              " array([1.84219779, 0.39871073]),\n",
              " array([1.00904301, 0.22535824]),\n",
              " array([ 0.45360649, -0.81475672]),\n",
              " array([ 0.45360649, -0.12134675]),\n",
              " array([1.28676127, 2.65229314]),\n",
              " array([-1.21270307, -2.37492915]),\n",
              " array([ 1.84219779, -0.46805173]),\n",
              " array([-0.37954829,  0.22535824]),\n",
              " array([-0.65726655, -0.81475672]),\n",
              " array([-0.10183003,  1.2654732 ]),\n",
              " array([-0.93498481, -0.64140422]),\n",
              " array([1.56447953, 0.57206323]),\n",
              " array([-1.21270307, -1.50816669]),\n",
              " array([0.17588823, 0.39871073]),\n",
              " array([-0.93498481, -0.81475672]),\n",
              " array([1.28676127, 0.74541572]),\n",
              " array([-0.10183003, -0.29469924]),\n",
              " array([0.17588823, 0.39871073]),\n",
              " array([-1.21270307, -0.98810921]),\n",
              " array([0.17588823, 0.05200575]),\n",
              " array([-0.10183003,  0.39871073])]"
            ]
          },
          "execution_count": 75,
          "metadata": {},
          "output_type": "execute_result"
        }
      ],
      "source": [
        "clusters = []\n",
        "clusters.append(np.concatenate((points[minindice[0]], points[minindice[1]])))\n",
        "print(clusters)\n",
        "print(points)\n",
        "points.pop(minindice[0])\n",
        "points.pop(minindice[1]-1)\n",
        "\n",
        "points\n"
      ]
    },
    {
      "cell_type": "markdown",
      "metadata": {
        "id": "7xzxLJ9sKdsG"
      },
      "source": [
        "# Function to calculate the center of a cluster"
      ]
    },
    {
      "cell_type": "code",
      "execution_count": 76,
      "metadata": {
        "colab": {
          "base_uri": "https://localhost:8080/"
        },
        "id": "MLBiiz93KbuZ",
        "outputId": "1310a479-684e-47bd-daab-977ae3aedd98"
      },
      "outputs": [
        {
          "data": {
            "text/plain": [
              "[-0.6572665474697685, 0.39871073402157226]"
            ]
          },
          "execution_count": 76,
          "metadata": {},
          "output_type": "execute_result"
        }
      ],
      "source": [
        "def cluster_center(cluster):\n",
        "  center = []\n",
        "  nbrCordonnee = df.shape[1]\n",
        "  i = 0\n",
        "  while(i<nbrCordonnee):\n",
        "    j = i\n",
        "    c = cluster[i]\n",
        "    while(j<len(cluster)-nbrCordonnee):\n",
        "      c = c + cluster[j+nbrCordonnee]\n",
        "      j = j+ nbrCordonnee\n",
        "    c = c / (len(cluster)/nbrCordonnee)\n",
        "    center.append(c)\n",
        "    i = i + 1\n",
        "\n",
        "  return center\n",
        "cluster_center(clusters[0])\n"
      ]
    },
    {
      "cell_type": "markdown",
      "metadata": {
        "id": "AfXJcSqw83hJ"
      },
      "source": [
        "## The center of the first cluster"
      ]
    },
    {
      "cell_type": "code",
      "execution_count": 77,
      "metadata": {
        "colab": {
          "base_uri": "https://localhost:8080/"
        },
        "id": "_Ad4oqun87vP",
        "outputId": "21f3ba02-0024-410b-ce2e-68b8222229fc"
      },
      "outputs": [
        {
          "name": "stdout",
          "output_type": "stream",
          "text": [
            "[-0.65726655  0.39871073 -0.65726655  0.39871073]\n"
          ]
        },
        {
          "data": {
            "text/plain": [
              "[-0.6572665474697685, 0.39871073402157226]"
            ]
          },
          "execution_count": 77,
          "metadata": {},
          "output_type": "execute_result"
        }
      ],
      "source": [
        "print(clusters[0])\n",
        "center = cluster_center(clusters[0])\n",
        "center"
      ]
    },
    {
      "cell_type": "markdown",
      "metadata": {
        "id": "Xk6yzasvl38V"
      },
      "source": [
        "# Calculate the distance between c1 and the the farthest point from c1\n"
      ]
    },
    {
      "cell_type": "code",
      "execution_count": 78,
      "metadata": {
        "colab": {
          "base_uri": "https://localhost:8080/"
        },
        "id": "S48pUZEBeSuD",
        "outputId": "c98b8ea9-366c-4cdd-a642-8651b7618605"
      },
      "outputs": [
        {
          "name": "stdout",
          "output_type": "stream",
          "text": [
            "[2.11991605 2.13223566] 3.273813044511962\n"
          ]
        }
      ],
      "source": [
        "d = 0\n",
        "dmax = 0\n",
        "for i in range (len(points)):\n",
        "  d = 0\n",
        "  for j in range (df.shape[1]):\n",
        "    d = d + ((center[j]-points[i][j])**2)\n",
        "  d = np.sqrt(d)\n",
        "  if(d > dmax):\n",
        "    dmax = d\n",
        "    c2indix = i \n",
        "print(points[c2indix],dmax)"
      ]
    },
    {
      "cell_type": "markdown",
      "metadata": {
        "id": "2XsNhspRrm3Z"
      },
      "source": [
        "# Make the new point as a new cluster\n"
      ]
    },
    {
      "cell_type": "code",
      "execution_count": 79,
      "metadata": {
        "colab": {
          "base_uri": "https://localhost:8080/"
        },
        "id": "QCTxufzRVHqt",
        "outputId": "10f83c07-9953-4232-cf42-37661573c8a3"
      },
      "outputs": [
        {
          "name": "stdout",
          "output_type": "stream",
          "text": [
            "[array([-0.65726655,  0.39871073, -0.65726655,  0.39871073]), array([2.11991605, 2.13223566])]\n",
            "[array([-0.93498481, -0.46805173]), array([-0.93498481,  0.05200575]), array([-1.21270307, -1.3348142 ]), array([-0.65726655,  0.05200575]), array([-0.37954829,  0.91876821]), array([-0.10183003, -0.64140422]), array([1.84219779, 0.39871073]), array([1.00904301, 0.22535824]), array([ 0.45360649, -0.81475672]), array([ 0.45360649, -0.12134675]), array([1.28676127, 2.65229314]), array([-1.21270307, -2.37492915]), array([ 1.84219779, -0.46805173]), array([-0.37954829,  0.22535824]), array([-0.65726655, -0.81475672]), array([-0.10183003,  1.2654732 ]), array([-0.93498481, -0.64140422]), array([1.56447953, 0.57206323]), array([-1.21270307, -1.50816669]), array([0.17588823, 0.39871073]), array([-0.93498481, -0.81475672]), array([1.28676127, 0.74541572]), array([-0.10183003, -0.29469924]), array([0.17588823, 0.39871073]), array([-1.21270307, -0.98810921]), array([0.17588823, 0.05200575]), array([-0.10183003,  0.39871073])]\n"
          ]
        }
      ],
      "source": [
        "clusters.append(points[c2indix])\n",
        "print(clusters)\n",
        "points.pop(c2indix)\n",
        "\n",
        "print(points)\n"
      ]
    },
    {
      "cell_type": "markdown",
      "metadata": {
        "id": "GpFTXtrZrtir"
      },
      "source": [
        "# Apply my method"
      ]
    },
    {
      "cell_type": "markdown",
      "metadata": {
        "id": "Y6n_rXBiLQ13"
      },
      "source": [
        "## Function to calculate the center of each cluster"
      ]
    },
    {
      "cell_type": "code",
      "execution_count": 80,
      "metadata": {
        "colab": {
          "base_uri": "https://localhost:8080/"
        },
        "id": "CNjaSnHRVW9g",
        "outputId": "81a6e695-2d71-4dfd-c122-b4cb00307846"
      },
      "outputs": [
        {
          "data": {
            "text/plain": [
              "[[-0.6572665474697685, 0.39871073402157226],\n",
              " [2.119916047472916, 2.1322356645501466]]"
            ]
          },
          "execution_count": 80,
          "metadata": {},
          "output_type": "execute_result"
        }
      ],
      "source": [
        "def centerOfEachCLuster(clusters):\n",
        "  clusters_centers = []\n",
        "  for i in range(len(clusters)):\n",
        "    clusters_centers.append(cluster_center(clusters[i]))\n",
        "  return clusters_centers\n",
        "  \n",
        "clusters_centers = centerOfEachCLuster(clusters)\n",
        "clusters_centers"
      ]
    },
    {
      "cell_type": "markdown",
      "metadata": {
        "id": "34wFPpqYV6cf"
      },
      "source": [
        "## Function to calculate the center point of all clusters"
      ]
    },
    {
      "cell_type": "code",
      "execution_count": 81,
      "metadata": {
        "colab": {
          "base_uri": "https://localhost:8080/"
        },
        "id": "a8NPyXKjRF17",
        "outputId": "5eaddfff-60a5-4bc9-b182-83a059091dc5"
      },
      "outputs": [
        {
          "data": {
            "text/plain": [
              "[0.7313247500015738, 1.2654731992858594]"
            ]
          },
          "execution_count": 81,
          "metadata": {},
          "output_type": "execute_result"
        }
      ],
      "source": [
        "def centerPoint(clusters_centers):\n",
        "  cc = []\n",
        "  for j in range(df.shape[1]):\n",
        "    c = 0\n",
        "    for i in range(len(clusters_centers)):\n",
        "      c = c + clusters_centers[i][j]\n",
        "    c = c / len(clusters_centers)\n",
        "    cc.append(c)\n",
        "  return cc\n",
        "\n",
        "centerPoint(clusters_centers)\n"
      ]
    },
    {
      "cell_type": "markdown",
      "metadata": {
        "id": "cf8-P8qfTiHS"
      },
      "source": [
        "### add a point to a cluster (doesn't work i added it to the code directly)"
      ]
    },
    {
      "cell_type": "code",
      "execution_count": 82,
      "metadata": {
        "id": "Y0FBMwqaThuK"
      },
      "outputs": [],
      "source": [
        "def AddDataCLuster(cluster, point):\n",
        " cluster =  np.concatenate((cluster, point))\n",
        "\n",
        "\n"
      ]
    },
    {
      "cell_type": "markdown",
      "metadata": {
        "id": "mynOICVjZq9c"
      },
      "source": [
        "### Create new cluster"
      ]
    },
    {
      "cell_type": "code",
      "execution_count": 83,
      "metadata": {
        "id": "w-NANlL3Zumv"
      },
      "outputs": [],
      "source": [
        "def newCluster(clusters,point):\n",
        "  clusters.append(point)\n"
      ]
    },
    {
      "cell_type": "markdown",
      "metadata": {
        "id": "ojuQKNY5CBGN"
      },
      "source": [
        "# Assign each element to its cluster"
      ]
    },
    {
      "cell_type": "code",
      "execution_count": 84,
      "metadata": {
        "colab": {
          "base_uri": "https://localhost:8080/"
        },
        "id": "ZnIA_wlnAzIX",
        "outputId": "5dbf6614-46f6-48a8-8e43-9046e5e2dfd9"
      },
      "outputs": [
        {
          "name": "stdout",
          "output_type": "stream",
          "text": [
            "The total number of clusters:  2\n",
            "The  0  cluster contains  23.0  element\n",
            "The  1  cluster contains  7.0  element\n",
            "[ 2.11991605  2.13223566  1.84219779  0.39871073  1.00904301  0.22535824\n",
            "  1.28676127  2.65229314  1.84219779 -0.46805173  1.56447953  0.57206323\n",
            "  1.28676127  0.74541572]\n"
          ]
        }
      ],
      "source": [
        "#assign the rest of data to their clusters\n",
        "while(len(points)!= 0):\n",
        "  #calculate the min dist between a point from the dataset and the center of each cluster\n",
        "  p1  = points[0]\n",
        "  distmin = inf\n",
        "  dist = 0\n",
        "  clusters_centers = centerOfEachCLuster(clusters)\n",
        "  for i in range(len(clusters_centers)):\n",
        "    dist = np.linalg.norm(p1 - clusters_centers[i])\n",
        "    if(dist < distmin):\n",
        "      distmin = dist \n",
        "      distminindex = i #the closest cluster to the current point\n",
        "  #the center point of all clusters\n",
        "  centerPoint(clusters_centers)\n",
        "  #calculate the distance between the center of the closest cluster and the center of all the clusters\n",
        "  distCenterClosetCluster = np.linalg.norm(np.array(cluster_center(clusters[distminindex])) - np.array(centerPoint(clusters_centers)))\n",
        "  #calculate the distance between the current point from the dataset and the  center of all clusters\n",
        "  distCenterPoint = np.linalg.norm(p1 - centerPoint(clusters_centers))\n",
        "  #calculate the distance between the point and the the center the closest clusters\n",
        "  distPointClosetCluster = np.linalg.norm(np.array(p1) - np.array(cluster_center(clusters[distminindex])))\n",
        "\n",
        "  if(distPointClosetCluster > m):\n",
        "    x1 = m / distPointClosetCluster\n",
        "  else:\n",
        "    x1 = distPointClosetCluster / m\n",
        "\n",
        "  if(x1 >= 0.036):\n",
        "    #add data to the existing cluster\n",
        "    clusters[distminindex] =  np.concatenate((clusters[distminindex], p1))\n",
        "  else: #create new cluster using the curent data\n",
        "    newCluster(clusters, p1)\n",
        "  points.pop(0)\n",
        "\n",
        "print('The total number of clusters: ',len(clusters))\n",
        "for i in range(len(clusters)):\n",
        "  print('The ',i,' cluster contains ',len(clusters[i])/2,' element')\n",
        "print(clusters[i])\n",
        "\n",
        "  \n",
        "\n",
        "\n",
        "\n",
        "\n",
        "\n",
        "\n"
      ]
    },
    {
      "cell_type": "code",
      "execution_count": 85,
      "metadata": {
        "colab": {
          "base_uri": "https://localhost:8080/",
          "height": 265
        },
        "id": "uNATFC5g5hOr",
        "outputId": "d67e9f4c-99c2-4760-d85f-2732c8f1b712"
      },
      "outputs": [
        {
          "data": {
            "image/png": "[encoded data removed]",
            "text/plain": [
              "<Figure size 432x288 with 1 Axes>"
            ]
          },
          "metadata": {
            "needs_background": "light"
          },
          "output_type": "display_data"
        }
      ],
      "source": [
        "clusterlist = []\n",
        "for i in range(len(clusters)):\n",
        "  c1 = []\n",
        "  c2 = []\n",
        "  j = 0\n",
        "  while (j < len(clusters[i]-1)):\n",
        "    c1.append(clusters[i][j])\n",
        "    c2.append(clusters[i][j+1])\n",
        "    j += 2\n",
        "  clusterlist.append(c1)\n",
        "  clusterlist.append(c2)\n",
        "  plt.scatter(c1, c2)\n",
        "\n",
        "  "
      ]
    },
    {
      "cell_type": "markdown",
      "metadata": {
        "id": "amVP_tNblTd4"
      },
      "source": [
        "# Comparing our clustering algorithm results with kmeans results\n"
      ]
    },
    {
      "cell_type": "markdown",
      "metadata": {
        "id": "8oZa3ih4lcBz"
      },
      "source": [
        "## Number of elements for each cluster"
      ]
    },
    {
      "cell_type": "code",
      "execution_count": 86,
      "metadata": {
        "colab": {
          "base_uri": "https://localhost:8080/"
        },
        "id": "RWrZjJO3lkMi",
        "outputId": "670944e5-2402-4f4a-b101-8befb50288a1"
      },
      "outputs": [
        {
          "name": "stdout",
          "output_type": "stream",
          "text": [
            "The  0  cluster contains  23.0  element\n",
            "The  1  cluster contains  7.0  element\n",
            "[23.0, 7.0]\n"
          ]
        }
      ],
      "source": [
        "nbrElem = []\n",
        "for i in range(len(clusters)):\n",
        "  print('The ',i,' cluster contains ',len(clusters[i])/2,' element')\n",
        "  nbrElem.append(len(clusters[i])/2)\n",
        "print(nbrElem)"
      ]
    },
    {
      "cell_type": "markdown",
      "metadata": {
        "id": "MQt_VB8inXTa"
      },
      "source": [
        "## Interdistance"
      ]
    },
    {
      "cell_type": "code",
      "execution_count": 87,
      "metadata": {
        "colab": {
          "base_uri": "https://localhost:8080/"
        },
        "id": "cost9taMl4_Y",
        "outputId": "f41a87fe-ad39-4b37-e76a-20eadc9c3c08"
      },
      "outputs": [
        {
          "name": "stdout",
          "output_type": "stream",
          "text": [
            "[[-0.47614594345176725, -0.27208804344383264], [1.5644795284843789, 0.8940035713154506]]\n",
            "la distance entre le cluster 0 et le cluster 1 est 2.3503025274901383\n"
          ]
        },
        {
          "data": {
            "text/plain": [
              "[2.3503025274901383]"
            ]
          },
          "execution_count": 87,
          "metadata": {},
          "output_type": "execute_result"
        }
      ],
      "source": [
        "#le centre de chaque cluster\n",
        "clusters_centers = centerOfEachCLuster(clusters)\n",
        "print(clusters_centers)\n",
        "#la distance entre les clusters\n",
        "distanceEntreCluster = []\n",
        "for i in range(len(clusters_centers)-1):\n",
        "  j = i + 1\n",
        "  while(j<len(clusters_centers)):\n",
        "      d = 0\n",
        "      d = ((clusters_centers[i][0]-clusters_centers[j][0])**2)+((clusters_centers[i][1]-clusters_centers[j][1])**2)\n",
        "      d = np.sqrt(d)\n",
        "      print(\"la distance entre le cluster\",i,\"et le cluster\",j,\"est\",d)\n",
        "      distanceEntreCluster.append(d) \n",
        "      j = j + 1\n",
        "\n",
        "distanceEntreCluster"
      ]
    },
    {
      "cell_type": "markdown",
      "metadata": {
        "id": "i5Y1u0NHD5Ep"
      },
      "source": [
        "\n",
        "\n",
        "---\n",
        "\n",
        "\n",
        "\n",
        "---\n",
        "\n",
        "\n",
        "#**kmeans**\n"
      ]
    },
    {
      "cell_type": "markdown",
      "metadata": {
        "id": "mJxNTk-5FPkQ"
      },
      "source": [
        "# Results using  KMeans  k=2"
      ]
    },
    {
      "cell_type": "code",
      "execution_count": 88,
      "metadata": {
        "colab": {
          "base_uri": "https://localhost:8080/",
          "height": 265
        },
        "id": "ZQlJcSlbFQbk",
        "outputId": "731b0b06-6a79-4c5d-875b-b2938e2401a4"
      },
      "outputs": [
        {
          "data": {
            "image/png": "[encoded data removed]",
            "text/plain": [
              "<Figure size 432x288 with 1 Axes>"
            ]
          },
          "metadata": {
            "needs_background": "light"
          },
          "output_type": "display_data"
        }
      ],
      "source": [
        "kmeans = KMeans(n_clusters=2)\n",
        "kmeans.fit(df[['X','Y']])\n",
        "df['kmeans_2'] = kmeans.labels_\n",
        "df\n",
        "plt.scatter(x=df['X'],y = df['Y'], c = df['kmeans_2'])\n",
        "plt.show()"
      ]
    },
    {
      "cell_type": "markdown",
      "metadata": {
        "id": "5H0mwcnKFphO"
      },
      "source": [
        "## Number of elements for each cluster"
      ]
    },
    {
      "cell_type": "code",
      "execution_count": 89,
      "metadata": {
        "colab": {
          "base_uri": "https://localhost:8080/"
        },
        "id": "2PErG6KDFqn-",
        "outputId": "5f95658c-e27a-4073-b276-c9b83833d0f6"
      },
      "outputs": [
        {
          "name": "stdout",
          "output_type": "stream",
          "text": [
            "[22, 8]\n",
            "[-0.6572665474697685, 0.39871073402157226, -0.9349848069640371, -0.468051731242715, -0.9349848069640371, 0.05200574791585735, -1.2127030664583056, -1.3348141965070022, -0.6572665474697685, 0.05200574791585735, -0.3795482879755001, 0.9187682131801446, -0.10183002848123165, -0.6414042242955724, 0.4536064905073053, -0.8147567173484298, 0.4536064905073053, -0.12134674513700008, -1.2127030664583056, -2.3749291548241467, -0.3795482879755001, 0.2253582409687148, -0.6572665474697685, -0.8147567173484298, -0.9349848069640371, -0.6414042242955724, -0.6572665474697685, 0.39871073402157226, -1.2127030664583056, -1.5081666895598596, 0.1758882310130368, 0.39871073402157226, -0.9349848069640371, -0.8147567173484298, -0.10183002848123165, -0.29469923818985755, 0.1758882310130368, 0.39871073402157226, -1.2127030664583056, -0.9881092104012873, 0.1758882310130368, 0.05200574791585735, -0.10183002848123165, 0.39871073402157226]\n",
            "[2.119916047472916, 2.1322356645501466, 1.8421977879786475, 0.39871073402157226, 1.0090430094958422, 0.2253582409687148, 1.2867612689901107, 2.652293143708719, 1.8421977879786475, -0.468051731242715, -0.10183002848123165, 1.2654731992858594, 1.564479528484379, 0.5720632270744297, 1.2867612689901107, 0.7454157201272871]\n"
          ]
        }
      ],
      "source": [
        "kmeansNbrElem =[]\n",
        "kmeansclusters = []\n",
        "c1 = []\n",
        "c2 = []\n",
        "\n",
        "c1len = 0\n",
        "c2len = 0\n",
        "\n",
        "for i in range(df.shape[0]):\n",
        "  if(df.iloc[i,2]==0):\n",
        "    c1.append(df.iloc[i,0])\n",
        "    c1.append(df.iloc[i,1])\n",
        "    c1len += 1\n",
        "  else:\n",
        "    c2len += 1\n",
        "    c2.append(df.iloc[i,0])\n",
        "    c2.append(df.iloc[i,1])\n",
        "\n",
        "#number of elements for each cluster\n",
        "kmeansNbrElem.append(c1len)\n",
        "kmeansNbrElem.append(c2len)\n",
        "\n",
        "#liste of elements of each cluster\n",
        "kmeansclusters.append(c1)\n",
        "kmeansclusters.append(c2)\n",
        "\n",
        "\n",
        "print(kmeansNbrElem)\n",
        "print(c1)\n",
        "print(c2)\n"
      ]
    },
    {
      "cell_type": "markdown",
      "metadata": {
        "id": "-Xx33zOFGLV_"
      },
      "source": [
        "## Interdistance"
      ]
    },
    {
      "cell_type": "code",
      "execution_count": 90,
      "metadata": {
        "colab": {
          "base_uri": "https://localhost:8080/"
        },
        "id": "QwwkuVB0GMFr",
        "outputId": "062316ad-7bbe-4e8a-b923-2a428bae2e08"
      },
      "outputs": [
        {
          "name": "stdout",
          "output_type": "stream",
          "text": [
            "la distance entre le cluster 0 et le cluster 1 est 2.2504858342053304\n"
          ]
        }
      ],
      "source": [
        "def cluster_center(cluster):\n",
        "  center = []\n",
        "  nbrCordonnee = 2\n",
        "  i = 0\n",
        "  while(i<nbrCordonnee):\n",
        "    j = i\n",
        "    c = cluster[i]\n",
        "    while(j<len(cluster)-nbrCordonnee):\n",
        "      c = c + cluster[j+nbrCordonnee]\n",
        "      j = j+ nbrCordonnee\n",
        "    c = c / (len(cluster)/nbrCordonnee)\n",
        "    center.append(c)\n",
        "    i = i + 1\n",
        "\n",
        "  return center \n",
        "\n",
        "def centerOfEachCLuster(clusters):\n",
        "  clusters_centers = []\n",
        "  for i in range(len(clusters)):\n",
        "    clusters_centers.append(cluster_center(clusters[i]))\n",
        "  return clusters_centers\n",
        "  \n",
        "clusters_centers = centerOfEachCLuster(kmeansclusters)\n",
        "clusters_centers\n",
        "#la distance entre les clusters\n",
        "distanceEntreClusterKMeans = []\n",
        "for i in range(len(clusters_centers)-1):\n",
        "  j = i + 1\n",
        "  while(j<len(clusters_centers)):\n",
        "      d = ((clusters_centers[i][0]-clusters_centers[j][0])**2)+((clusters_centers[i][1]-clusters_centers[j][1])**2)\n",
        "      d = np.sqrt(d)\n",
        "      print(\"la distance entre le cluster\",i,\"et le cluster\",j,\"est\",d)\n",
        "      distanceEntreClusterKMeans.append(d)\n",
        "      j = j + 1\n",
        "      d = 0"
      ]
    },
    {
      "cell_type": "markdown",
      "metadata": {
        "id": "jwmNIkz2cbQC"
      },
      "source": [
        "## Comparison between the number of individuals for each cluster from our clustring algorithm and kmeans algorithm"
      ]
    },
    {
      "cell_type": "code",
      "execution_count": 91,
      "metadata": {
        "colab": {
          "base_uri": "https://localhost:8080/",
          "height": 295
        },
        "id": "6ALWVnCoI6JJ",
        "outputId": "137e3e04-873c-4679-dbee-9009288b191b"
      },
      "outputs": [
        {
          "data": {
            "image/png": "[encoded data removed]",
            "text/plain": [
              "<Figure size 432x288 with 1 Axes>"
            ]
          },
          "metadata": {
            "needs_background": "light"
          },
          "output_type": "display_data"
        }
      ],
      "source": [
        "# x-coordinates of left sides of bars \n",
        "left = np.arange(2)\n",
        "  \n",
        "# heights of bars\n",
        "height = nbrElem\n",
        "height1 = kmeansNbrElem\n",
        "width = 0.35\n",
        "# labels for bars\n",
        "tick_label = ['C1', 'C2']\n",
        "# plotting a bar chart\n",
        "plt.bar(left, height, label= \"clustering\", width = 0.35, color = ['blue'])\n",
        "plt.bar(left+width, height1, label= \"Kmeans\", width = 0.35, color = ['green'])\n",
        "  \n",
        "# naming the x-axis\n",
        "plt.xlabel('clusters - axis')\n",
        "# naming the y-axis\n",
        "plt.ylabel('individuals number  - axis')\n",
        "# plot title\n",
        "plt.title('The number of individuals for each cluster')\n",
        "\n",
        "# showing legend\n",
        "plt.legend()\n",
        "# function to show the plot\n",
        "plt.show()\n",
        "#--------------------------------"
      ]
    },
    {
      "cell_type": "markdown",
      "metadata": {
        "id": "bf8RRSHCc6xk"
      },
      "source": [
        "## Comparison between interdistance of clustering and kmeans algorithm"
      ]
    },
    {
      "cell_type": "code",
      "execution_count": 92,
      "metadata": {
        "colab": {
          "base_uri": "https://localhost:8080/"
        },
        "id": "6w9VfnLIeD9N",
        "outputId": "8b46e6ff-f03b-4e4e-b0e8-b771a1e2e516"
      },
      "outputs": [
        {
          "name": "stdout",
          "output_type": "stream",
          "text": [
            "[2.3503025274901383]\n",
            "[2.2504858342053304]\n"
          ]
        }
      ],
      "source": [
        "print(distanceEntreCluster)\n",
        "print(distanceEntreClusterKMeans)"
      ]
    },
    {
      "cell_type": "code",
      "execution_count": 93,
      "metadata": {
        "colab": {
          "base_uri": "https://localhost:8080/",
          "height": 295
        },
        "id": "hsZw-xEtc7Mj",
        "outputId": "92bb8088-88f4-4a08-e377-d9e8164a3331"
      },
      "outputs": [
        {
          "data": {
            "image/png": "[encoded data removed]",
            "text/plain": [
              "<Figure size 432x288 with 1 Axes>"
            ]
          },
          "metadata": {
            "needs_background": "light"
          },
          "output_type": "display_data"
        }
      ],
      "source": [
        "# x-axis values\n",
        "x = ['c1c2']\n",
        "# y-axis values\n",
        "y1 = distanceEntreCluster\n",
        "y2 = distanceEntreClusterKMeans\n",
        "# plotting points as a scatter plot\n",
        "plt.scatter(x, y1, label= \"clustering\", color= \"blue\", \n",
        "            marker= \"*\", s=30)\n",
        "plt.scatter(x, y2, label= \"kmeans\", color= \"green\", \n",
        "            marker= \"*\", s=30) \n",
        "plt.yticks(np.arange(0, 3, 0.5))\n",
        "# x-axis label\n",
        "plt.xlabel('couples of clusters')\n",
        "# frequency label\n",
        "plt.ylabel('distance between couple of clusters')\n",
        "# plot title\n",
        "plt.title('Interdistance')\n",
        "# showing legend\n",
        "plt.legend()\n",
        "  \n",
        "# function to show the plot\n",
        "plt.show()"
      ]
    },
    {
      "cell_type": "markdown",
      "metadata": {
        "id": "PqY0uDVAXKRp"
      },
      "source": [
        "# Comparison between intradistance of clustering and kmeans algorithm"
      ]
    },
    {
      "cell_type": "code",
      "execution_count": 94,
      "metadata": {
        "id": "UN6o4v2emd4k"
      },
      "outputs": [],
      "source": [
        "def intradistance(clstr):\n",
        "  i =0\n",
        "  d = 0\n",
        "  while (i < len(clstr)-3):\n",
        "    j = i + 2\n",
        "    while(j< len(clstr)-1):\n",
        "      d = d + np.sqrt(((clstr[i]-clstr[j])**2)+((clstr[i+1]-clstr[j+1])**2))\n",
        "      j = j+2\n",
        "    i = i + 2\n",
        "  return (d/ (len(clstr)/2))\n",
        "  \n"
      ]
    },
    {
      "cell_type": "code",
      "execution_count": 95,
      "metadata": {
        "colab": {
          "base_uri": "https://localhost:8080/"
        },
        "id": "tQ5QH5ADqQL8",
        "outputId": "03bf4db2-6d92-4fe2-a032-96d0a4bdd666"
      },
      "outputs": [
        {
          "name": "stdout",
          "output_type": "stream",
          "text": [
            "[12.542017523370237, 5.553626028891316]\n",
            "[13.647345439533915, 4.362724064931728]\n"
          ]
        }
      ],
      "source": [
        "intradisKmeans = []\n",
        "intradistancea = []\n",
        "#distance intra kmeans\n",
        "for i in range(len(kmeansclusters)):\n",
        "   intradisKmeans.append(intradistance(kmeansclusters[i]))\n",
        "print(intradisKmeans)\n",
        "#distance intra  clusters\n",
        "for i in range(len(clusters)):\n",
        "   intradistancea.append(intradistance(clusters[i]))\n",
        "print(intradistancea)"
      ]
    },
    {
      "cell_type": "markdown",
      "metadata": {
        "id": "fsuPaq9vv-Nn"
      },
      "source": [
        "# Graphe intraDistance"
      ]
    },
    {
      "cell_type": "code",
      "execution_count": 96,
      "metadata": {
        "colab": {
          "base_uri": "https://localhost:8080/",
          "height": 295
        },
        "id": "wsoyyexCwTI3",
        "outputId": "417a4200-ced4-4a84-ec91-4ccdc3bd5c0b"
      },
      "outputs": [
        {
          "data": {
            "image/png": "[encoded data removed]",
            "text/plain": [
              "<Figure size 432x288 with 1 Axes>"
            ]
          },
          "metadata": {
            "needs_background": "light"
          },
          "output_type": "display_data"
        }
      ],
      "source": [
        "# x-axis values\n",
        "x = ['c1','c2']\n",
        "# y-axis values\n",
        "y1 = intradisKmeans\n",
        "y2 = intradistancea\n",
        "# plotting points as a scatter plot\n",
        "plt.scatter(x, y1, label= \"clustering\", color= \"blue\", \n",
        "            marker= \"*\", s=30)\n",
        "plt.scatter(x, y2, label= \"kmeans\", color= \"green\", \n",
        "            marker= \"*\", s=30) \n",
        "# x-axis label\n",
        "plt.xlabel('Clusters')\n",
        "# frequency label\n",
        "plt.ylabel('intraDistznce')\n",
        "# plot title\n",
        "plt.title('Intradistance')\n",
        "# showing legend\n",
        "plt.legend()\n",
        "  \n",
        "# function to show the plot\n",
        "plt.show()"
      ]
    }
  ],
  "metadata": {
    "colab": {
      "collapsed_sections": [
        "M61NLqvb-dRZ",
        "qB7K6vK6DArB",
        "AfXJcSqw83hJ"
      ],
      "provenance": []
    },
    "kernelspec": {
      "display_name": "Python 3",
      "language": "python",
      "name": "python3"
    },
    "language_info": {
      "codemirror_mode": {
        "name": "ipython",
        "version": 3
      },
      "file_extension": ".py",
      "mimetype": "text/x-python",
      "name": "python",
      "nbconvert_exporter": "python",
      "pygments_lexer": "ipython3",
      "version": "3.6.9 (default, Jun 29 2022, 11:45:57) \n[GCC 8.4.0]"
    },
    "orig_nbformat": 4,
    "vscode": {
      "interpreter": {
        "hash": "31f2aee4e71d21fbe5cf8b01ff0e069b9275f58929596ceb00d14d90e3e16cd6"
      }
    }
  },
  "nbformat": 4,
  "nbformat_minor": 0
}
